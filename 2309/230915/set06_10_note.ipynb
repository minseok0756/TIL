{
 "cells": [
  {
   "cell_type": "markdown",
   "id": "50ee990e",
   "metadata": {},
   "source": [
    "# 문제 06 유형(DataSet_06.csv 이용)"
   ]
  },
  {
   "cell_type": "code",
   "execution_count": null,
   "id": "086471c6",
   "metadata": {},
   "outputs": [],
   "source": [
    "# =============================================================================\n",
    "# 구분자 : comma(“,”), 4,323 Rows, 19 Columns, UTF-8 인코딩\n",
    "\n",
    "# 주택 관련 정보를 바탕으로 주택 가격을 예측해 보고자 한다. \n",
    "# 다음은 확보한 주택 관련 데이터로 총 19개 컬럼으로 구성되어\n",
    "# 있다.\n",
    "\n",
    "# 컬 럼 / 정 의 / Type\n",
    "# id / 매물 번호 / Double\n",
    "# date / 날짜 / String\n",
    "# price / 거래 가격 / Double\n",
    "# bedrooms / 방 개수 / Double\n",
    "# bathrooms / 화장실 개수 (화장실은 있으나 샤워기 없는 경우 0.5로 처리) / Double\n",
    "# sqft_living / 건축물 면적 / Double\n",
    "# sqft_lot / 대지 면적 / Double\n",
    "# floors / 건축물의 층수 / Double\n",
    "# waterfront / 강변 조망 가능 여부 (0 / 1) / Double\n",
    "# view / 경관 (나쁨에서 좋음으로 0 ~ 4로 표시) / Double\n",
    "# condition / 관리 상태 (나쁨에서 좋음으로 1 ~ 5로 표시) / Double\n",
    "# grade / 등급 (낮음에서 높음으로 1 ~ 13으로 표시) / Double\n",
    "# sqft_above / 지상 면적 / Double\n",
    "# sqft_basement / 지하실 면적 / Double\n",
    "# yr_built / 건축 연도 / Double\n",
    "# yr_renovated / 개축 연도 / Double\n",
    "# zipcode / 우편번호 / Double\n",
    "# sqft_living15 / 15개의 인근 주택의 평균 건물 면적 / Double\n",
    "# sqft_lot15 / 15개의 인근 주택의 평균 대지 면적 / Double\n",
    "# =============================================================================\n",
    "# ============================================================================="
   ]
  },
  {
   "cell_type": "code",
   "execution_count": 1,
   "id": "171261af",
   "metadata": {},
   "outputs": [],
   "source": [
    "import pandas as pd\n",
    "import numpy as np\n",
    "import warnings\n",
    "import locale"
   ]
  },
  {
   "cell_type": "code",
   "execution_count": 2,
   "id": "07b3dd32",
   "metadata": {},
   "outputs": [],
   "source": [
    "warnings.filterwarnings('ignore')"
   ]
  },
  {
   "cell_type": "code",
   "execution_count": 3,
   "id": "0ff55074",
   "metadata": {},
   "outputs": [],
   "source": [
    "%matplotlib inline"
   ]
  },
  {
   "cell_type": "code",
   "execution_count": 4,
   "id": "946d37ca",
   "metadata": {},
   "outputs": [],
   "source": [
    "data6 = pd.read_csv('Dataset/Dataset_06.csv')"
   ]
  },
  {
   "cell_type": "code",
   "execution_count": 5,
   "id": "4e423bd5",
   "metadata": {},
   "outputs": [
    {
     "name": "stdout",
     "output_type": "stream",
     "text": [
      "<class 'pandas.core.frame.DataFrame'>\n",
      "RangeIndex: 4323 entries, 0 to 4322\n",
      "Data columns (total 19 columns):\n",
      " #   Column         Non-Null Count  Dtype  \n",
      "---  ------         --------------  -----  \n",
      " 0   id             4323 non-null   int64  \n",
      " 1   date           4323 non-null   object \n",
      " 2   price          4323 non-null   float64\n",
      " 3   bedrooms       4323 non-null   int64  \n",
      " 4   bathrooms      4323 non-null   float64\n",
      " 5   sqft_living    4323 non-null   int64  \n",
      " 6   sqft_lot       4323 non-null   int64  \n",
      " 7   floors         4323 non-null   float64\n",
      " 8   waterfront     4323 non-null   int64  \n",
      " 9   view           4323 non-null   int64  \n",
      " 10  condition      4323 non-null   int64  \n",
      " 11  grade          4323 non-null   int64  \n",
      " 12  sqft_above     4323 non-null   int64  \n",
      " 13  sqft_basement  4323 non-null   int64  \n",
      " 14  yr_built       4323 non-null   int64  \n",
      " 15  yr_renovated   4323 non-null   int64  \n",
      " 16  zipcode        4323 non-null   int64  \n",
      " 17  sqft_living15  4323 non-null   int64  \n",
      " 18  sqft_lot15     4323 non-null   int64  \n",
      "dtypes: float64(3), int64(15), object(1)\n",
      "memory usage: 641.8+ KB\n"
     ]
    }
   ],
   "source": [
    "data6.info()"
   ]
  },
  {
   "cell_type": "code",
   "execution_count": 6,
   "id": "7bccd5de",
   "metadata": {},
   "outputs": [
    {
     "data": {
      "text/plain": [
       "Index(['id', 'date', 'price', 'bedrooms', 'bathrooms', 'sqft_living',\n",
       "       'sqft_lot', 'floors', 'waterfront', 'view', 'condition', 'grade',\n",
       "       'sqft_above', 'sqft_basement', 'yr_built', 'yr_renovated', 'zipcode',\n",
       "       'sqft_living15', 'sqft_lot15'],\n",
       "      dtype='object')"
      ]
     },
     "execution_count": 6,
     "metadata": {},
     "output_type": "execute_result"
    }
   ],
   "source": [
    "data6.columns"
   ]
  },
  {
   "cell_type": "code",
   "execution_count": null,
   "id": "30e21033",
   "metadata": {},
   "outputs": [],
   "source": [
    "# =============================================================================\n",
    "# 1.강변 조망이 가능한지 여부(waterfront)에 따라 평균 주택 가격을 계산하고 조망이\n",
    "# 가능한 경우와 그렇지 않은 경우의 평균 가격 차이의 절대값을 구하시오. 답은\n",
    "# 소수점 이하는 버리고 정수부만 기술하시오. (답안 예시) 1234567\n",
    "# ============================================================================="
   ]
  },
  {
   "cell_type": "code",
   "execution_count": 7,
   "id": "4c172774",
   "metadata": {},
   "outputs": [],
   "source": [
    "import seaborn as sns"
   ]
  },
  {
   "cell_type": "code",
   "execution_count": 8,
   "id": "a25347a6",
   "metadata": {},
   "outputs": [],
   "source": [
    "? sns.boxplot"
   ]
  },
  {
   "cell_type": "code",
   "execution_count": 9,
   "id": "7313b31f",
   "metadata": {},
   "outputs": [
    {
     "data": {
      "text/plain": [
       "<Axes: xlabel='waterfront', ylabel='price'>"
      ]
     },
     "execution_count": 9,
     "metadata": {},
     "output_type": "execute_result"
    },
    {
     "data": {
      "image/png": "[encoded data removed]",
      "text/plain": [
       "<Figure size 640x480 with 1 Axes>"
      ]
     },
     "metadata": {},
     "output_type": "display_data"
    }
   ],
   "source": [
    "sns.boxplot(data=data6, x='waterfront', y='price')"
   ]
  },
  {
   "cell_type": "code",
   "execution_count": 10,
   "id": "9f58bf2e",
   "metadata": {},
   "outputs": [
    {
     "data": {
      "text/plain": [
       "waterfront\n",
       "0    5.321651e+05\n",
       "1    1.699438e+06\n",
       "Name: price, dtype: float64"
      ]
     },
     "execution_count": 10,
     "metadata": {},
     "output_type": "execute_result"
    }
   ],
   "source": [
    "q6_1=data6.groupby('waterfront')['price'].mean()\n",
    "q6_1"
   ]
  },
  {
   "cell_type": "code",
   "execution_count": 11,
   "id": "af3a7fd9",
   "metadata": {
    "scrolled": true
   },
   "outputs": [
    {
     "data": {
      "text/plain": [
       "1167272.0"
      ]
     },
     "execution_count": 11,
     "metadata": {},
     "output_type": "execute_result"
    }
   ],
   "source": [
    "np.trunc(abs(q6_1[1] - q6_1[0]))  # 답: 1167272"
   ]
  },
  {
   "cell_type": "code",
   "execution_count": 12,
   "id": "41a71d8a",
   "metadata": {},
   "outputs": [],
   "source": [
    "a1 = data6.groupby('waterfront')"
   ]
  },
  {
   "cell_type": "code",
   "execution_count": 13,
   "id": "25a14673",
   "metadata": {},
   "outputs": [
    {
     "data": {
      "text/plain": [
       "{0: [0, 1, 2, 3, 4, 5, 6, 7, 8, 9, 10, 11, 12, 13, 14, 15, 16, 17, 18, 19, 20, 21, 22, 23, 24, 25, 26, 27, 28, 29, 30, 31, 32, 33, 34, 35, 36, 37, 38, 39, 40, 41, 42, 43, 44, 46, 47, 48, 49, 50, 51, 52, 53, 54, 55, 56, 57, 58, 59, 60, 61, 62, 63, 64, 65, 66, 67, 68, 69, 70, 71, 72, 73, 74, 75, 76, 77, 78, 79, 80, 81, 82, 83, 84, 85, 86, 87, 88, 89, 90, 91, 92, 93, 94, 95, 96, 97, 98, 99, 100, ...], 1: [45, 363, 390, 406, 446, 553, 923, 988, 1022, 1024, 1091, 1412, 1535, 1662, 1681, 1726, 1963, 2153, 2232, 2365, 2721, 2810, 2811, 2913, 2926, 3508, 3574, 3638, 3761, 3846, 3929, 4034, 4209]}"
      ]
     },
     "execution_count": 13,
     "metadata": {},
     "output_type": "execute_result"
    }
   ],
   "source": [
    "a1.groups"
   ]
  },
  {
   "cell_type": "code",
   "execution_count": 16,
   "id": "a2a0529a",
   "metadata": {},
   "outputs": [
    {
     "data": {
      "text/html": [
       "<div>\n",
       "<style scoped>\n",
       "    .dataframe tbody tr th:only-of-type {\n",
       "        vertical-align: middle;\n",
       "    }\n",
       "\n",
       "    .dataframe tbody tr th {\n",
       "        vertical-align: top;\n",
       "    }\n",
       "\n",
       "    .dataframe thead th {\n",
       "        text-align: right;\n",
       "    }\n",
       "</style>\n",
       "<table border=\"1\" class=\"dataframe\">\n",
       "  <thead>\n",
       "    <tr style=\"text-align: right;\">\n",
       "      <th></th>\n",
       "      <th>id</th>\n",
       "      <th>date</th>\n",
       "      <th>price</th>\n",
       "      <th>bedrooms</th>\n",
       "      <th>bathrooms</th>\n",
       "      <th>sqft_living</th>\n",
       "      <th>sqft_lot</th>\n",
       "      <th>floors</th>\n",
       "      <th>waterfront</th>\n",
       "      <th>view</th>\n",
       "      <th>condition</th>\n",
       "      <th>grade</th>\n",
       "      <th>sqft_above</th>\n",
       "      <th>sqft_basement</th>\n",
       "      <th>yr_built</th>\n",
       "      <th>yr_renovated</th>\n",
       "      <th>zipcode</th>\n",
       "      <th>sqft_living15</th>\n",
       "      <th>sqft_lot15</th>\n",
       "    </tr>\n",
       "  </thead>\n",
       "  <tbody>\n",
       "    <tr>\n",
       "      <th>0</th>\n",
       "      <td>2597000006</td>\n",
       "      <td>20150309T000000</td>\n",
       "      <td>347500.0</td>\n",
       "      <td>3</td>\n",
       "      <td>1.50</td>\n",
       "      <td>1180</td>\n",
       "      <td>8353</td>\n",
       "      <td>1.0</td>\n",
       "      <td>0</td>\n",
       "      <td>0</td>\n",
       "      <td>3</td>\n",
       "      <td>7</td>\n",
       "      <td>1180</td>\n",
       "      <td>0</td>\n",
       "      <td>1960</td>\n",
       "      <td>0</td>\n",
       "      <td>98155</td>\n",
       "      <td>1710</td>\n",
       "      <td>8748</td>\n",
       "    </tr>\n",
       "    <tr>\n",
       "      <th>1</th>\n",
       "      <td>8813400345</td>\n",
       "      <td>20150414T000000</td>\n",
       "      <td>575000.0</td>\n",
       "      <td>2</td>\n",
       "      <td>1.00</td>\n",
       "      <td>980</td>\n",
       "      <td>3663</td>\n",
       "      <td>1.0</td>\n",
       "      <td>0</td>\n",
       "      <td>0</td>\n",
       "      <td>5</td>\n",
       "      <td>7</td>\n",
       "      <td>980</td>\n",
       "      <td>0</td>\n",
       "      <td>1909</td>\n",
       "      <td>0</td>\n",
       "      <td>98105</td>\n",
       "      <td>1620</td>\n",
       "      <td>3706</td>\n",
       "    </tr>\n",
       "    <tr>\n",
       "      <th>2</th>\n",
       "      <td>226059106</td>\n",
       "      <td>20150102T000000</td>\n",
       "      <td>489500.0</td>\n",
       "      <td>3</td>\n",
       "      <td>1.75</td>\n",
       "      <td>2090</td>\n",
       "      <td>65558</td>\n",
       "      <td>1.0</td>\n",
       "      <td>0</td>\n",
       "      <td>0</td>\n",
       "      <td>3</td>\n",
       "      <td>8</td>\n",
       "      <td>1330</td>\n",
       "      <td>760</td>\n",
       "      <td>1977</td>\n",
       "      <td>0</td>\n",
       "      <td>98072</td>\n",
       "      <td>2450</td>\n",
       "      <td>47178</td>\n",
       "    </tr>\n",
       "    <tr>\n",
       "      <th>3</th>\n",
       "      <td>8645500270</td>\n",
       "      <td>20141028T000000</td>\n",
       "      <td>246000.0</td>\n",
       "      <td>4</td>\n",
       "      <td>1.75</td>\n",
       "      <td>1720</td>\n",
       "      <td>7455</td>\n",
       "      <td>1.0</td>\n",
       "      <td>0</td>\n",
       "      <td>0</td>\n",
       "      <td>4</td>\n",
       "      <td>7</td>\n",
       "      <td>1020</td>\n",
       "      <td>700</td>\n",
       "      <td>1963</td>\n",
       "      <td>0</td>\n",
       "      <td>98058</td>\n",
       "      <td>1720</td>\n",
       "      <td>7700</td>\n",
       "    </tr>\n",
       "    <tr>\n",
       "      <th>4</th>\n",
       "      <td>7010700550</td>\n",
       "      <td>20141114T000000</td>\n",
       "      <td>595000.0</td>\n",
       "      <td>3</td>\n",
       "      <td>2.50</td>\n",
       "      <td>2030</td>\n",
       "      <td>5100</td>\n",
       "      <td>2.0</td>\n",
       "      <td>0</td>\n",
       "      <td>0</td>\n",
       "      <td>3</td>\n",
       "      <td>7</td>\n",
       "      <td>2030</td>\n",
       "      <td>0</td>\n",
       "      <td>2008</td>\n",
       "      <td>0</td>\n",
       "      <td>98199</td>\n",
       "      <td>1790</td>\n",
       "      <td>4380</td>\n",
       "    </tr>\n",
       "    <tr>\n",
       "      <th>...</th>\n",
       "      <td>...</td>\n",
       "      <td>...</td>\n",
       "      <td>...</td>\n",
       "      <td>...</td>\n",
       "      <td>...</td>\n",
       "      <td>...</td>\n",
       "      <td>...</td>\n",
       "      <td>...</td>\n",
       "      <td>...</td>\n",
       "      <td>...</td>\n",
       "      <td>...</td>\n",
       "      <td>...</td>\n",
       "      <td>...</td>\n",
       "      <td>...</td>\n",
       "      <td>...</td>\n",
       "      <td>...</td>\n",
       "      <td>...</td>\n",
       "      <td>...</td>\n",
       "      <td>...</td>\n",
       "    </tr>\n",
       "    <tr>\n",
       "      <th>4318</th>\n",
       "      <td>7663700531</td>\n",
       "      <td>20150106T000000</td>\n",
       "      <td>325000.0</td>\n",
       "      <td>2</td>\n",
       "      <td>1.00</td>\n",
       "      <td>620</td>\n",
       "      <td>14823</td>\n",
       "      <td>1.0</td>\n",
       "      <td>0</td>\n",
       "      <td>0</td>\n",
       "      <td>3</td>\n",
       "      <td>6</td>\n",
       "      <td>620</td>\n",
       "      <td>0</td>\n",
       "      <td>1926</td>\n",
       "      <td>0</td>\n",
       "      <td>98125</td>\n",
       "      <td>1400</td>\n",
       "      <td>7930</td>\n",
       "    </tr>\n",
       "    <tr>\n",
       "      <th>4319</th>\n",
       "      <td>7399200770</td>\n",
       "      <td>20141209T000000</td>\n",
       "      <td>417400.0</td>\n",
       "      <td>3</td>\n",
       "      <td>3.00</td>\n",
       "      <td>2680</td>\n",
       "      <td>12285</td>\n",
       "      <td>1.0</td>\n",
       "      <td>0</td>\n",
       "      <td>0</td>\n",
       "      <td>4</td>\n",
       "      <td>8</td>\n",
       "      <td>2680</td>\n",
       "      <td>0</td>\n",
       "      <td>1970</td>\n",
       "      <td>0</td>\n",
       "      <td>98055</td>\n",
       "      <td>2610</td>\n",
       "      <td>9558</td>\n",
       "    </tr>\n",
       "    <tr>\n",
       "      <th>4320</th>\n",
       "      <td>1324300126</td>\n",
       "      <td>20150313T000000</td>\n",
       "      <td>415000.0</td>\n",
       "      <td>2</td>\n",
       "      <td>2.50</td>\n",
       "      <td>1160</td>\n",
       "      <td>1219</td>\n",
       "      <td>3.0</td>\n",
       "      <td>0</td>\n",
       "      <td>0</td>\n",
       "      <td>3</td>\n",
       "      <td>8</td>\n",
       "      <td>1160</td>\n",
       "      <td>0</td>\n",
       "      <td>2007</td>\n",
       "      <td>0</td>\n",
       "      <td>98107</td>\n",
       "      <td>1320</td>\n",
       "      <td>2800</td>\n",
       "    </tr>\n",
       "    <tr>\n",
       "      <th>4321</th>\n",
       "      <td>8562750250</td>\n",
       "      <td>20140704T000000</td>\n",
       "      <td>600000.0</td>\n",
       "      <td>3</td>\n",
       "      <td>2.50</td>\n",
       "      <td>2320</td>\n",
       "      <td>7609</td>\n",
       "      <td>2.0</td>\n",
       "      <td>0</td>\n",
       "      <td>0</td>\n",
       "      <td>3</td>\n",
       "      <td>8</td>\n",
       "      <td>2320</td>\n",
       "      <td>0</td>\n",
       "      <td>2003</td>\n",
       "      <td>0</td>\n",
       "      <td>98027</td>\n",
       "      <td>2590</td>\n",
       "      <td>4000</td>\n",
       "    </tr>\n",
       "    <tr>\n",
       "      <th>4322</th>\n",
       "      <td>4036800170</td>\n",
       "      <td>20140623T000000</td>\n",
       "      <td>453000.0</td>\n",
       "      <td>4</td>\n",
       "      <td>1.75</td>\n",
       "      <td>2120</td>\n",
       "      <td>7420</td>\n",
       "      <td>1.0</td>\n",
       "      <td>0</td>\n",
       "      <td>0</td>\n",
       "      <td>4</td>\n",
       "      <td>7</td>\n",
       "      <td>1060</td>\n",
       "      <td>1060</td>\n",
       "      <td>1956</td>\n",
       "      <td>0</td>\n",
       "      <td>98008</td>\n",
       "      <td>1540</td>\n",
       "      <td>7420</td>\n",
       "    </tr>\n",
       "  </tbody>\n",
       "</table>\n",
       "<p>4290 rows × 19 columns</p>\n",
       "</div>"
      ],
      "text/plain": [
       "              id             date     price  bedrooms  bathrooms  sqft_living  \\\n",
       "0     2597000006  20150309T000000  347500.0         3       1.50         1180   \n",
       "1     8813400345  20150414T000000  575000.0         2       1.00          980   \n",
       "2      226059106  20150102T000000  489500.0         3       1.75         2090   \n",
       "3     8645500270  20141028T000000  246000.0         4       1.75         1720   \n",
       "4     7010700550  20141114T000000  595000.0         3       2.50         2030   \n",
       "...          ...              ...       ...       ...        ...          ...   \n",
       "4318  7663700531  20150106T000000  325000.0         2       1.00          620   \n",
       "4319  7399200770  20141209T000000  417400.0         3       3.00         2680   \n",
       "4320  1324300126  20150313T000000  415000.0         2       2.50         1160   \n",
       "4321  8562750250  20140704T000000  600000.0         3       2.50         2320   \n",
       "4322  4036800170  20140623T000000  453000.0         4       1.75         2120   \n",
       "\n",
       "      sqft_lot  floors  waterfront  view  condition  grade  sqft_above  \\\n",
       "0         8353     1.0           0     0          3      7        1180   \n",
       "1         3663     1.0           0     0          5      7         980   \n",
       "2        65558     1.0           0     0          3      8        1330   \n",
       "3         7455     1.0           0     0          4      7        1020   \n",
       "4         5100     2.0           0     0          3      7        2030   \n",
       "...        ...     ...         ...   ...        ...    ...         ...   \n",
       "4318     14823     1.0           0     0          3      6         620   \n",
       "4319     12285     1.0           0     0          4      8        2680   \n",
       "4320      1219     3.0           0     0          3      8        1160   \n",
       "4321      7609     2.0           0     0          3      8        2320   \n",
       "4322      7420     1.0           0     0          4      7        1060   \n",
       "\n",
       "      sqft_basement  yr_built  yr_renovated  zipcode  sqft_living15  \\\n",
       "0                 0      1960             0    98155           1710   \n",
       "1                 0      1909             0    98105           1620   \n",
       "2               760      1977             0    98072           2450   \n",
       "3               700      1963             0    98058           1720   \n",
       "4                 0      2008             0    98199           1790   \n",
       "...             ...       ...           ...      ...            ...   \n",
       "4318              0      1926             0    98125           1400   \n",
       "4319              0      1970             0    98055           2610   \n",
       "4320              0      2007             0    98107           1320   \n",
       "4321              0      2003             0    98027           2590   \n",
       "4322           1060      1956             0    98008           1540   \n",
       "\n",
       "      sqft_lot15  \n",
       "0           8748  \n",
       "1           3706  \n",
       "2          47178  \n",
       "3           7700  \n",
       "4           4380  \n",
       "...          ...  \n",
       "4318        7930  \n",
       "4319        9558  \n",
       "4320        2800  \n",
       "4321        4000  \n",
       "4322        7420  \n",
       "\n",
       "[4290 rows x 19 columns]"
      ]
     },
     "execution_count": 16,
     "metadata": {},
     "output_type": "execute_result"
    }
   ],
   "source": [
    "a1.get_group(0)"
   ]
  },
  {
   "cell_type": "code",
   "execution_count": 8,
   "id": "3798c850",
   "metadata": {},
   "outputs": [
    {
     "data": {
      "text/plain": [
       "waterfront  view\n",
       "0           0       4.960504e+05\n",
       "            1       9.017549e+05\n",
       "            2       8.121751e+05\n",
       "            3       9.401923e+05\n",
       "            4       1.191717e+06\n",
       "1           2       9.475000e+05\n",
       "            3       1.529750e+06\n",
       "            4       1.750534e+06\n",
       "Name: price, dtype: float64"
      ]
     },
     "execution_count": 8,
     "metadata": {},
     "output_type": "execute_result"
    }
   ],
   "source": [
    "a2 = data6.groupby(['waterfront','view'])['price'].mean()\n",
    "a2"
   ]
  },
  {
   "cell_type": "code",
   "execution_count": 10,
   "id": "ab0fe6a4",
   "metadata": {},
   "outputs": [
    {
     "data": {
      "text/html": [
       "<div>\n",
       "<style scoped>\n",
       "    .dataframe tbody tr th:only-of-type {\n",
       "        vertical-align: middle;\n",
       "    }\n",
       "\n",
       "    .dataframe tbody tr th {\n",
       "        vertical-align: top;\n",
       "    }\n",
       "\n",
       "    .dataframe thead th {\n",
       "        text-align: right;\n",
       "    }\n",
       "</style>\n",
       "<table border=\"1\" class=\"dataframe\">\n",
       "  <thead>\n",
       "    <tr style=\"text-align: right;\">\n",
       "      <th>waterfront</th>\n",
       "      <th>0</th>\n",
       "      <th>1</th>\n",
       "    </tr>\n",
       "    <tr>\n",
       "      <th>view</th>\n",
       "      <th></th>\n",
       "      <th></th>\n",
       "    </tr>\n",
       "  </thead>\n",
       "  <tbody>\n",
       "    <tr>\n",
       "      <th>0</th>\n",
       "      <td>4.960504e+05</td>\n",
       "      <td>NaN</td>\n",
       "    </tr>\n",
       "    <tr>\n",
       "      <th>1</th>\n",
       "      <td>9.017549e+05</td>\n",
       "      <td>NaN</td>\n",
       "    </tr>\n",
       "    <tr>\n",
       "      <th>2</th>\n",
       "      <td>8.121751e+05</td>\n",
       "      <td>9.475000e+05</td>\n",
       "    </tr>\n",
       "    <tr>\n",
       "      <th>3</th>\n",
       "      <td>9.401923e+05</td>\n",
       "      <td>1.529750e+06</td>\n",
       "    </tr>\n",
       "    <tr>\n",
       "      <th>4</th>\n",
       "      <td>1.191717e+06</td>\n",
       "      <td>1.750534e+06</td>\n",
       "    </tr>\n",
       "  </tbody>\n",
       "</table>\n",
       "</div>"
      ],
      "text/plain": [
       "waterfront             0             1\n",
       "view                                  \n",
       "0           4.960504e+05           NaN\n",
       "1           9.017549e+05           NaN\n",
       "2           8.121751e+05  9.475000e+05\n",
       "3           9.401923e+05  1.529750e+06\n",
       "4           1.191717e+06  1.750534e+06"
      ]
     },
     "execution_count": 10,
     "metadata": {},
     "output_type": "execute_result"
    }
   ],
   "source": [
    "a2.unstack(0)"
   ]
  },
  {
   "cell_type": "code",
   "execution_count": null,
   "id": "3c23f02d",
   "metadata": {},
   "outputs": [],
   "source": [
    "# =============================================================================\n",
    "# 2.price, bedrooms, bathrooms, sqft_living, sqft_lot, floors, yr_built 등 7개의 변수 간의\n",
    "# 상관분석을 수행하고 price와의 상관계수의 절대값이 가장 큰 변수와 가장 작은\n",
    "# 변수를 차례로 기술하시오. (답안 예시) view, zipcode\n",
    "# \n",
    "# ============================================================================="
   ]
  },
  {
   "cell_type": "code",
   "execution_count": 14,
   "id": "b731237e",
   "metadata": {},
   "outputs": [],
   "source": [
    "q6_2_list = ['price', 'bedrooms', 'bathrooms', 'sqft_living', 'sqft_lot', \n",
    "             'floors', 'yr_built']"
   ]
  },
  {
   "cell_type": "code",
   "execution_count": 16,
   "id": "a0841e2d",
   "metadata": {},
   "outputs": [
    {
     "data": {
      "text/plain": [
       "bedrooms       0.279824\n",
       "bathrooms      0.534277\n",
       "sqft_living    0.709157\n",
       "sqft_lot       0.106341\n",
       "floors         0.270423\n",
       "yr_built       0.059895\n",
       "Name: price, dtype: float64"
      ]
     },
     "execution_count": 16,
     "metadata": {},
     "output_type": "execute_result"
    }
   ],
   "source": [
    "q6_2 = data6[q6_2_list].corr()['price'].drop('price')\n",
    "q6_2"
   ]
  },
  {
   "cell_type": "code",
   "execution_count": 17,
   "id": "19164934",
   "metadata": {},
   "outputs": [
    {
     "data": {
      "text/plain": [
       "('sqft_living', 'yr_built')"
      ]
     },
     "execution_count": 17,
     "metadata": {},
     "output_type": "execute_result"
    }
   ],
   "source": [
    "q6_2.abs().idxmax(), q6_2.abs().idxmin()"
   ]
  },
  {
   "cell_type": "code",
   "execution_count": null,
   "id": "0c4bb7e4",
   "metadata": {},
   "outputs": [],
   "source": [
    "# =============================================================================\n",
    "# 3. id, date, 그리고 zipcode를 제외한 모든 변수를 독립변수로, price를 종속변수로 하여\n",
    "# 회귀분석을 수행하시오. 통계적 유의성을 갖지 못하는 독립변수를 제거하면 회귀\n",
    "# 모형에 남는 변수는 모두\n",
    "# 몇 개인가? 이 때 음의 회귀계수를 가지는 변수는 몇 개인가? (답안 예시) 5, 3\n",
    "# =============================================================================\n",
    "\n",
    "# =============================================================================\n",
    "# (참고)\n",
    "# import pandas as pd\n",
    "# import numpy as np\n",
    "# from sklearn.linear_model import LinearRegression\n",
    "# from statsmodels.formula.api import ols\n",
    "# ============================================================================="
   ]
  },
  {
   "cell_type": "code",
   "execution_count": 18,
   "id": "c61a2f9e",
   "metadata": {},
   "outputs": [],
   "source": [
    "q6_3_list = data6.columns.drop(['id','date','zipcode','price'])"
   ]
  },
  {
   "cell_type": "code",
   "execution_count": 19,
   "id": "6693b342",
   "metadata": {},
   "outputs": [],
   "source": [
    "from statsmodels.formula.api import ols"
   ]
  },
  {
   "cell_type": "code",
   "execution_count": 20,
   "id": "c945aa37",
   "metadata": {},
   "outputs": [
    {
     "data": {
      "text/plain": [
       "'price~bedrooms+bathrooms+sqft_living+sqft_lot+floors+waterfront+view+condition+grade+sqft_above+sqft_basement+yr_built+yr_renovated+sqft_living15+sqft_lot15'"
      ]
     },
     "execution_count": 20,
     "metadata": {},
     "output_type": "execute_result"
    }
   ],
   "source": [
    "form6_3 = 'price~' + '+'.join(q6_3_list)\n",
    "form6_3"
   ]
  },
  {
   "cell_type": "code",
   "execution_count": 22,
   "id": "9f2eb3c3",
   "metadata": {},
   "outputs": [],
   "source": [
    "q6_3 = ols(form6_3, data6).fit()"
   ]
  },
  {
   "cell_type": "code",
   "execution_count": 27,
   "id": "3ee7d95d",
   "metadata": {},
   "outputs": [
    {
     "data": {
      "text/plain": [
       "13"
      ]
     },
     "execution_count": 27,
     "metadata": {},
     "output_type": "execute_result"
    }
   ],
   "source": [
    "q6_3_x = q6_3.pvalues.index[q6_3.pvalues < 0.05].drop('Intercept')\n",
    "len(q6_3_x)"
   ]
  },
  {
   "cell_type": "code",
   "execution_count": 31,
   "id": "0c6a86a5",
   "metadata": {},
   "outputs": [
    {
     "data": {
      "text/plain": [
       "2"
      ]
     },
     "execution_count": 31,
     "metadata": {},
     "output_type": "execute_result"
    }
   ],
   "source": [
    "q6_3_x2 = q6_3.params[q6_3_x]\n",
    "len(q6_3_x2[q6_3_x2 < 0])"
   ]
  },
  {
   "cell_type": "code",
   "execution_count": 32,
   "id": "74a5b8e7",
   "metadata": {},
   "outputs": [
    {
     "data": {
      "text/html": [
       "<table class=\"simpletable\">\n",
       "<caption>OLS Regression Results</caption>\n",
       "<tr>\n",
       "  <th>Dep. Variable:</th>          <td>price</td>      <th>  R-squared:         </th> <td>   0.681</td> \n",
       "</tr>\n",
       "<tr>\n",
       "  <th>Model:</th>                   <td>OLS</td>       <th>  Adj. R-squared:    </th> <td>   0.680</td> \n",
       "</tr>\n",
       "<tr>\n",
       "  <th>Method:</th>             <td>Least Squares</td>  <th>  F-statistic:       </th> <td>   656.0</td> \n",
       "</tr>\n",
       "<tr>\n",
       "  <th>Date:</th>             <td>Fri, 15 Sep 2023</td> <th>  Prob (F-statistic):</th>  <td>  0.00</td>  \n",
       "</tr>\n",
       "<tr>\n",
       "  <th>Time:</th>                 <td>10:17:58</td>     <th>  Log-Likelihood:    </th> <td> -58960.</td> \n",
       "</tr>\n",
       "<tr>\n",
       "  <th>No. Observations:</th>      <td>  4323</td>      <th>  AIC:               </th> <td>1.180e+05</td>\n",
       "</tr>\n",
       "<tr>\n",
       "  <th>Df Residuals:</th>          <td>  4308</td>      <th>  BIC:               </th> <td>1.180e+05</td>\n",
       "</tr>\n",
       "<tr>\n",
       "  <th>Df Model:</th>              <td>    14</td>      <th>                     </th>     <td> </td>    \n",
       "</tr>\n",
       "<tr>\n",
       "  <th>Covariance Type:</th>      <td>nonrobust</td>    <th>                     </th>     <td> </td>    \n",
       "</tr>\n",
       "</table>\n",
       "<table class=\"simpletable\">\n",
       "<tr>\n",
       "        <td></td>           <th>coef</th>     <th>std err</th>      <th>t</th>      <th>P>|t|</th>  <th>[0.025</th>    <th>0.975]</th>  \n",
       "</tr>\n",
       "<tr>\n",
       "  <th>Intercept</th>     <td> 6.302e+06</td> <td> 2.95e+05</td> <td>   21.401</td> <td> 0.000</td> <td> 5.73e+06</td> <td> 6.88e+06</td>\n",
       "</tr>\n",
       "<tr>\n",
       "  <th>bedrooms</th>      <td>  -2.5e+04</td> <td> 3680.510</td> <td>   -6.791</td> <td> 0.000</td> <td>-3.22e+04</td> <td>-1.78e+04</td>\n",
       "</tr>\n",
       "<tr>\n",
       "  <th>bathrooms</th>     <td> 5.179e+04</td> <td> 7163.408</td> <td>    7.230</td> <td> 0.000</td> <td> 3.77e+04</td> <td> 6.58e+04</td>\n",
       "</tr>\n",
       "<tr>\n",
       "  <th>sqft_living</th>   <td>   92.3080</td> <td>    5.074</td> <td>   18.192</td> <td> 0.000</td> <td>   82.360</td> <td>  102.256</td>\n",
       "</tr>\n",
       "<tr>\n",
       "  <th>sqft_lot</th>      <td>    0.0054</td> <td>    0.093</td> <td>    0.059</td> <td> 0.953</td> <td>   -0.176</td> <td>    0.187</td>\n",
       "</tr>\n",
       "<tr>\n",
       "  <th>floors</th>        <td> 3.748e+04</td> <td> 8141.392</td> <td>    4.604</td> <td> 0.000</td> <td> 2.15e+04</td> <td> 5.34e+04</td>\n",
       "</tr>\n",
       "<tr>\n",
       "  <th>waterfront</th>    <td> 6.277e+05</td> <td> 3.91e+04</td> <td>   16.064</td> <td> 0.000</td> <td> 5.51e+05</td> <td> 7.04e+05</td>\n",
       "</tr>\n",
       "<tr>\n",
       "  <th>view</th>          <td>  4.04e+04</td> <td> 4797.344</td> <td>    8.421</td> <td> 0.000</td> <td>  3.1e+04</td> <td> 4.98e+04</td>\n",
       "</tr>\n",
       "<tr>\n",
       "  <th>condition</th>     <td> 1.571e+04</td> <td> 5317.387</td> <td>    2.954</td> <td> 0.003</td> <td> 5280.918</td> <td> 2.61e+04</td>\n",
       "</tr>\n",
       "<tr>\n",
       "  <th>grade</th>         <td> 1.306e+05</td> <td> 4700.604</td> <td>   27.789</td> <td> 0.000</td> <td> 1.21e+05</td> <td>  1.4e+05</td>\n",
       "</tr>\n",
       "<tr>\n",
       "  <th>sqft_above</th>    <td>   33.7358</td> <td>    4.981</td> <td>    6.773</td> <td> 0.000</td> <td>   23.971</td> <td>   43.501</td>\n",
       "</tr>\n",
       "<tr>\n",
       "  <th>sqft_basement</th> <td>   58.5723</td> <td>    5.840</td> <td>   10.030</td> <td> 0.000</td> <td>   47.123</td> <td>   70.021</td>\n",
       "</tr>\n",
       "<tr>\n",
       "  <th>yr_built</th>      <td>-3666.8957</td> <td>  150.805</td> <td>  -24.316</td> <td> 0.000</td> <td>-3962.551</td> <td>-3371.241</td>\n",
       "</tr>\n",
       "<tr>\n",
       "  <th>yr_renovated</th>  <td>   17.7032</td> <td>    8.265</td> <td>    2.142</td> <td> 0.032</td> <td>    1.499</td> <td>   33.908</td>\n",
       "</tr>\n",
       "<tr>\n",
       "  <th>sqft_living15</th> <td>   23.0114</td> <td>    7.561</td> <td>    3.044</td> <td> 0.002</td> <td>    8.188</td> <td>   37.834</td>\n",
       "</tr>\n",
       "<tr>\n",
       "  <th>sqft_lot15</th>    <td>   -0.2323</td> <td>    0.142</td> <td>   -1.637</td> <td> 0.102</td> <td>   -0.511</td> <td>    0.046</td>\n",
       "</tr>\n",
       "</table>\n",
       "<table class=\"simpletable\">\n",
       "<tr>\n",
       "  <th>Omnibus:</th>       <td>2170.721</td> <th>  Durbin-Watson:     </th> <td>   2.011</td> \n",
       "</tr>\n",
       "<tr>\n",
       "  <th>Prob(Omnibus):</th>  <td> 0.000</td>  <th>  Jarque-Bera (JB):  </th> <td>38362.875</td>\n",
       "</tr>\n",
       "<tr>\n",
       "  <th>Skew:</th>           <td> 1.971</td>  <th>  Prob(JB):          </th> <td>    0.00</td> \n",
       "</tr>\n",
       "<tr>\n",
       "  <th>Kurtosis:</th>       <td>17.051</td>  <th>  Cond. No.          </th> <td>1.16e+17</td> \n",
       "</tr>\n",
       "</table><br/><br/>Notes:<br/>[1] Standard Errors assume that the covariance matrix of the errors is correctly specified.<br/>[2] The smallest eigenvalue is 1.2e-21. This might indicate that there are<br/>strong multicollinearity problems or that the design matrix is singular."
      ],
      "text/latex": [
       "\\begin{center}\n",
       "\\begin{tabular}{lclc}\n",
       "\\toprule\n",
       "\\textbf{Dep. Variable:}    &      price       & \\textbf{  R-squared:         } &     0.681   \\\\\n",
       "\\textbf{Model:}            &       OLS        & \\textbf{  Adj. R-squared:    } &     0.680   \\\\\n",
       "\\textbf{Method:}           &  Least Squares   & \\textbf{  F-statistic:       } &     656.0   \\\\\n",
       "\\textbf{Date:}             & Fri, 15 Sep 2023 & \\textbf{  Prob (F-statistic):} &     0.00    \\\\\n",
       "\\textbf{Time:}             &     10:17:58     & \\textbf{  Log-Likelihood:    } &   -58960.   \\\\\n",
       "\\textbf{No. Observations:} &        4323      & \\textbf{  AIC:               } & 1.180e+05   \\\\\n",
       "\\textbf{Df Residuals:}     &        4308      & \\textbf{  BIC:               } & 1.180e+05   \\\\\n",
       "\\textbf{Df Model:}         &          14      & \\textbf{                     } &             \\\\\n",
       "\\textbf{Covariance Type:}  &    nonrobust     & \\textbf{                     } &             \\\\\n",
       "\\bottomrule\n",
       "\\end{tabular}\n",
       "\\begin{tabular}{lcccccc}\n",
       "                        & \\textbf{coef} & \\textbf{std err} & \\textbf{t} & \\textbf{P$> |$t$|$} & \\textbf{[0.025} & \\textbf{0.975]}  \\\\\n",
       "\\midrule\n",
       "\\textbf{Intercept}      &    6.302e+06  &     2.95e+05     &    21.401  &         0.000        &     5.73e+06    &     6.88e+06     \\\\\n",
       "\\textbf{bedrooms}       &     -2.5e+04  &     3680.510     &    -6.791  &         0.000        &    -3.22e+04    &    -1.78e+04     \\\\\n",
       "\\textbf{bathrooms}      &    5.179e+04  &     7163.408     &     7.230  &         0.000        &     3.77e+04    &     6.58e+04     \\\\\n",
       "\\textbf{sqft\\_living}   &      92.3080  &        5.074     &    18.192  &         0.000        &       82.360    &      102.256     \\\\\n",
       "\\textbf{sqft\\_lot}      &       0.0054  &        0.093     &     0.059  &         0.953        &       -0.176    &        0.187     \\\\\n",
       "\\textbf{floors}         &    3.748e+04  &     8141.392     &     4.604  &         0.000        &     2.15e+04    &     5.34e+04     \\\\\n",
       "\\textbf{waterfront}     &    6.277e+05  &     3.91e+04     &    16.064  &         0.000        &     5.51e+05    &     7.04e+05     \\\\\n",
       "\\textbf{view}           &     4.04e+04  &     4797.344     &     8.421  &         0.000        &      3.1e+04    &     4.98e+04     \\\\\n",
       "\\textbf{condition}      &    1.571e+04  &     5317.387     &     2.954  &         0.003        &     5280.918    &     2.61e+04     \\\\\n",
       "\\textbf{grade}          &    1.306e+05  &     4700.604     &    27.789  &         0.000        &     1.21e+05    &      1.4e+05     \\\\\n",
       "\\textbf{sqft\\_above}    &      33.7358  &        4.981     &     6.773  &         0.000        &       23.971    &       43.501     \\\\\n",
       "\\textbf{sqft\\_basement} &      58.5723  &        5.840     &    10.030  &         0.000        &       47.123    &       70.021     \\\\\n",
       "\\textbf{yr\\_built}      &   -3666.8957  &      150.805     &   -24.316  &         0.000        &    -3962.551    &    -3371.241     \\\\\n",
       "\\textbf{yr\\_renovated}  &      17.7032  &        8.265     &     2.142  &         0.032        &        1.499    &       33.908     \\\\\n",
       "\\textbf{sqft\\_living15} &      23.0114  &        7.561     &     3.044  &         0.002        &        8.188    &       37.834     \\\\\n",
       "\\textbf{sqft\\_lot15}    &      -0.2323  &        0.142     &    -1.637  &         0.102        &       -0.511    &        0.046     \\\\\n",
       "\\bottomrule\n",
       "\\end{tabular}\n",
       "\\begin{tabular}{lclc}\n",
       "\\textbf{Omnibus:}       & 2170.721 & \\textbf{  Durbin-Watson:     } &     2.011  \\\\\n",
       "\\textbf{Prob(Omnibus):} &   0.000  & \\textbf{  Jarque-Bera (JB):  } & 38362.875  \\\\\n",
       "\\textbf{Skew:}          &   1.971  & \\textbf{  Prob(JB):          } &      0.00  \\\\\n",
       "\\textbf{Kurtosis:}      &  17.051  & \\textbf{  Cond. No.          } &  1.16e+17  \\\\\n",
       "\\bottomrule\n",
       "\\end{tabular}\n",
       "%\\caption{OLS Regression Results}\n",
       "\\end{center}\n",
       "\n",
       "Notes: \\newline\n",
       " [1] Standard Errors assume that the covariance matrix of the errors is correctly specified. \\newline\n",
       " [2] The smallest eigenvalue is 1.2e-21. This might indicate that there are \\newline\n",
       " strong multicollinearity problems or that the design matrix is singular."
      ],
      "text/plain": [
       "<class 'statsmodels.iolib.summary.Summary'>\n",
       "\"\"\"\n",
       "                            OLS Regression Results                            \n",
       "==============================================================================\n",
       "Dep. Variable:                  price   R-squared:                       0.681\n",
       "Model:                            OLS   Adj. R-squared:                  0.680\n",
       "Method:                 Least Squares   F-statistic:                     656.0\n",
       "Date:                Fri, 15 Sep 2023   Prob (F-statistic):               0.00\n",
       "Time:                        10:17:58   Log-Likelihood:                -58960.\n",
       "No. Observations:                4323   AIC:                         1.180e+05\n",
       "Df Residuals:                    4308   BIC:                         1.180e+05\n",
       "Df Model:                          14                                         \n",
       "Covariance Type:            nonrobust                                         \n",
       "=================================================================================\n",
       "                    coef    std err          t      P>|t|      [0.025      0.975]\n",
       "---------------------------------------------------------------------------------\n",
       "Intercept      6.302e+06   2.95e+05     21.401      0.000    5.73e+06    6.88e+06\n",
       "bedrooms        -2.5e+04   3680.510     -6.791      0.000   -3.22e+04   -1.78e+04\n",
       "bathrooms      5.179e+04   7163.408      7.230      0.000    3.77e+04    6.58e+04\n",
       "sqft_living      92.3080      5.074     18.192      0.000      82.360     102.256\n",
       "sqft_lot          0.0054      0.093      0.059      0.953      -0.176       0.187\n",
       "floors         3.748e+04   8141.392      4.604      0.000    2.15e+04    5.34e+04\n",
       "waterfront     6.277e+05   3.91e+04     16.064      0.000    5.51e+05    7.04e+05\n",
       "view            4.04e+04   4797.344      8.421      0.000     3.1e+04    4.98e+04\n",
       "condition      1.571e+04   5317.387      2.954      0.003    5280.918    2.61e+04\n",
       "grade          1.306e+05   4700.604     27.789      0.000    1.21e+05     1.4e+05\n",
       "sqft_above       33.7358      4.981      6.773      0.000      23.971      43.501\n",
       "sqft_basement    58.5723      5.840     10.030      0.000      47.123      70.021\n",
       "yr_built      -3666.8957    150.805    -24.316      0.000   -3962.551   -3371.241\n",
       "yr_renovated     17.7032      8.265      2.142      0.032       1.499      33.908\n",
       "sqft_living15    23.0114      7.561      3.044      0.002       8.188      37.834\n",
       "sqft_lot15       -0.2323      0.142     -1.637      0.102      -0.511       0.046\n",
       "==============================================================================\n",
       "Omnibus:                     2170.721   Durbin-Watson:                   2.011\n",
       "Prob(Omnibus):                  0.000   Jarque-Bera (JB):            38362.875\n",
       "Skew:                           1.971   Prob(JB):                         0.00\n",
       "Kurtosis:                      17.051   Cond. No.                     1.16e+17\n",
       "==============================================================================\n",
       "\n",
       "Notes:\n",
       "[1] Standard Errors assume that the covariance matrix of the errors is correctly specified.\n",
       "[2] The smallest eigenvalue is 1.2e-21. This might indicate that there are\n",
       "strong multicollinearity problems or that the design matrix is singular.\n",
       "\"\"\""
      ]
     },
     "execution_count": 32,
     "metadata": {},
     "output_type": "execute_result"
    }
   ],
   "source": [
    "q6_3.summary()"
   ]
  },
  {
   "cell_type": "code",
   "execution_count": 34,
   "id": "8c0f55c8",
   "metadata": {},
   "outputs": [
    {
     "data": {
      "text/plain": [
       "0      2015-03-09\n",
       "1      2015-04-14\n",
       "2      2015-01-02\n",
       "3      2014-10-28\n",
       "4      2014-11-14\n",
       "          ...    \n",
       "4318   2015-01-06\n",
       "4319   2014-12-09\n",
       "4320   2015-03-13\n",
       "4321   2014-07-04\n",
       "4322   2014-06-23\n",
       "Name: date, Length: 4323, dtype: datetime64[ns]"
      ]
     },
     "execution_count": 34,
     "metadata": {},
     "output_type": "execute_result"
    }
   ],
   "source": [
    "# 날짜 핸들링\n",
    "a1 = pd.to_datetime(data6.date)\n",
    "a1"
   ]
  },
  {
   "cell_type": "code",
   "execution_count": 35,
   "id": "323a9336",
   "metadata": {},
   "outputs": [
    {
     "data": {
      "text/plain": [
       "dtype('<M8[ns]')"
      ]
     },
     "execution_count": 35,
     "metadata": {},
     "output_type": "execute_result"
    }
   ],
   "source": [
    "a1.dtype"
   ]
  },
  {
   "cell_type": "code",
   "execution_count": 40,
   "id": "cd9648ad",
   "metadata": {},
   "outputs": [
    {
     "data": {
      "text/plain": [
       "0       월요일\n",
       "1       화요일\n",
       "2       금요일\n",
       "3       화요일\n",
       "4       금요일\n",
       "       ... \n",
       "4318    화요일\n",
       "4319    화요일\n",
       "4320    금요일\n",
       "4321    금요일\n",
       "4322    월요일\n",
       "Name: date, Length: 4323, dtype: object"
      ]
     },
     "execution_count": 40,
     "metadata": {},
     "output_type": "execute_result"
    }
   ],
   "source": [
    "# a1.dt.year\n",
    "# a1.dt.month\n",
    "# a1.dt.day\n",
    "# a1.dt.day_name()\n",
    "a1.dt.day_name(locale='Korean_korea.949')"
   ]
  },
  {
   "cell_type": "code",
   "execution_count": 43,
   "id": "760428b0",
   "metadata": {},
   "outputs": [],
   "source": [
    "a1 = pd.DataFrame(pd.to_datetime(data6.date))"
   ]
  },
  {
   "cell_type": "code",
   "execution_count": 45,
   "id": "b3e278f5",
   "metadata": {},
   "outputs": [],
   "source": [
    "a1['day_name'] = a1.date.dt.day_name(locale='Korean_korea.949')"
   ]
  },
  {
   "cell_type": "code",
   "execution_count": 46,
   "id": "958a82b2",
   "metadata": {},
   "outputs": [
    {
     "data": {
      "text/html": [
       "<div>\n",
       "<style scoped>\n",
       "    .dataframe tbody tr th:only-of-type {\n",
       "        vertical-align: middle;\n",
       "    }\n",
       "\n",
       "    .dataframe tbody tr th {\n",
       "        vertical-align: top;\n",
       "    }\n",
       "\n",
       "    .dataframe thead th {\n",
       "        text-align: right;\n",
       "    }\n",
       "</style>\n",
       "<table border=\"1\" class=\"dataframe\">\n",
       "  <thead>\n",
       "    <tr style=\"text-align: right;\">\n",
       "      <th></th>\n",
       "      <th>date</th>\n",
       "      <th>day_name</th>\n",
       "    </tr>\n",
       "  </thead>\n",
       "  <tbody>\n",
       "    <tr>\n",
       "      <th>0</th>\n",
       "      <td>2015-03-09</td>\n",
       "      <td>월요일</td>\n",
       "    </tr>\n",
       "    <tr>\n",
       "      <th>1</th>\n",
       "      <td>2015-04-14</td>\n",
       "      <td>화요일</td>\n",
       "    </tr>\n",
       "    <tr>\n",
       "      <th>2</th>\n",
       "      <td>2015-01-02</td>\n",
       "      <td>금요일</td>\n",
       "    </tr>\n",
       "    <tr>\n",
       "      <th>3</th>\n",
       "      <td>2014-10-28</td>\n",
       "      <td>화요일</td>\n",
       "    </tr>\n",
       "    <tr>\n",
       "      <th>4</th>\n",
       "      <td>2014-11-14</td>\n",
       "      <td>금요일</td>\n",
       "    </tr>\n",
       "    <tr>\n",
       "      <th>...</th>\n",
       "      <td>...</td>\n",
       "      <td>...</td>\n",
       "    </tr>\n",
       "    <tr>\n",
       "      <th>4318</th>\n",
       "      <td>2015-01-06</td>\n",
       "      <td>화요일</td>\n",
       "    </tr>\n",
       "    <tr>\n",
       "      <th>4319</th>\n",
       "      <td>2014-12-09</td>\n",
       "      <td>화요일</td>\n",
       "    </tr>\n",
       "    <tr>\n",
       "      <th>4320</th>\n",
       "      <td>2015-03-13</td>\n",
       "      <td>금요일</td>\n",
       "    </tr>\n",
       "    <tr>\n",
       "      <th>4321</th>\n",
       "      <td>2014-07-04</td>\n",
       "      <td>금요일</td>\n",
       "    </tr>\n",
       "    <tr>\n",
       "      <th>4322</th>\n",
       "      <td>2014-06-23</td>\n",
       "      <td>월요일</td>\n",
       "    </tr>\n",
       "  </tbody>\n",
       "</table>\n",
       "<p>4323 rows × 2 columns</p>\n",
       "</div>"
      ],
      "text/plain": [
       "           date day_name\n",
       "0    2015-03-09      월요일\n",
       "1    2015-04-14      화요일\n",
       "2    2015-01-02      금요일\n",
       "3    2014-10-28      화요일\n",
       "4    2014-11-14      금요일\n",
       "...         ...      ...\n",
       "4318 2015-01-06      화요일\n",
       "4319 2014-12-09      화요일\n",
       "4320 2015-03-13      금요일\n",
       "4321 2014-07-04      금요일\n",
       "4322 2014-06-23      월요일\n",
       "\n",
       "[4323 rows x 2 columns]"
      ]
     },
     "execution_count": 46,
     "metadata": {},
     "output_type": "execute_result"
    }
   ],
   "source": [
    "a1"
   ]
  },
  {
   "cell_type": "code",
   "execution_count": 50,
   "id": "e0b3188a",
   "metadata": {},
   "outputs": [
    {
     "data": {
      "text/plain": [
       "'Korean_Korea.949'"
      ]
     },
     "execution_count": 50,
     "metadata": {},
     "output_type": "execute_result"
    }
   ],
   "source": [
    "# locale 설정 바꾸기\n",
    "import locale\n",
    "locale.setlocale(locale.LC_ALL,'')"
   ]
  },
  {
   "cell_type": "code",
   "execution_count": 47,
   "id": "ede8b102",
   "metadata": {},
   "outputs": [],
   "source": [
    "a1['day_name2'] = a1.date.dt.strftime('%a')"
   ]
  },
  {
   "cell_type": "code",
   "execution_count": 48,
   "id": "1425ba20",
   "metadata": {},
   "outputs": [
    {
     "data": {
      "text/html": [
       "<div>\n",
       "<style scoped>\n",
       "    .dataframe tbody tr th:only-of-type {\n",
       "        vertical-align: middle;\n",
       "    }\n",
       "\n",
       "    .dataframe tbody tr th {\n",
       "        vertical-align: top;\n",
       "    }\n",
       "\n",
       "    .dataframe thead th {\n",
       "        text-align: right;\n",
       "    }\n",
       "</style>\n",
       "<table border=\"1\" class=\"dataframe\">\n",
       "  <thead>\n",
       "    <tr style=\"text-align: right;\">\n",
       "      <th></th>\n",
       "      <th>date</th>\n",
       "      <th>day_name</th>\n",
       "      <th>day_name2</th>\n",
       "    </tr>\n",
       "  </thead>\n",
       "  <tbody>\n",
       "    <tr>\n",
       "      <th>0</th>\n",
       "      <td>2015-03-09</td>\n",
       "      <td>월요일</td>\n",
       "      <td>Mon</td>\n",
       "    </tr>\n",
       "    <tr>\n",
       "      <th>1</th>\n",
       "      <td>2015-04-14</td>\n",
       "      <td>화요일</td>\n",
       "      <td>Tue</td>\n",
       "    </tr>\n",
       "    <tr>\n",
       "      <th>2</th>\n",
       "      <td>2015-01-02</td>\n",
       "      <td>금요일</td>\n",
       "      <td>Fri</td>\n",
       "    </tr>\n",
       "    <tr>\n",
       "      <th>3</th>\n",
       "      <td>2014-10-28</td>\n",
       "      <td>화요일</td>\n",
       "      <td>Tue</td>\n",
       "    </tr>\n",
       "    <tr>\n",
       "      <th>4</th>\n",
       "      <td>2014-11-14</td>\n",
       "      <td>금요일</td>\n",
       "      <td>Fri</td>\n",
       "    </tr>\n",
       "    <tr>\n",
       "      <th>...</th>\n",
       "      <td>...</td>\n",
       "      <td>...</td>\n",
       "      <td>...</td>\n",
       "    </tr>\n",
       "    <tr>\n",
       "      <th>4318</th>\n",
       "      <td>2015-01-06</td>\n",
       "      <td>화요일</td>\n",
       "      <td>Tue</td>\n",
       "    </tr>\n",
       "    <tr>\n",
       "      <th>4319</th>\n",
       "      <td>2014-12-09</td>\n",
       "      <td>화요일</td>\n",
       "      <td>Tue</td>\n",
       "    </tr>\n",
       "    <tr>\n",
       "      <th>4320</th>\n",
       "      <td>2015-03-13</td>\n",
       "      <td>금요일</td>\n",
       "      <td>Fri</td>\n",
       "    </tr>\n",
       "    <tr>\n",
       "      <th>4321</th>\n",
       "      <td>2014-07-04</td>\n",
       "      <td>금요일</td>\n",
       "      <td>Fri</td>\n",
       "    </tr>\n",
       "    <tr>\n",
       "      <th>4322</th>\n",
       "      <td>2014-06-23</td>\n",
       "      <td>월요일</td>\n",
       "      <td>Mon</td>\n",
       "    </tr>\n",
       "  </tbody>\n",
       "</table>\n",
       "<p>4323 rows × 3 columns</p>\n",
       "</div>"
      ],
      "text/plain": [
       "           date day_name day_name2\n",
       "0    2015-03-09      월요일       Mon\n",
       "1    2015-04-14      화요일       Tue\n",
       "2    2015-01-02      금요일       Fri\n",
       "3    2014-10-28      화요일       Tue\n",
       "4    2014-11-14      금요일       Fri\n",
       "...         ...      ...       ...\n",
       "4318 2015-01-06      화요일       Tue\n",
       "4319 2014-12-09      화요일       Tue\n",
       "4320 2015-03-13      금요일       Fri\n",
       "4321 2014-07-04      금요일       Fri\n",
       "4322 2014-06-23      월요일       Mon\n",
       "\n",
       "[4323 rows x 3 columns]"
      ]
     },
     "execution_count": 48,
     "metadata": {},
     "output_type": "execute_result"
    }
   ],
   "source": [
    "a1"
   ]
  },
  {
   "cell_type": "code",
   "execution_count": 51,
   "id": "71469bb0",
   "metadata": {},
   "outputs": [],
   "source": [
    "a2 = pd.Series(['2023-09-01 오전 10:20:10',\n",
    " '2023-09-02 오전 11:20:10',\n",
    " '2023-09-03 오전 10:20:10',\n",
    " '2023-09-04 오후 09:20:10',\n",
    " '2023-09-05 오전 10:20:10',\n",
    " '2023-09-06 오후 11:20:10'])"
   ]
  },
  {
   "cell_type": "code",
   "execution_count": 52,
   "id": "7eabd3f0",
   "metadata": {},
   "outputs": [
    {
     "data": {
      "text/plain": [
       "0    2023-09-01 오전 10:20:10\n",
       "1    2023-09-02 오전 11:20:10\n",
       "2    2023-09-03 오전 10:20:10\n",
       "3    2023-09-04 오후 09:20:10\n",
       "4    2023-09-05 오전 10:20:10\n",
       "5    2023-09-06 오후 11:20:10\n",
       "dtype: object"
      ]
     },
     "execution_count": 52,
     "metadata": {},
     "output_type": "execute_result"
    }
   ],
   "source": [
    "a2"
   ]
  },
  {
   "cell_type": "code",
   "execution_count": 53,
   "id": "b71423e0",
   "metadata": {},
   "outputs": [
    {
     "data": {
      "text/plain": [
       "dtype('O')"
      ]
     },
     "execution_count": 53,
     "metadata": {},
     "output_type": "execute_result"
    }
   ],
   "source": [
    "a2.dtype # object"
   ]
  },
  {
   "cell_type": "code",
   "execution_count": 54,
   "id": "3846a3c2",
   "metadata": {},
   "outputs": [
    {
     "data": {
      "text/plain": [
       "0   2023-09-01 10:20:10\n",
       "1   2023-09-02 11:20:10\n",
       "2   2023-09-03 10:20:10\n",
       "3   2023-09-04 21:20:10\n",
       "4   2023-09-05 10:20:10\n",
       "5   2023-09-06 23:20:10\n",
       "dtype: datetime64[ns]"
      ]
     },
     "execution_count": 54,
     "metadata": {},
     "output_type": "execute_result"
    }
   ],
   "source": [
    "# https://docs.python.org/3/library/datetime.html#strftime-and-strptime-behavior\n",
    "pd.to_datetime(a2, format='%Y-%m-%d %p %I:%M:%S')"
   ]
  },
  {
   "cell_type": "markdown",
   "id": "0bbf5954",
   "metadata": {},
   "source": [
    "# 문제 07 유형(DataSet_07.csv 이용)"
   ]
  },
  {
   "cell_type": "code",
   "execution_count": null,
   "id": "2e04f741",
   "metadata": {},
   "outputs": [],
   "source": [
    "# =============================================================================\n",
    "# 구분자 : comma(“,”), 400 Rows, 9 Columns, UTF-8 인코딩\n",
    "#\n",
    "# 대학원 진학을 위하여 어떤 항목이 중요하게 영향을 미치는지\n",
    "# 아래 데이터로 분석하고자 한다.\n",
    "\n",
    "# 컬 럼 / 정 의 / Type\n",
    "# Serial_No / 구분자 번호 / Double\n",
    "# GRE / GRE 시험 성적 / Double\n",
    "# TOEFL / TOEFL 시험 성적 / Double\n",
    "# University_Rating / 대학 평가 그룹 (1 ~ 5) / Double\n",
    "# SOP / 자기 소개서 점수 (1 ~ 5) / Double\n",
    "# LOR / 추천서 점수 (1 ~ 5) / Double\n",
    "# CGPA / 학부 평량 평점 (10점 만점 환산 점수) / Double\n",
    "# Research / 연구 참여 경험 여부 (0 / 1) / Double\n",
    "# Chance_of_Admit / 합격 가능성 / Double\n",
    "# =============================================================================\n",
    "# =============================================================================\n",
    "\n",
    "# =============================================================================\n",
    "# (참고)\n",
    "# #1\n",
    "# import pandas as pd\n",
    "# #2\n",
    "# import scipy.stats as stats\n",
    "# #3\n",
    "# from sklearn.linear_model import LogisticRegression\n",
    "# Solver = ‘liblinear’, random_state = 12\n",
    "# ============================================================================="
   ]
  },
  {
   "cell_type": "code",
   "execution_count": null,
   "id": "aaec14d4",
   "metadata": {},
   "outputs": [],
   "source": []
  },
  {
   "cell_type": "code",
   "execution_count": null,
   "id": "ce844b57",
   "metadata": {},
   "outputs": [],
   "source": []
  },
  {
   "cell_type": "code",
   "execution_count": null,
   "id": "5d596143",
   "metadata": {},
   "outputs": [],
   "source": [
    "# =============================================================================\n",
    "# 1. 합격 가능성에 GRE, TOEFL, CGPA 점수 가운데 가장 영향이 큰 것이 어떤 점수인지\n",
    "# 알아 보기 위해서 상관 분석을 수행한다.\n",
    "# - 피어슨(Pearson) 상관계수 값을 구한다.\n",
    "# - Chance_of_Admit와의 가장 큰 상관계수 값을 가지는 항목의 상관계수를 소수점 넷째\n",
    "# 자리에서 반올림하여 셋째 자리까지 기술하시오. (답안 예시) 0.123\n",
    "# ============================================================================="
   ]
  },
  {
   "cell_type": "code",
   "execution_count": null,
   "id": "f0384565",
   "metadata": {},
   "outputs": [],
   "source": []
  },
  {
   "cell_type": "code",
   "execution_count": null,
   "id": "17981cf3",
   "metadata": {},
   "outputs": [],
   "source": []
  },
  {
   "cell_type": "code",
   "execution_count": null,
   "id": "df044255",
   "metadata": {},
   "outputs": [],
   "source": [
    "# =============================================================================\n",
    "# 2.GRE 점수의 평균 이상을 받은 그룹과 평균 미만을 받은 그룹의 CGPA 평균은 차이가\n",
    "# 있는지\n",
    "# 검정을 하고자 한다.\n",
    "# - 적절한 검정 방법을 선택하고 양측 검정을 수행하시오 (등분산으로 가정)\n",
    "# - 검정 결과, 검정통계량의 추정치를 소수점 셋째 자리에서 반올림하여 소수점 두 자리까지\n",
    "# 기술하시오.\n",
    "# (답안 예시) 1.23\n",
    "# ============================================================================="
   ]
  },
  {
   "cell_type": "code",
   "execution_count": null,
   "id": "aa171368",
   "metadata": {},
   "outputs": [],
   "source": []
  },
  {
   "cell_type": "code",
   "execution_count": null,
   "id": "96f5156b",
   "metadata": {},
   "outputs": [],
   "source": []
  },
  {
   "cell_type": "code",
   "execution_count": null,
   "id": "2c744468",
   "metadata": {},
   "outputs": [],
   "source": [
    "# =============================================================================\n",
    "# 3.Chance_of_Admit 확률이 0.5를 초과하면 합격으로, 이하이면 불합격으로 구분하고\n",
    "# 로지스틱 회귀분석을 수행하시오.\n",
    "# - 원데이터만 사용하고, 원데이터 가운데 Serial_No와 Label은 모형에서 제외\n",
    "# - 각 설정값은 다음과 같이 지정하고, 언급되지 않은 사항은 기본 설정값을 사용하시오\n",
    "# Seed : 123\n",
    "# - 로지스틱 회귀분석 수행 결과에서 로지스틱 회귀계수의 절대값이 가장 큰 변수와 그 값을\n",
    "# 기술하시오. \n",
    "# (로지스틱 회귀계수는 반올림하여 소수점 둘째 자리까지 / Intercept는 제외)\n",
    "# (답안 예시) abc, 0.12\n",
    "# ============================================================================="
   ]
  },
  {
   "cell_type": "code",
   "execution_count": null,
   "id": "96f8f708",
   "metadata": {},
   "outputs": [],
   "source": []
  },
  {
   "cell_type": "code",
   "execution_count": null,
   "id": "cf53a96d",
   "metadata": {},
   "outputs": [],
   "source": []
  },
  {
   "cell_type": "markdown",
   "id": "49cfc502",
   "metadata": {},
   "source": [
    "# 문제 08 유형(DataSet_08.csv 이용)"
   ]
  },
  {
   "cell_type": "code",
   "execution_count": null,
   "id": "b2ee895f",
   "metadata": {},
   "outputs": [],
   "source": [
    "# =============================================================================\n",
    "# 구분자 : comma(“,”), 50 Rows, 5 Columns, UTF-8 인코딩\n",
    "#\n",
    "# 스타트업 기업들의 수익성에 대한 분석을 하기 위하여\n",
    "# 아래와 같은 데이터를 입수하였다\n",
    "#\n",
    "# \n",
    "# 컬 럼 / 정 의 / Type\n",
    "# RandD_Spend / 연구개발비 지출 / Double\n",
    "# Administration / 운영관리비 지출 / Double\n",
    "# Marketing_Spend / 마케팅비 지출 / Double\n",
    "# State / 본사 위치 / String\n",
    "# Profit / 이익 / Double\n",
    "# =============================================================================\n",
    "# =============================================================================\n",
    "\n",
    "# =============================================================================\n",
    "# (참고)\n",
    "# #1\n",
    "# import pandas as pd\n",
    "# import numpy as np\n",
    "# #3\n",
    "# from sklearn.linear_model import LinearRegression\n",
    "# ============================================================================="
   ]
  },
  {
   "cell_type": "code",
   "execution_count": null,
   "id": "1c479e6d",
   "metadata": {},
   "outputs": [],
   "source": []
  },
  {
   "cell_type": "code",
   "execution_count": null,
   "id": "04955f93",
   "metadata": {},
   "outputs": [],
   "source": []
  },
  {
   "cell_type": "code",
   "execution_count": null,
   "id": "bc69956e",
   "metadata": {},
   "outputs": [],
   "source": [
    "# =============================================================================\n",
    "# 1.각 주(State)별 데이터 구성비를 소수점 둘째 자리까지 구하고, 알파벳 순으로\n",
    "# 기술하시오(주 이름 기준).\n",
    "# (답안 예시) 0.12, 0.34, 0.54\n",
    "# ============================================================================="
   ]
  },
  {
   "cell_type": "code",
   "execution_count": null,
   "id": "da90f80a",
   "metadata": {},
   "outputs": [],
   "source": []
  },
  {
   "cell_type": "code",
   "execution_count": null,
   "id": "0154aa0f",
   "metadata": {},
   "outputs": [],
   "source": []
  },
  {
   "cell_type": "code",
   "execution_count": null,
   "id": "2c86c11d",
   "metadata": {},
   "outputs": [],
   "source": [
    "# =============================================================================\n",
    "# 2.주별 이익의 평균을 구하고, 평균 이익이 가장 큰 주와 작은 주의 차이를 구하시오. \n",
    "# 차이값은 소수점 이하는 버리고 정수부분만 기술하시오. (답안 예시) 1234\n",
    "# ============================================================================="
   ]
  },
  {
   "cell_type": "code",
   "execution_count": null,
   "id": "e869f79a",
   "metadata": {},
   "outputs": [],
   "source": []
  },
  {
   "cell_type": "code",
   "execution_count": null,
   "id": "7c063132",
   "metadata": {},
   "outputs": [],
   "source": []
  },
  {
   "cell_type": "code",
   "execution_count": null,
   "id": "64ff523c",
   "metadata": {},
   "outputs": [],
   "source": [
    "# =============================================================================\n",
    "# 3.독립변수로 RandD_Spend, Administration, Marketing_Spend를 사용하여 Profit을 주별로\n",
    "# 예측하는 회귀 모형을 만들고, 이 회귀모형을 사용하여 학습오차를 산출하시오.\n",
    "# - 주별로 계산된 학습오차 중 MAPE 기준으로 가장 낮은 오차를 보이는 주는 어느\n",
    "# 주이고 그 값은 무엇인가? (반올림하여 소수점 둘째 자리까지 기술하시오)\n",
    "# - (MAPE = Σ ( | y - y ̂ | / y ) * 100/n )\n",
    "# (답안 예시) ABC, 1.56\n",
    "# ============================================================================="
   ]
  },
  {
   "cell_type": "code",
   "execution_count": null,
   "id": "f378cf27",
   "metadata": {},
   "outputs": [],
   "source": []
  },
  {
   "cell_type": "code",
   "execution_count": null,
   "id": "5ef0cbbe",
   "metadata": {},
   "outputs": [],
   "source": []
  },
  {
   "cell_type": "markdown",
   "id": "bf173895",
   "metadata": {},
   "source": [
    "# 문제 09 유형(DataSet_09.csv 이용)"
   ]
  },
  {
   "cell_type": "code",
   "execution_count": null,
   "id": "f697c213",
   "metadata": {},
   "outputs": [],
   "source": [
    "# =============================================================================\n",
    "# 구분자 : comma(“,”), 2000 Rows, 16 Columns, UTF-8 인코딩\n",
    "#\n",
    "# 항공사에서 고객만족도 조사를 하고 서비스 개선에 활용하고자\n",
    "# 아래와 같은 데이터를 준비하였다.\n",
    "#\n",
    "# 컬 럼 / 정 의 / Type\n",
    "# satisfaction / 서비스 만족 여부 / String\n",
    "# Gender / 성별 / String\n",
    "# Age / 나이 / Double\n",
    "# Customer_Type / 고객 타입 / String\n",
    "# Class / 탑승 좌석 등급 / String\n",
    "# Flight_Distance / 비행 거리 / Double\n",
    "# Seat_comfort / 좌석 안락도 점수 / Double\n",
    "# Food_and_Drink / 식사와 음료 점수 / Double\n",
    "# Inflight_wifi_service / 기내 와이파이 서비스 점수 / Double\n",
    "# Inflight_entertainment / 기내 엔터테인먼트 서비스 점수 / Double\n",
    "# Onboard_service / 탑승 서비스 점수 / Double\n",
    "# Leg_room_service / 다리 공간 점수 / Double\n",
    "# Baggage_handling / 수하물 취급 점수 / Double\n",
    "# Cleanliness / 청결도 점수 / Double\n",
    "# Departure_Daly_in_Minutes / 출발 지연 (분) / Double\n",
    "# Arrival_Delay_in_Minutes / 도착 지연 (분) / Double\n",
    "# =============================================================================\n",
    "# =============================================================================\n",
    "\n",
    "# =============================================================================\n",
    "# (참고)\n",
    "# #1\n",
    "# import pandas as pd\n",
    "# import numpy as np\n",
    "# #2\n",
    "# import scipy.stats as stats\n",
    "# #3\n",
    "# from sklearn.linear_model import LogisticRegression\n",
    "# from sklearn.model_selection import train_test_split\n",
    "# from sklearn import metrics\n",
    "# \n",
    "# ============================================================================="
   ]
  },
  {
   "cell_type": "code",
   "execution_count": null,
   "id": "6b2df10e",
   "metadata": {},
   "outputs": [],
   "source": [
    "# =============================================================================\n",
    "# 1.데이터 타입을 위 표에 정의된 타입으로 전처리를 한 후, 데이터 파일 내에 결측값은\n",
    "# 총 몇 개인가? (답안 예시) 1\n",
    "# ============================================================================="
   ]
  },
  {
   "cell_type": "code",
   "execution_count": null,
   "id": "c2c527ed",
   "metadata": {},
   "outputs": [],
   "source": []
  },
  {
   "cell_type": "code",
   "execution_count": null,
   "id": "2f55e8aa",
   "metadata": {},
   "outputs": [],
   "source": []
  },
  {
   "cell_type": "code",
   "execution_count": null,
   "id": "926d0818",
   "metadata": {},
   "outputs": [],
   "source": [
    "# =============================================================================\n",
    "# 2.다음에 제시된 데이터 처리를 하고 카이제곱 독립성 검정을 수행하시오.\n",
    "# - 결측값이 있다면 해당 행을 제거하시오.\n",
    "# - 나이는 20 이하이면 10, 30 이하이면 20, 40 이하이면 30, 50 이하이면 40, 60 이하이면 50, \n",
    "# 60 초과는 60으로 변환하여 Age_gr으로 파생변수를 생성하시오.\n",
    "# - Age_gr, Gender, Customer_Type, Class 변수가 satisfaction에 영향이 있는지 카이제곱\n",
    "# 독립성 검정을 수행하시오. \n",
    "# - 연관성이 있는 것으로 파악된 변수의 검정통계량 추정치를 정수 부분만 기술하시오. \n",
    "# (답안 예시) 123\n",
    "# ============================================================================="
   ]
  },
  {
   "cell_type": "code",
   "execution_count": null,
   "id": "e305d6b6",
   "metadata": {},
   "outputs": [],
   "source": [
    "#%%\n",
    "\n",
    "# =============================================================================\n",
    "# 3.고객 만족도를 라벨로 하여 다음과 같이 로지스틱 회귀분석을 수행하시오. \n",
    "# - 결측치가 포함된 행은 제거\n",
    "# - 데이터를 7대 3으로 분리 (Seed = 123)\n",
    "# - 아래의 11개 변수를 Feature로 사용\n",
    "# Flight_Distance, Seat_comfort, Food_and_drink, Inflight_wifi_service, \n",
    "# Inflight_entertainment,Onboard_service, Leg_room_service, Baggage_handling,\n",
    "# Cleanliness, Departure_Delay_in_Minutes, Arrival_Delay_in_Minutes\n",
    "# \n",
    "# - Seed = 123, 이외의 항목은 모두 Default 사용\n",
    "# - 예측 정확도를 측정하고 dissatisfied의 f1 score를 소수점 넷째 자리에서 반올림하여\n",
    "# 소수점 셋째 자리까지 기술하시오. (답안 예시) 0.123\n",
    "# =============================================================================\n",
    "\n",
    "\n",
    "\n",
    "\n",
    "\n",
    "\n",
    "\n",
    "\n",
    "\n",
    "\n",
    "\n",
    "\n",
    "\n",
    "\n",
    "\n",
    "#%%\n",
    "\n",
    "# =============================================================================\n",
    "# =============================================================================\n",
    "# # 문제 10 유형(DataSet_10.csv 이용)\n",
    "#\n",
    "# 구분자 : comma(“,”), 1538 Rows, 6 Columns, UTF-8 인코딩\n",
    "\n",
    "# 중고 자동차 가격에 대한 분석을 위하여 아래와 같은 데이터를\n",
    "# 확보하였다.\n",
    "\n",
    "# 컬 럼 / 정 의 / Type\n",
    "# model / 모델명 / String\n",
    "# engine_power / 엔진 파워 / Double\n",
    "# age_in_days / 운행 일수 / Double\n",
    "# km / 운행 거리 / Double\n",
    "# previous_owners / 이전 소유자 수 / Double\n",
    "# price / 중고차 가격 / Double\n",
    "# =============================================================================\n",
    "# =============================================================================\n",
    "\n",
    "# =============================================================================\n",
    "# (참고)\n",
    "# #1\n",
    "# import pandas as pd\n",
    "# import numpy as np\n",
    "# #2\n",
    "# import scipy.stats as ststs\n",
    "# #3\n",
    "# from sklearn.linear_model import LinearRegression\n",
    "# =============================================================================\n",
    "\n",
    "\n",
    "#%%\n",
    "\n",
    "# =============================================================================\n",
    "# 1.이전 소유자 수가 한 명이고 엔진 파워가 51인 차에 대해 모델별 하루 평균 운행\n",
    "# 거리를 산출하였을 때 가장 낮은 값을 가진 모델이 가장 큰 값을 가진 모델에 대한\n",
    "# 비율은 얼마인가? 소수점 셋째 자리에서 반올림하여 소수점 둘째 자리까지\n",
    "# 기술하시오.\n",
    "# (모델별 평균 → 일평균 → 최대최소 비율 계산) (답안 예시) 0.12\n",
    "# =============================================================================\n",
    "\n",
    "\n",
    "\n",
    "\n",
    "\n",
    "\n",
    "\n",
    "\n",
    "\n",
    "\n",
    "\n",
    "\n",
    "\n",
    "#%%\n",
    "\n",
    "# =============================================================================\n",
    "# 2.운행 일수에 대한 운행 거리를 산출하고, 위 1번 문제에서 가장 큰 값을 가지고 있던\n",
    "# 모델과 가장 낮은 값을 가지고 있던 모델 간의 운행 일수 대비 운행거리 평균이 다른지\n",
    "# 적절한 통계 검정을 수행하고 p-value를 소수점 세자리 이하는 버리고 소수점\n",
    "# 두자리까지 기술하고 기각 여부를 Y / N로 답하시오. (등분산을 가정하고 equal_var = \n",
    "# True / var.equal = T로 분석을 실행하시오.)\n",
    "# (답안 예시) 0.23, Y\n",
    "# =============================================================================\n",
    "\n",
    "\n",
    "\n",
    "\n",
    "\n",
    "\n",
    "\n",
    "\n",
    "\n",
    "\n",
    "#%%\n",
    "\n",
    "# =============================================================================\n",
    "# 3.독립변수로 engine_power, age_in_days, km를 사용하고 종속변수로 price를 사용하여\n",
    "# 모델별 선형회귀분석을 수행하고, 산출된 모형을 사용하여 다음과 같은 조건의\n",
    "# 중고차에 대한 가격을 예측하고 예측된 가격을 정수부만 기술하시오.\n",
    "# - model : pop / engine_power : 51 / age_in_days : 400 / km : 9500 / previous_owners : 2\n",
    "\n",
    "# (답안 예시) 12345\n",
    "# =============================================================================\n",
    "# model = pop이고 이전 소유자수가 2명인 데이터만을 이용하여 회귀모델을 생성하시오."
   ]
  }
 ],
 "metadata": {
  "kernelspec": {
   "display_name": "Python 3 (ipykernel)",
   "language": "python",
   "name": "python3"
  },
  "language_info": {
   "codemirror_mode": {
    "name": "ipython",
    "version": 3
   },
   "file_extension": ".py",
   "mimetype": "text/x-python",
   "name": "python",
   "nbconvert_exporter": "python",
   "pygments_lexer": "ipython3",
   "version": "3.11.4"
  }
 },
 "nbformat": 4,
 "nbformat_minor": 5
}
