{
 "cells": [
  {
   "cell_type": "markdown",
   "id": "c6f03222",
   "metadata": {},
   "source": [
    "# 문제 01 유형(DataSet_01.csv 이용)"
   ]
  },
  {
   "cell_type": "code",
   "execution_count": null,
   "id": "ddf17829",
   "metadata": {},
   "outputs": [],
   "source": [
    "# =============================================================================\n",
    "# 구분자 : comma(“,”), 4,572 Rows, 5 Columns, UTF-8 인코딩\n",
    "# \n",
    "# 글로벌 전자제품 제조회사에서 효과적인 마케팅 방법을 찾기\n",
    "# 위해서 채널별 마케팅 예산과 매출금액과의 관계를 분석하고자\n",
    "# 한다.\n",
    "# 컬 럼 / 정 의  /   Type\n",
    "# TV   /     TV 마케팅 예산 (억원)  /   Double\n",
    "# Radio / 라디오 마케팅 예산 (억원)  /   Double\n",
    "# Social_Media / 소셜미디어 마케팅 예산 (억원)  / Double\n",
    "# Influencer / 인플루언서 마케팅\n",
    "# (인플루언서의 영향력 크기에 따라 Mega / Macro / Micro / \n",
    "# Nano) / String\n",
    "\n",
    "# SALES / 매출액 / Double\n",
    "# ============================================================================="
   ]
  },
  {
   "cell_type": "code",
   "execution_count": 1,
   "id": "984be96c",
   "metadata": {},
   "outputs": [],
   "source": [
    "import pandas as pd\n",
    "import numpy as np\n",
    "import warnings"
   ]
  },
  {
   "cell_type": "code",
   "execution_count": 2,
   "id": "feadff89",
   "metadata": {},
   "outputs": [],
   "source": [
    "warnings.filterwarnings('ignore')"
   ]
  },
  {
   "cell_type": "code",
   "execution_count": 3,
   "id": "185d771b",
   "metadata": {},
   "outputs": [],
   "source": [
    "data1=pd.read_csv('../Dataset/Dataset_01.csv')"
   ]
  },
  {
   "cell_type": "code",
   "execution_count": 4,
   "id": "04e72381",
   "metadata": {},
   "outputs": [
    {
     "name": "stdout",
     "output_type": "stream",
     "text": [
      "<class 'pandas.core.frame.DataFrame'>\n",
      "RangeIndex: 4572 entries, 0 to 4571\n",
      "Data columns (total 5 columns):\n",
      " #   Column        Non-Null Count  Dtype  \n",
      "---  ------        --------------  -----  \n",
      " 0   TV            4562 non-null   float64\n",
      " 1   Radio         4568 non-null   float64\n",
      " 2   Social_Media  4566 non-null   float64\n",
      " 3   Influencer    4572 non-null   object \n",
      " 4   Sales         4566 non-null   float64\n",
      "dtypes: float64(4), object(1)\n",
      "memory usage: 178.7+ KB\n"
     ]
    }
   ],
   "source": [
    "data1.info()"
   ]
  },
  {
   "cell_type": "code",
   "execution_count": 5,
   "id": "8e77bbf1",
   "metadata": {},
   "outputs": [
    {
     "data": {
      "text/html": [
       "<div>\n",
       "<style scoped>\n",
       "    .dataframe tbody tr th:only-of-type {\n",
       "        vertical-align: middle;\n",
       "    }\n",
       "\n",
       "    .dataframe tbody tr th {\n",
       "        vertical-align: top;\n",
       "    }\n",
       "\n",
       "    .dataframe thead th {\n",
       "        text-align: right;\n",
       "    }\n",
       "</style>\n",
       "<table border=\"1\" class=\"dataframe\">\n",
       "  <thead>\n",
       "    <tr style=\"text-align: right;\">\n",
       "      <th></th>\n",
       "      <th>TV</th>\n",
       "      <th>Radio</th>\n",
       "      <th>Social_Media</th>\n",
       "      <th>Influencer</th>\n",
       "      <th>Sales</th>\n",
       "    </tr>\n",
       "  </thead>\n",
       "  <tbody>\n",
       "    <tr>\n",
       "      <th>0</th>\n",
       "      <td>16.0</td>\n",
       "      <td>6.566231</td>\n",
       "      <td>2.907983</td>\n",
       "      <td>Mega</td>\n",
       "      <td>54.732757</td>\n",
       "    </tr>\n",
       "    <tr>\n",
       "      <th>1</th>\n",
       "      <td>13.0</td>\n",
       "      <td>9.237765</td>\n",
       "      <td>2.409567</td>\n",
       "      <td>Mega</td>\n",
       "      <td>46.677897</td>\n",
       "    </tr>\n",
       "    <tr>\n",
       "      <th>2</th>\n",
       "      <td>41.0</td>\n",
       "      <td>15.886446</td>\n",
       "      <td>2.913410</td>\n",
       "      <td>Mega</td>\n",
       "      <td>150.177829</td>\n",
       "    </tr>\n",
       "    <tr>\n",
       "      <th>3</th>\n",
       "      <td>83.0</td>\n",
       "      <td>30.020028</td>\n",
       "      <td>6.922304</td>\n",
       "      <td>Mega</td>\n",
       "      <td>298.246340</td>\n",
       "    </tr>\n",
       "    <tr>\n",
       "      <th>4</th>\n",
       "      <td>15.0</td>\n",
       "      <td>8.437408</td>\n",
       "      <td>1.405998</td>\n",
       "      <td>Micro</td>\n",
       "      <td>56.594181</td>\n",
       "    </tr>\n",
       "  </tbody>\n",
       "</table>\n",
       "</div>"
      ],
      "text/plain": [
       "     TV      Radio  Social_Media Influencer       Sales\n",
       "0  16.0   6.566231      2.907983       Mega   54.732757\n",
       "1  13.0   9.237765      2.409567       Mega   46.677897\n",
       "2  41.0  15.886446      2.913410       Mega  150.177829\n",
       "3  83.0  30.020028      6.922304       Mega  298.246340\n",
       "4  15.0   8.437408      1.405998      Micro   56.594181"
      ]
     },
     "execution_count": 5,
     "metadata": {},
     "output_type": "execute_result"
    }
   ],
   "source": [
    "data1.head()"
   ]
  },
  {
   "cell_type": "markdown",
   "id": "9b80a6cb",
   "metadata": {},
   "source": [
    "- 회귀분석으로 효과적인 마케팅 채널 찾기\n",
    "    - 패키지 선정: scikit-learn(sklearn), statsmodels\n",
    "    - 패키지별 특징이 존재함\n",
    "        - sklearn: numpy 채택(결측치 없어야 됨, 입력은 2D 수치형으로 픽스)\n",
    "        - statsmodels: Series, DataFrame 채택(자동적으로 결측치 제외, 입력에 문자열 들어가도 가능, 자동적으로 더미로 변경)"
   ]
  },
  {
   "cell_type": "code",
   "execution_count": null,
   "id": "5a654b3e",
   "metadata": {},
   "outputs": [],
   "source": [
    "# =============================================================================\n",
    "# 1. 데이터 세트 내에 총 결측값의 개수는 몇 개인가? (답안 예시) 23\n",
    "# ============================================================================="
   ]
  },
  {
   "cell_type": "code",
   "execution_count": 9,
   "id": "45878dc5",
   "metadata": {},
   "outputs": [
    {
     "data": {
      "text/plain": [
       "26"
      ]
     },
     "execution_count": 9,
     "metadata": {},
     "output_type": "execute_result"
    }
   ],
   "source": [
    "# isna와 isnull의 차이를 설명함\n",
    "# 데이터프레임의 한 cell에는 여러 데이터타입이 들어갈 수 있는데\n",
    "# 여러 값을 넣을 수 있는 데이터타입 또한 들어갈 수 있다.\n",
    "# 이런 경우 여러 값 중 결측값이 존재할 때, 이 결측값은 na가 아닌 null로 인식된다.\n",
    "# 이런 경우 isna에서는 결측값으로 인식하지 못하고\n",
    "# isnull에서는 결측값으로 인식한다.\n",
    "# data1의 데이터는 isna와 isnull을 구별하여 사용할 필요는 없는 데이터이다.\n",
    "data1.isna().sum().sum()"
   ]
  },
  {
   "cell_type": "code",
   "execution_count": 10,
   "id": "94503415",
   "metadata": {},
   "outputs": [
    {
     "data": {
      "text/plain": [
       "0    4546\n",
       "1      26\n",
       "dtype: int64"
      ]
     },
     "execution_count": 10,
     "metadata": {},
     "output_type": "execute_result"
    }
   ],
   "source": [
    "data1.isna().sum(axis=1).value_counts()\n",
    "# 전체 행 대비 null값이 존재하는 행의 수가 많으면 이를 보정시 데이터에 많은 왜곡이\n",
    "# 발생하므로 이런 경우에는 결측치를 삭제한다."
   ]
  },
  {
   "cell_type": "code",
   "execution_count": 12,
   "id": "319ffc97",
   "metadata": {},
   "outputs": [
    {
     "data": {
      "text/plain": [
       "array([False, False, False, ..., False, False, False])"
      ]
     },
     "execution_count": 12,
     "metadata": {},
     "output_type": "execute_result"
    }
   ],
   "source": [
    "data1.TV.isna().values"
   ]
  },
  {
   "cell_type": "code",
   "execution_count": 13,
   "id": "1e8dd1e4",
   "metadata": {},
   "outputs": [
    {
     "data": {
      "text/html": [
       "<div>\n",
       "<style scoped>\n",
       "    .dataframe tbody tr th:only-of-type {\n",
       "        vertical-align: middle;\n",
       "    }\n",
       "\n",
       "    .dataframe tbody tr th {\n",
       "        vertical-align: top;\n",
       "    }\n",
       "\n",
       "    .dataframe thead th {\n",
       "        text-align: right;\n",
       "    }\n",
       "</style>\n",
       "<table border=\"1\" class=\"dataframe\">\n",
       "  <thead>\n",
       "    <tr style=\"text-align: right;\">\n",
       "      <th></th>\n",
       "      <th>TV</th>\n",
       "      <th>Radio</th>\n",
       "      <th>Social_Media</th>\n",
       "      <th>Influencer</th>\n",
       "      <th>Sales</th>\n",
       "    </tr>\n",
       "  </thead>\n",
       "  <tbody>\n",
       "    <tr>\n",
       "      <th>13</th>\n",
       "      <td>NaN</td>\n",
       "      <td>22.351667</td>\n",
       "      <td>3.031815</td>\n",
       "      <td>Mega</td>\n",
       "      <td>276.165351</td>\n",
       "    </tr>\n",
       "    <tr>\n",
       "      <th>26</th>\n",
       "      <td>NaN</td>\n",
       "      <td>34.111674</td>\n",
       "      <td>4.624148</td>\n",
       "      <td>Nano</td>\n",
       "      <td>342.913372</td>\n",
       "    </tr>\n",
       "    <tr>\n",
       "      <th>46</th>\n",
       "      <td>NaN</td>\n",
       "      <td>34.859637</td>\n",
       "      <td>7.781417</td>\n",
       "      <td>Mega</td>\n",
       "      <td>318.969784</td>\n",
       "    </tr>\n",
       "    <tr>\n",
       "      <th>75</th>\n",
       "      <td>NaN</td>\n",
       "      <td>6.482293</td>\n",
       "      <td>0.866845</td>\n",
       "      <td>Macro</td>\n",
       "      <td>91.177216</td>\n",
       "    </tr>\n",
       "    <tr>\n",
       "      <th>99</th>\n",
       "      <td>NaN</td>\n",
       "      <td>7.635819</td>\n",
       "      <td>1.554146</td>\n",
       "      <td>Macro</td>\n",
       "      <td>56.186730</td>\n",
       "    </tr>\n",
       "    <tr>\n",
       "      <th>119</th>\n",
       "      <td>NaN</td>\n",
       "      <td>30.470485</td>\n",
       "      <td>6.806919</td>\n",
       "      <td>Micro</td>\n",
       "      <td>336.818690</td>\n",
       "    </tr>\n",
       "    <tr>\n",
       "      <th>141</th>\n",
       "      <td>NaN</td>\n",
       "      <td>9.164464</td>\n",
       "      <td>1.096681</td>\n",
       "      <td>Macro</td>\n",
       "      <td>65.259189</td>\n",
       "    </tr>\n",
       "    <tr>\n",
       "      <th>163</th>\n",
       "      <td>NaN</td>\n",
       "      <td>38.118424</td>\n",
       "      <td>6.676611</td>\n",
       "      <td>Micro</td>\n",
       "      <td>328.555184</td>\n",
       "    </tr>\n",
       "    <tr>\n",
       "      <th>183</th>\n",
       "      <td>NaN</td>\n",
       "      <td>1.287060</td>\n",
       "      <td>0.396179</td>\n",
       "      <td>Macro</td>\n",
       "      <td>56.545293</td>\n",
       "    </tr>\n",
       "    <tr>\n",
       "      <th>210</th>\n",
       "      <td>NaN</td>\n",
       "      <td>17.007075</td>\n",
       "      <td>5.199635</td>\n",
       "      <td>Macro</td>\n",
       "      <td>208.816382</td>\n",
       "    </tr>\n",
       "  </tbody>\n",
       "</table>\n",
       "</div>"
      ],
      "text/plain": [
       "     TV      Radio  Social_Media Influencer       Sales\n",
       "13  NaN  22.351667      3.031815       Mega  276.165351\n",
       "26  NaN  34.111674      4.624148       Nano  342.913372\n",
       "46  NaN  34.859637      7.781417       Mega  318.969784\n",
       "75  NaN   6.482293      0.866845      Macro   91.177216\n",
       "99  NaN   7.635819      1.554146      Macro   56.186730\n",
       "119 NaN  30.470485      6.806919      Micro  336.818690\n",
       "141 NaN   9.164464      1.096681      Macro   65.259189\n",
       "163 NaN  38.118424      6.676611      Micro  328.555184\n",
       "183 NaN   1.287060      0.396179      Macro   56.545293\n",
       "210 NaN  17.007075      5.199635      Macro  208.816382"
      ]
     },
     "execution_count": 13,
     "metadata": {},
     "output_type": "execute_result"
    }
   ],
   "source": [
    "data1[data1.TV.isna()]"
   ]
  },
  {
   "cell_type": "code",
   "execution_count": 15,
   "id": "09398e0f",
   "metadata": {},
   "outputs": [
    {
     "data": {
      "text/plain": [
       "(array([ 13,  26,  46,  75,  99, 119, 141, 163, 183, 210], dtype=int64),)"
      ]
     },
     "execution_count": 15,
     "metadata": {},
     "output_type": "execute_result"
    }
   ],
   "source": [
    "na_idx=np.where(data1.TV.isna())\n",
    "na_idx"
   ]
  },
  {
   "cell_type": "code",
   "execution_count": 18,
   "id": "54e9e8a2",
   "metadata": {},
   "outputs": [
    {
     "data": {
      "text/plain": [
       "array([ 13,  26,  46,  75,  99, 119, 141, 163, 183, 210], dtype=int64)"
      ]
     },
     "execution_count": 18,
     "metadata": {},
     "output_type": "execute_result"
    }
   ],
   "source": [
    "na_idx[0]"
   ]
  },
  {
   "cell_type": "code",
   "execution_count": null,
   "id": "a153557b",
   "metadata": {},
   "outputs": [],
   "source": [
    "# =============================================================================\n",
    "# 2. TV, Radio, Social Media 등 세 가지 다른 마케팅 채널의 예산과 매출액과의 상관분석을\n",
    "# 통하여 각 채널이 매출에 어느 정도 연관이 있는지 알아보고자 한다. \n",
    "# - 매출액과 가장 강한 상관관계를 가지고 있는 채널의 상관계수를 소수점 5번째\n",
    "# 자리에서 반올림하여 소수점 넷째 자리까지 기술하시오. (답안 예시) 0.1234\n",
    "# ============================================================================="
   ]
  },
  {
   "cell_type": "code",
   "execution_count": null,
   "id": "4e5171a6",
   "metadata": {},
   "outputs": [],
   "source": [
    "# !pip install seaborn"
   ]
  },
  {
   "cell_type": "code",
   "execution_count": 19,
   "id": "f5814b7f",
   "metadata": {},
   "outputs": [],
   "source": [
    "import seaborn as sns"
   ]
  },
  {
   "cell_type": "code",
   "execution_count": 21,
   "id": "1e2fc721",
   "metadata": {},
   "outputs": [],
   "source": [
    "%matplotlib inline"
   ]
  },
  {
   "cell_type": "code",
   "execution_count": 22,
   "id": "c369299e",
   "metadata": {},
   "outputs": [
    {
     "data": {
      "text/plain": [
       "<seaborn.axisgrid.PairGrid at 0x231ee5ed400>"
      ]
     },
     "execution_count": 22,
     "metadata": {},
     "output_type": "execute_result"
    },
    {
     "data": {
      "image/png": "[encoded data removed]",
      "text/plain": [
       "<Figure size 720x720 with 20 Axes>"
      ]
     },
     "metadata": {
      "needs_background": "light"
     },
     "output_type": "display_data"
    }
   ],
   "source": [
    "sns.pairplot(data1)"
   ]
  },
  {
   "cell_type": "code",
   "execution_count": 26,
   "id": "3de9cf19",
   "metadata": {},
   "outputs": [],
   "source": [
    "? data1.corr"
   ]
  },
  {
   "cell_type": "code",
   "execution_count": 23,
   "id": "6eec3483",
   "metadata": {},
   "outputs": [],
   "source": [
    "q1=data1.corr()"
   ]
  },
  {
   "cell_type": "code",
   "execution_count": 24,
   "id": "dada1a2b",
   "metadata": {},
   "outputs": [
    {
     "data": {
      "text/html": [
       "<div>\n",
       "<style scoped>\n",
       "    .dataframe tbody tr th:only-of-type {\n",
       "        vertical-align: middle;\n",
       "    }\n",
       "\n",
       "    .dataframe tbody tr th {\n",
       "        vertical-align: top;\n",
       "    }\n",
       "\n",
       "    .dataframe thead th {\n",
       "        text-align: right;\n",
       "    }\n",
       "</style>\n",
       "<table border=\"1\" class=\"dataframe\">\n",
       "  <thead>\n",
       "    <tr style=\"text-align: right;\">\n",
       "      <th></th>\n",
       "      <th>TV</th>\n",
       "      <th>Radio</th>\n",
       "      <th>Social_Media</th>\n",
       "      <th>Sales</th>\n",
       "    </tr>\n",
       "  </thead>\n",
       "  <tbody>\n",
       "    <tr>\n",
       "      <th>TV</th>\n",
       "      <td>1.000000</td>\n",
       "      <td>0.869460</td>\n",
       "      <td>0.528168</td>\n",
       "      <td>0.999497</td>\n",
       "    </tr>\n",
       "    <tr>\n",
       "      <th>Radio</th>\n",
       "      <td>0.869460</td>\n",
       "      <td>1.000000</td>\n",
       "      <td>0.607452</td>\n",
       "      <td>0.869105</td>\n",
       "    </tr>\n",
       "    <tr>\n",
       "      <th>Social_Media</th>\n",
       "      <td>0.528168</td>\n",
       "      <td>0.607452</td>\n",
       "      <td>1.000000</td>\n",
       "      <td>0.528906</td>\n",
       "    </tr>\n",
       "    <tr>\n",
       "      <th>Sales</th>\n",
       "      <td>0.999497</td>\n",
       "      <td>0.869105</td>\n",
       "      <td>0.528906</td>\n",
       "      <td>1.000000</td>\n",
       "    </tr>\n",
       "  </tbody>\n",
       "</table>\n",
       "</div>"
      ],
      "text/plain": [
       "                    TV     Radio  Social_Media     Sales\n",
       "TV            1.000000  0.869460      0.528168  0.999497\n",
       "Radio         0.869460  1.000000      0.607452  0.869105\n",
       "Social_Media  0.528168  0.607452      1.000000  0.528906\n",
       "Sales         0.999497  0.869105      0.528906  1.000000"
      ]
     },
     "execution_count": 24,
     "metadata": {},
     "output_type": "execute_result"
    }
   ],
   "source": [
    "q1"
   ]
  },
  {
   "cell_type": "code",
   "execution_count": 27,
   "id": "317539fe",
   "metadata": {},
   "outputs": [
    {
     "data": {
      "text/plain": [
       "<function seaborn.matrix.heatmap(data, *, vmin=None, vmax=None, cmap=None, center=None, robust=False, annot=None, fmt='.2g', annot_kws=None, linewidths=0, linecolor='white', cbar=True, cbar_kws=None, cbar_ax=None, square=False, xticklabels='auto', yticklabels='auto', mask=None, ax=None, **kwargs)>"
      ]
     },
     "execution_count": 27,
     "metadata": {},
     "output_type": "execute_result"
    }
   ],
   "source": [
    "sns.heatmap"
   ]
  },
  {
   "cell_type": "code",
   "execution_count": 25,
   "id": "1950012c",
   "metadata": {},
   "outputs": [
    {
     "data": {
      "text/plain": [
       "<AxesSubplot:>"
      ]
     },
     "execution_count": 25,
     "metadata": {},
     "output_type": "execute_result"
    },
    {
     "data": {
      "image/png": "[encoded data removed]",
      "text/plain": [
       "<Figure size 432x288 with 2 Axes>"
      ]
     },
     "metadata": {
      "needs_background": "light"
     },
     "output_type": "display_data"
    }
   ],
   "source": [
    "sns.heatmap(q1)"
   ]
  },
  {
   "cell_type": "markdown",
   "id": "06b66086",
   "metadata": {},
   "source": [
    "### Q2 답"
   ]
  },
  {
   "cell_type": "code",
   "execution_count": 33,
   "id": "41cecc5a",
   "metadata": {},
   "outputs": [
    {
     "data": {
      "text/plain": [
       "0.9995"
      ]
     },
     "execution_count": 33,
     "metadata": {},
     "output_type": "execute_result"
    }
   ],
   "source": [
    "np.round(q1['Sales'].drop('Sales').abs().max(), 4)"
   ]
  },
  {
   "cell_type": "code",
   "execution_count": 31,
   "id": "9cc8c15f",
   "metadata": {},
   "outputs": [],
   "source": [
    "q2=q1['Sales'].drop('Sales').abs()"
   ]
  },
  {
   "cell_type": "code",
   "execution_count": null,
   "id": "a29455f9",
   "metadata": {},
   "outputs": [],
   "source": [
    "q2.max()  # 최대값 리턴"
   ]
  },
  {
   "cell_type": "code",
   "execution_count": 32,
   "id": "4b1223aa",
   "metadata": {},
   "outputs": [
    {
     "data": {
      "text/plain": [
       "0"
      ]
     },
     "execution_count": 32,
     "metadata": {},
     "output_type": "execute_result"
    }
   ],
   "source": [
    "q2.argmax() # 최대값이 있는 위치번호 리턴"
   ]
  },
  {
   "cell_type": "code",
   "execution_count": null,
   "id": "ed277d2d",
   "metadata": {},
   "outputs": [],
   "source": [
    "q2.idxmax()  # 최대값이 있는 인덱스명 리턴"
   ]
  },
  {
   "cell_type": "code",
   "execution_count": null,
   "id": "77d697af",
   "metadata": {},
   "outputs": [],
   "source": [
    "q2.nlargest(2) # 상위 K 개의 값과 인덱스명 리턴"
   ]
  },
  {
   "cell_type": "code",
   "execution_count": null,
   "id": "3e97dd47",
   "metadata": {},
   "outputs": [],
   "source": [
    "# =============================================================================\n",
    "# 3. 매출액을 종속변수, TV, Radio, Social Media의 예산을 독립변수로 하여 회귀분석을\n",
    "# 수행하였을 때, 세 개의 독립변수의 회귀계수를 큰 것에서부터 작은 것 순으로\n",
    "# 기술하시오. \n",
    "# - 분석 시 결측치가 포함된 행은 제거한 후 진행하며, 회귀계수는 소수점 넷째 자리\n",
    "# 이하는 버리고 소수점 셋째 자리까지 기술하시오. (답안 예시) 0.123\n",
    "# ============================================================================="
   ]
  },
  {
   "cell_type": "code",
   "execution_count": 34,
   "id": "0b62e036",
   "metadata": {},
   "outputs": [],
   "source": [
    "from sklearn.linear_model import LinearRegression"
   ]
  },
  {
   "cell_type": "code",
   "execution_count": 35,
   "id": "53a9a3ba",
   "metadata": {},
   "outputs": [
    {
     "data": {
      "text/plain": [
       "Index(['TV', 'Radio', 'Social_Media', 'Influencer', 'Sales'], dtype='object')"
      ]
     },
     "execution_count": 35,
     "metadata": {},
     "output_type": "execute_result"
    }
   ],
   "source": [
    "data1.columns"
   ]
  },
  {
   "cell_type": "code",
   "execution_count": 36,
   "id": "54926208",
   "metadata": {},
   "outputs": [],
   "source": [
    "x_list=['TV', 'Radio', 'Social_Media']"
   ]
  },
  {
   "cell_type": "code",
   "execution_count": 40,
   "id": "f4ed4176",
   "metadata": {},
   "outputs": [
    {
     "data": {
      "text/plain": [
       "1"
      ]
     },
     "execution_count": 40,
     "metadata": {},
     "output_type": "execute_result"
    }
   ],
   "source": [
    "data1['TV'].ndim"
   ]
  },
  {
   "cell_type": "code",
   "execution_count": 41,
   "id": "c4bf6c51",
   "metadata": {},
   "outputs": [
    {
     "data": {
      "text/plain": [
       "2"
      ]
     },
     "execution_count": 41,
     "metadata": {},
     "output_type": "execute_result"
    }
   ],
   "source": [
    "data1['TV'].values.reshape(-1,1).ndim"
   ]
  },
  {
   "cell_type": "code",
   "execution_count": 44,
   "id": "6cb993c0",
   "metadata": {},
   "outputs": [
    {
     "data": {
      "text/plain": [
       "2"
      ]
     },
     "execution_count": 44,
     "metadata": {},
     "output_type": "execute_result"
    }
   ],
   "source": [
    "data1[['TV']].ndim"
   ]
  },
  {
   "cell_type": "code",
   "execution_count": 46,
   "id": "f30e729e",
   "metadata": {},
   "outputs": [
    {
     "data": {
      "text/plain": [
       "nan"
      ]
     },
     "execution_count": 46,
     "metadata": {},
     "output_type": "execute_result"
    }
   ],
   "source": [
    "data1['TV'].values.sum()"
   ]
  },
  {
   "cell_type": "code",
   "execution_count": 47,
   "id": "bb7a8a69",
   "metadata": {},
   "outputs": [],
   "source": [
    "q3=data1.dropna()"
   ]
  },
  {
   "cell_type": "code",
   "execution_count": 48,
   "id": "4e40211d",
   "metadata": {},
   "outputs": [],
   "source": [
    "lm1=LinearRegression(fit_intercept=True)\n",
    "lm1.fit(q3[['TV']], q3['Sales'])"
   ]
  },
  {
   "cell_type": "code",
   "execution_count": 50,
   "id": "8a818765",
   "metadata": {},
   "outputs": [
    {
     "data": {
      "text/plain": [
       "['__abstractmethods__',\n",
       " '__class__',\n",
       " '__delattr__',\n",
       " '__dict__',\n",
       " '__dir__',\n",
       " '__doc__',\n",
       " '__eq__',\n",
       " '__format__',\n",
       " '__ge__',\n",
       " '__getattribute__',\n",
       " '__getstate__',\n",
       " '__gt__',\n",
       " '__hash__',\n",
       " '__init__',\n",
       " '__init_subclass__',\n",
       " '__le__',\n",
       " '__lt__',\n",
       " '__module__',\n",
       " '__ne__',\n",
       " '__new__',\n",
       " '__reduce__',\n",
       " '__reduce_ex__',\n",
       " '__repr__',\n",
       " '__setattr__',\n",
       " '__setstate__',\n",
       " '__sizeof__',\n",
       " '__str__',\n",
       " '__subclasshook__',\n",
       " '__weakref__',\n",
       " '_abc_impl',\n",
       " '_check_n_features',\n",
       " '_decision_function',\n",
       " '_estimator_type',\n",
       " '_get_param_names',\n",
       " '_get_tags',\n",
       " '_more_tags',\n",
       " '_preprocess_data',\n",
       " '_repr_html_',\n",
       " '_repr_html_inner',\n",
       " '_repr_mimebundle_',\n",
       " '_residues',\n",
       " '_set_intercept',\n",
       " '_validate_data',\n",
       " 'coef_',\n",
       " 'copy_X',\n",
       " 'fit',\n",
       " 'fit_intercept',\n",
       " 'get_params',\n",
       " 'intercept_',\n",
       " 'n_features_in_',\n",
       " 'n_jobs',\n",
       " 'normalize',\n",
       " 'positive',\n",
       " 'predict',\n",
       " 'rank_',\n",
       " 'score',\n",
       " 'set_params',\n",
       " 'singular_']"
      ]
     },
     "execution_count": 50,
     "metadata": {},
     "output_type": "execute_result"
    }
   ],
   "source": [
    "dir(lm1)"
   ]
  },
  {
   "cell_type": "code",
   "execution_count": 51,
   "id": "0be56e11",
   "metadata": {},
   "outputs": [
    {
     "data": {
      "text/plain": [
       "-0.1324925400027439"
      ]
     },
     "execution_count": 51,
     "metadata": {},
     "output_type": "execute_result"
    }
   ],
   "source": [
    "lm1.intercept_"
   ]
  },
  {
   "cell_type": "code",
   "execution_count": 52,
   "id": "c69cf4e2",
   "metadata": {},
   "outputs": [
    {
     "data": {
      "text/plain": [
       "array([3.56151409])"
      ]
     },
     "execution_count": 52,
     "metadata": {},
     "output_type": "execute_result"
    }
   ],
   "source": [
    "lm1.coef_"
   ]
  },
  {
   "cell_type": "code",
   "execution_count": 53,
   "id": "11cb45a5",
   "metadata": {},
   "outputs": [],
   "source": [
    "lm2=LinearRegression().fit(q3[x_list], q3['Sales'])"
   ]
  },
  {
   "cell_type": "code",
   "execution_count": 54,
   "id": "ac05e94b",
   "metadata": {},
   "outputs": [
    {
     "data": {
      "text/plain": [
       "-0.13396305194211777"
      ]
     },
     "execution_count": 54,
     "metadata": {},
     "output_type": "execute_result"
    }
   ],
   "source": [
    "lm2.intercept_"
   ]
  },
  {
   "cell_type": "code",
   "execution_count": 55,
   "id": "a42361ca",
   "metadata": {},
   "outputs": [
    {
     "data": {
      "text/plain": [
       "array([ 3.56256963, -0.00397039,  0.00496402])"
      ]
     },
     "execution_count": 55,
     "metadata": {},
     "output_type": "execute_result"
    }
   ],
   "source": [
    "lm2.coef_"
   ]
  },
  {
   "cell_type": "markdown",
   "id": "08020831",
   "metadata": {},
   "source": [
    "- np.round()  # 소수점 이하 자리 지정 가능\n",
    "- np.trunc( * 100) / 100 # 리턴 결과가 정수형으로 리턴\n",
    "- np.ceil() # 리턴 결과가 정수형으로 리턴\n",
    "- np.floor() # 리턴 결과가 정수형으로 리턴"
   ]
  },
  {
   "cell_type": "code",
   "execution_count": 58,
   "id": "680d19ea",
   "metadata": {},
   "outputs": [
    {
     "data": {
      "text/plain": [
       "TV              3.562\n",
       "Radio          -0.003\n",
       "Social_Media    0.004\n",
       "dtype: float64"
      ]
     },
     "execution_count": 58,
     "metadata": {},
     "output_type": "execute_result"
    }
   ],
   "source": [
    "q3_out=pd.Series(np.trunc(lm2.coef_ * 1000) / 1000, index=x_list)\n",
    "q3_out"
   ]
  },
  {
   "cell_type": "code",
   "execution_count": 59,
   "id": "71f29bd1",
   "metadata": {},
   "outputs": [
    {
     "data": {
      "text/plain": [
       "TV              3.562\n",
       "Social_Media    0.004\n",
       "Radio          -0.003\n",
       "dtype: float64"
      ]
     },
     "execution_count": 59,
     "metadata": {},
     "output_type": "execute_result"
    }
   ],
   "source": [
    "q3_out.sort_values(ascending=False)"
   ]
  },
  {
   "cell_type": "code",
   "execution_count": 60,
   "id": "85601284",
   "metadata": {},
   "outputs": [],
   "source": [
    "# ols: R 방식과 동일, formula 안에 상수항 포함 여부 -1(미포함)\n",
    "from statsmodels.formula.api import ols \n",
    "\n",
    "# OLS: sklearn 방식과 동일, 상수항 미포함\n",
    "from statsmodels.api import OLS, add_constant   "
   ]
  },
  {
   "cell_type": "code",
   "execution_count": null,
   "id": "2e7e679d",
   "metadata": {},
   "outputs": [],
   "source": [
    "# a1=ols('식', dataset)   식: 'y~x1+x2+x3-1'  -1(상수항 미포함), C(x2), Social_Media\n",
    "# a2=a1.fit()\n",
    "\n",
    "# a2=ols('식', dataset).fit()"
   ]
  },
  {
   "cell_type": "code",
   "execution_count": 61,
   "id": "834f75d6",
   "metadata": {},
   "outputs": [],
   "source": [
    "lm3=ols('Sales~TV+Radio+Social_Media', data1).fit() "
   ]
  },
  {
   "cell_type": "code",
   "execution_count": 62,
   "id": "997499ae",
   "metadata": {},
   "outputs": [
    {
     "data": {
      "text/plain": [
       "Index(['TV', 'Radio', 'Social_Media', 'Influencer', 'Sales'], dtype='object')"
      ]
     },
     "execution_count": 62,
     "metadata": {},
     "output_type": "execute_result"
    }
   ],
   "source": [
    "data1.columns"
   ]
  },
  {
   "cell_type": "code",
   "execution_count": 63,
   "id": "3e38080d",
   "metadata": {},
   "outputs": [],
   "source": [
    "lm4=ols('Sales~TV+Radio+Social_Media+Influencer', data1).fit() "
   ]
  },
  {
   "cell_type": "code",
   "execution_count": 65,
   "id": "60075e42",
   "metadata": {},
   "outputs": [
    {
     "data": {
      "text/html": [
       "<table class=\"simpletable\">\n",
       "<caption>OLS Regression Results</caption>\n",
       "<tr>\n",
       "  <th>Dep. Variable:</th>          <td>Sales</td>      <th>  R-squared:         </th> <td>   0.999</td> \n",
       "</tr>\n",
       "<tr>\n",
       "  <th>Model:</th>                   <td>OLS</td>       <th>  Adj. R-squared:    </th> <td>   0.999</td> \n",
       "</tr>\n",
       "<tr>\n",
       "  <th>Method:</th>             <td>Least Squares</td>  <th>  F-statistic:       </th> <td>1.505e+06</td>\n",
       "</tr>\n",
       "<tr>\n",
       "  <th>Date:</th>             <td>Thu, 14 Sep 2023</td> <th>  Prob (F-statistic):</th>  <td>  0.00</td>  \n",
       "</tr>\n",
       "<tr>\n",
       "  <th>Time:</th>                 <td>14:14:03</td>     <th>  Log-Likelihood:    </th> <td> -11366.</td> \n",
       "</tr>\n",
       "<tr>\n",
       "  <th>No. Observations:</th>      <td>  4546</td>      <th>  AIC:               </th> <td>2.274e+04</td>\n",
       "</tr>\n",
       "<tr>\n",
       "  <th>Df Residuals:</th>          <td>  4542</td>      <th>  BIC:               </th> <td>2.277e+04</td>\n",
       "</tr>\n",
       "<tr>\n",
       "  <th>Df Model:</th>              <td>     3</td>      <th>                     </th>     <td> </td>    \n",
       "</tr>\n",
       "<tr>\n",
       "  <th>Covariance Type:</th>      <td>nonrobust</td>    <th>                     </th>     <td> </td>    \n",
       "</tr>\n",
       "</table>\n",
       "<table class=\"simpletable\">\n",
       "<tr>\n",
       "        <td></td>          <th>coef</th>     <th>std err</th>      <th>t</th>      <th>P>|t|</th>  <th>[0.025</th>    <th>0.975]</th>  \n",
       "</tr>\n",
       "<tr>\n",
       "  <th>Intercept</th>    <td>   -0.1340</td> <td>    0.103</td> <td>   -1.303</td> <td> 0.193</td> <td>   -0.336</td> <td>    0.068</td>\n",
       "</tr>\n",
       "<tr>\n",
       "  <th>TV</th>           <td>    3.5626</td> <td>    0.003</td> <td> 1051.118</td> <td> 0.000</td> <td>    3.556</td> <td>    3.569</td>\n",
       "</tr>\n",
       "<tr>\n",
       "  <th>Radio</th>        <td>   -0.0040</td> <td>    0.010</td> <td>   -0.406</td> <td> 0.685</td> <td>   -0.023</td> <td>    0.015</td>\n",
       "</tr>\n",
       "<tr>\n",
       "  <th>Social_Media</th> <td>    0.0050</td> <td>    0.025</td> <td>    0.199</td> <td> 0.842</td> <td>   -0.044</td> <td>    0.054</td>\n",
       "</tr>\n",
       "</table>\n",
       "<table class=\"simpletable\">\n",
       "<tr>\n",
       "  <th>Omnibus:</th>       <td> 0.056</td> <th>  Durbin-Watson:     </th> <td>   1.998</td>\n",
       "</tr>\n",
       "<tr>\n",
       "  <th>Prob(Omnibus):</th> <td> 0.972</td> <th>  Jarque-Bera (JB):  </th> <td>   0.034</td>\n",
       "</tr>\n",
       "<tr>\n",
       "  <th>Skew:</th>          <td>-0.001</td> <th>  Prob(JB):          </th> <td>   0.983</td>\n",
       "</tr>\n",
       "<tr>\n",
       "  <th>Kurtosis:</th>      <td> 3.013</td> <th>  Cond. No.          </th> <td>    149.</td>\n",
       "</tr>\n",
       "</table><br/><br/>Notes:<br/>[1] Standard Errors assume that the covariance matrix of the errors is correctly specified."
      ],
      "text/plain": [
       "<class 'statsmodels.iolib.summary.Summary'>\n",
       "\"\"\"\n",
       "                            OLS Regression Results                            \n",
       "==============================================================================\n",
       "Dep. Variable:                  Sales   R-squared:                       0.999\n",
       "Model:                            OLS   Adj. R-squared:                  0.999\n",
       "Method:                 Least Squares   F-statistic:                 1.505e+06\n",
       "Date:                Thu, 14 Sep 2023   Prob (F-statistic):               0.00\n",
       "Time:                        14:14:03   Log-Likelihood:                -11366.\n",
       "No. Observations:                4546   AIC:                         2.274e+04\n",
       "Df Residuals:                    4542   BIC:                         2.277e+04\n",
       "Df Model:                           3                                         \n",
       "Covariance Type:            nonrobust                                         \n",
       "================================================================================\n",
       "                   coef    std err          t      P>|t|      [0.025      0.975]\n",
       "--------------------------------------------------------------------------------\n",
       "Intercept       -0.1340      0.103     -1.303      0.193      -0.336       0.068\n",
       "TV               3.5626      0.003   1051.118      0.000       3.556       3.569\n",
       "Radio           -0.0040      0.010     -0.406      0.685      -0.023       0.015\n",
       "Social_Media     0.0050      0.025      0.199      0.842      -0.044       0.054\n",
       "==============================================================================\n",
       "Omnibus:                        0.056   Durbin-Watson:                   1.998\n",
       "Prob(Omnibus):                  0.972   Jarque-Bera (JB):                0.034\n",
       "Skew:                          -0.001   Prob(JB):                        0.983\n",
       "Kurtosis:                       3.013   Cond. No.                         149.\n",
       "==============================================================================\n",
       "\n",
       "Notes:\n",
       "[1] Standard Errors assume that the covariance matrix of the errors is correctly specified.\n",
       "\"\"\""
      ]
     },
     "execution_count": 65,
     "metadata": {},
     "output_type": "execute_result"
    }
   ],
   "source": [
    "lm3.summary()"
   ]
  },
  {
   "cell_type": "code",
   "execution_count": 71,
   "id": "e670bc4f",
   "metadata": {},
   "outputs": [
    {
     "data": {
      "text/plain": [
       "55.473684210526315"
      ]
     },
     "execution_count": 71,
     "metadata": {},
     "output_type": "execute_result"
    }
   ],
   "source": [
    "np.mean([1,3,5,1,3,5,1,3,5,1,3,5,1,3,5,1,3,5, 1000])"
   ]
  },
  {
   "cell_type": "code",
   "execution_count": 68,
   "id": "2f1153af",
   "metadata": {},
   "outputs": [
    {
     "data": {
      "text/plain": [
       "array(['Mega', 'Micro', 'Nano', 'Macro'], dtype=object)"
      ]
     },
     "execution_count": 68,
     "metadata": {},
     "output_type": "execute_result"
    }
   ],
   "source": [
    "data1.Influencer.unique() "
   ]
  },
  {
   "cell_type": "code",
   "execution_count": 72,
   "id": "709c98aa",
   "metadata": {},
   "outputs": [
    {
     "data": {
      "text/plain": [
       "Intercept      -0.133963\n",
       "TV              3.562570\n",
       "Radio          -0.003970\n",
       "Social_Media    0.004964\n",
       "dtype: float64"
      ]
     },
     "execution_count": 72,
     "metadata": {},
     "output_type": "execute_result"
    }
   ],
   "source": [
    "lm3.params   # 상수와 회귀계수"
   ]
  },
  {
   "cell_type": "code",
   "execution_count": 74,
   "id": "415079a8",
   "metadata": {},
   "outputs": [
    {
     "data": {
      "text/plain": [
       "Index(['TV'], dtype='object')"
      ]
     },
     "execution_count": 74,
     "metadata": {},
     "output_type": "execute_result"
    }
   ],
   "source": [
    "lm3.pvalues.index[lm3.pvalues < 0.05]  # 유의미한 입력 변수 선택"
   ]
  },
  {
   "cell_type": "code",
   "execution_count": 75,
   "id": "6c5b2153",
   "metadata": {},
   "outputs": [
    {
     "data": {
      "text/plain": [
       "0        56.855516\n",
       "1        46.154726\n",
       "2       145.882779\n",
       "3       295.474487\n",
       "4        53.278061\n",
       "           ...    \n",
       "4567     92.478650\n",
       "4568    252.759140\n",
       "4569    156.565784\n",
       "4570    252.748496\n",
       "4571    149.455619\n",
       "Length: 4546, dtype: float64"
      ]
     },
     "execution_count": 75,
     "metadata": {},
     "output_type": "execute_result"
    }
   ],
   "source": [
    "lm3.fittedvalues  # 학습 데이터의 예측값"
   ]
  },
  {
   "cell_type": "code",
   "execution_count": null,
   "id": "1e94dc8a",
   "metadata": {},
   "outputs": [],
   "source": [
    "lm3.resid  # 잔차"
   ]
  },
  {
   "cell_type": "code",
   "execution_count": 76,
   "id": "2e620a85",
   "metadata": {},
   "outputs": [
    {
     "data": {
      "text/plain": [
       "(4572, 4546)"
      ]
     },
     "execution_count": 76,
     "metadata": {},
     "output_type": "execute_result"
    }
   ],
   "source": [
    "len(data1), len(lm3.resid)"
   ]
  },
  {
   "cell_type": "code",
   "execution_count": 77,
   "id": "8c551b4f",
   "metadata": {},
   "outputs": [],
   "source": [
    "import matplotlib.pyplot as plt"
   ]
  },
  {
   "cell_type": "code",
   "execution_count": 78,
   "id": "5ad52b7d",
   "metadata": {},
   "outputs": [
    {
     "data": {
      "text/plain": [
       "<matplotlib.collections.PathCollection at 0x231f29d9580>"
      ]
     },
     "execution_count": 78,
     "metadata": {},
     "output_type": "execute_result"
    },
    {
     "data": {
      "image/png": "[encoded data removed]",
      "text/plain": [
       "<Figure size 432x288 with 1 Axes>"
      ]
     },
     "metadata": {
      "needs_background": "light"
     },
     "output_type": "display_data"
    }
   ],
   "source": [
    "plt.scatter(x=lm3.fittedvalues, y=lm3.resid)"
   ]
  },
  {
   "cell_type": "code",
   "execution_count": 80,
   "id": "5e2cd01a",
   "metadata": {},
   "outputs": [
    {
     "data": {
      "text/plain": [
       "'TV+Radio+Social_Media'"
      ]
     },
     "execution_count": 80,
     "metadata": {},
     "output_type": "execute_result"
    }
   ],
   "source": [
    "'+'.join(x_list)"
   ]
  },
  {
   "cell_type": "code",
   "execution_count": 81,
   "id": "71d12e30",
   "metadata": {},
   "outputs": [
    {
     "data": {
      "text/plain": [
       "'Sales~TV+Radio+Social_Media'"
      ]
     },
     "execution_count": 81,
     "metadata": {},
     "output_type": "execute_result"
    }
   ],
   "source": [
    "form1='Sales~'  + '+'.join(x_list)"
   ]
  },
  {
   "cell_type": "code",
   "execution_count": 83,
   "id": "6e4ac492",
   "metadata": {},
   "outputs": [
    {
     "data": {
      "text/html": [
       "<div>\n",
       "<style scoped>\n",
       "    .dataframe tbody tr th:only-of-type {\n",
       "        vertical-align: middle;\n",
       "    }\n",
       "\n",
       "    .dataframe tbody tr th {\n",
       "        vertical-align: top;\n",
       "    }\n",
       "\n",
       "    .dataframe thead th {\n",
       "        text-align: right;\n",
       "    }\n",
       "</style>\n",
       "<table border=\"1\" class=\"dataframe\">\n",
       "  <thead>\n",
       "    <tr style=\"text-align: right;\">\n",
       "      <th></th>\n",
       "      <th>student_resid</th>\n",
       "      <th>unadj_p</th>\n",
       "      <th>bonf(p)</th>\n",
       "    </tr>\n",
       "  </thead>\n",
       "  <tbody>\n",
       "    <tr>\n",
       "      <th>0</th>\n",
       "      <td>-0.719867</td>\n",
       "      <td>0.471644</td>\n",
       "      <td>1.0</td>\n",
       "    </tr>\n",
       "    <tr>\n",
       "      <th>1</th>\n",
       "      <td>0.177422</td>\n",
       "      <td>0.859185</td>\n",
       "      <td>1.0</td>\n",
       "    </tr>\n",
       "    <tr>\n",
       "      <th>2</th>\n",
       "      <td>1.456438</td>\n",
       "      <td>0.145341</td>\n",
       "      <td>1.0</td>\n",
       "    </tr>\n",
       "    <tr>\n",
       "      <th>3</th>\n",
       "      <td>0.940040</td>\n",
       "      <td>0.347247</td>\n",
       "      <td>1.0</td>\n",
       "    </tr>\n",
       "    <tr>\n",
       "      <th>4</th>\n",
       "      <td>1.124662</td>\n",
       "      <td>0.260792</td>\n",
       "      <td>1.0</td>\n",
       "    </tr>\n",
       "    <tr>\n",
       "      <th>...</th>\n",
       "      <td>...</td>\n",
       "      <td>...</td>\n",
       "      <td>...</td>\n",
       "    </tr>\n",
       "    <tr>\n",
       "      <th>4567</th>\n",
       "      <td>0.748484</td>\n",
       "      <td>0.454207</td>\n",
       "      <td>1.0</td>\n",
       "    </tr>\n",
       "    <tr>\n",
       "      <th>4568</th>\n",
       "      <td>-1.240494</td>\n",
       "      <td>0.214857</td>\n",
       "      <td>1.0</td>\n",
       "    </tr>\n",
       "    <tr>\n",
       "      <th>4569</th>\n",
       "      <td>2.397313</td>\n",
       "      <td>0.016556</td>\n",
       "      <td>1.0</td>\n",
       "    </tr>\n",
       "    <tr>\n",
       "      <th>4570</th>\n",
       "      <td>0.292277</td>\n",
       "      <td>0.770088</td>\n",
       "      <td>1.0</td>\n",
       "    </tr>\n",
       "    <tr>\n",
       "      <th>4571</th>\n",
       "      <td>-0.424926</td>\n",
       "      <td>0.670911</td>\n",
       "      <td>1.0</td>\n",
       "    </tr>\n",
       "  </tbody>\n",
       "</table>\n",
       "<p>4546 rows × 3 columns</p>\n",
       "</div>"
      ],
      "text/plain": [
       "      student_resid   unadj_p  bonf(p)\n",
       "0         -0.719867  0.471644      1.0\n",
       "1          0.177422  0.859185      1.0\n",
       "2          1.456438  0.145341      1.0\n",
       "3          0.940040  0.347247      1.0\n",
       "4          1.124662  0.260792      1.0\n",
       "...             ...       ...      ...\n",
       "4567       0.748484  0.454207      1.0\n",
       "4568      -1.240494  0.214857      1.0\n",
       "4569       2.397313  0.016556      1.0\n",
       "4570       0.292277  0.770088      1.0\n",
       "4571      -0.424926  0.670911      1.0\n",
       "\n",
       "[4546 rows x 3 columns]"
      ]
     },
     "execution_count": 83,
     "metadata": {},
     "output_type": "execute_result"
    }
   ],
   "source": [
    "outlier1=lm3.outlier_test()\n",
    "outlier1"
   ]
  },
  {
   "cell_type": "code",
   "execution_count": 85,
   "id": "5eb5c9df",
   "metadata": {},
   "outputs": [
    {
     "data": {
      "text/html": [
       "<div>\n",
       "<style scoped>\n",
       "    .dataframe tbody tr th:only-of-type {\n",
       "        vertical-align: middle;\n",
       "    }\n",
       "\n",
       "    .dataframe tbody tr th {\n",
       "        vertical-align: top;\n",
       "    }\n",
       "\n",
       "    .dataframe thead th {\n",
       "        text-align: right;\n",
       "    }\n",
       "</style>\n",
       "<table border=\"1\" class=\"dataframe\">\n",
       "  <thead>\n",
       "    <tr style=\"text-align: right;\">\n",
       "      <th></th>\n",
       "      <th>TV</th>\n",
       "      <th>Radio</th>\n",
       "      <th>Social_Media</th>\n",
       "      <th>Influencer</th>\n",
       "      <th>Sales</th>\n",
       "    </tr>\n",
       "  </thead>\n",
       "  <tbody>\n",
       "  </tbody>\n",
       "</table>\n",
       "</div>"
      ],
      "text/plain": [
       "Empty DataFrame\n",
       "Columns: [TV, Radio, Social_Media, Influencer, Sales]\n",
       "Index: []"
      ]
     },
     "execution_count": 85,
     "metadata": {},
     "output_type": "execute_result"
    }
   ],
   "source": [
    "# q3[outlier1['bonf(p)'] < 0.05]  # 이상치 데이터 필터링\n",
    "\n",
    "q3[outlier1['bonf(p)'] >= 0.05]  # 이상치 제외한 데이터 필터링"
   ]
  },
  {
   "cell_type": "markdown",
   "id": "26ac26d4",
   "metadata": {},
   "source": [
    "### 더미 변수 결과"
   ]
  },
  {
   "cell_type": "code",
   "execution_count": 66,
   "id": "3ccb5d00",
   "metadata": {},
   "outputs": [
    {
     "data": {
      "text/html": [
       "<table class=\"simpletable\">\n",
       "<caption>OLS Regression Results</caption>\n",
       "<tr>\n",
       "  <th>Dep. Variable:</th>          <td>Sales</td>      <th>  R-squared:         </th> <td>   0.999</td> \n",
       "</tr>\n",
       "<tr>\n",
       "  <th>Model:</th>                   <td>OLS</td>       <th>  Adj. R-squared:    </th> <td>   0.999</td> \n",
       "</tr>\n",
       "<tr>\n",
       "  <th>Method:</th>             <td>Least Squares</td>  <th>  F-statistic:       </th> <td>7.521e+05</td>\n",
       "</tr>\n",
       "<tr>\n",
       "  <th>Date:</th>             <td>Thu, 14 Sep 2023</td> <th>  Prob (F-statistic):</th>  <td>  0.00</td>  \n",
       "</tr>\n",
       "<tr>\n",
       "  <th>Time:</th>                 <td>14:14:12</td>     <th>  Log-Likelihood:    </th> <td> -11366.</td> \n",
       "</tr>\n",
       "<tr>\n",
       "  <th>No. Observations:</th>      <td>  4546</td>      <th>  AIC:               </th> <td>2.275e+04</td>\n",
       "</tr>\n",
       "<tr>\n",
       "  <th>Df Residuals:</th>          <td>  4539</td>      <th>  BIC:               </th> <td>2.279e+04</td>\n",
       "</tr>\n",
       "<tr>\n",
       "  <th>Df Model:</th>              <td>     6</td>      <th>                     </th>     <td> </td>    \n",
       "</tr>\n",
       "<tr>\n",
       "  <th>Covariance Type:</th>      <td>nonrobust</td>    <th>                     </th>     <td> </td>    \n",
       "</tr>\n",
       "</table>\n",
       "<table class=\"simpletable\">\n",
       "<tr>\n",
       "           <td></td>              <th>coef</th>     <th>std err</th>      <th>t</th>      <th>P>|t|</th>  <th>[0.025</th>    <th>0.975]</th>  \n",
       "</tr>\n",
       "<tr>\n",
       "  <th>Intercept</th>           <td>   -0.1033</td> <td>    0.130</td> <td>   -0.797</td> <td> 0.426</td> <td>   -0.358</td> <td>    0.151</td>\n",
       "</tr>\n",
       "<tr>\n",
       "  <th>Influencer[T.Mega]</th>  <td>    0.0116</td> <td>    0.124</td> <td>    0.094</td> <td> 0.926</td> <td>   -0.232</td> <td>    0.255</td>\n",
       "</tr>\n",
       "<tr>\n",
       "  <th>Influencer[T.Micro]</th> <td>   -0.0569</td> <td>    0.124</td> <td>   -0.458</td> <td> 0.647</td> <td>   -0.300</td> <td>    0.187</td>\n",
       "</tr>\n",
       "<tr>\n",
       "  <th>Influencer[T.Nano]</th>  <td>   -0.0739</td> <td>    0.125</td> <td>   -0.593</td> <td> 0.553</td> <td>   -0.318</td> <td>    0.170</td>\n",
       "</tr>\n",
       "<tr>\n",
       "  <th>TV</th>                  <td>    3.5626</td> <td>    0.003</td> <td> 1050.472</td> <td> 0.000</td> <td>    3.556</td> <td>    3.569</td>\n",
       "</tr>\n",
       "<tr>\n",
       "  <th>Radio</th>               <td>   -0.0039</td> <td>    0.010</td> <td>   -0.399</td> <td> 0.690</td> <td>   -0.023</td> <td>    0.015</td>\n",
       "</tr>\n",
       "<tr>\n",
       "  <th>Social_Media</th>        <td>    0.0045</td> <td>    0.025</td> <td>    0.179</td> <td> 0.858</td> <td>   -0.044</td> <td>    0.053</td>\n",
       "</tr>\n",
       "</table>\n",
       "<table class=\"simpletable\">\n",
       "<tr>\n",
       "  <th>Omnibus:</th>       <td> 0.067</td> <th>  Durbin-Watson:     </th> <td>   1.998</td>\n",
       "</tr>\n",
       "<tr>\n",
       "  <th>Prob(Omnibus):</th> <td> 0.967</td> <th>  Jarque-Bera (JB):  </th> <td>   0.043</td>\n",
       "</tr>\n",
       "<tr>\n",
       "  <th>Skew:</th>          <td>-0.001</td> <th>  Prob(JB):          </th> <td>   0.979</td>\n",
       "</tr>\n",
       "<tr>\n",
       "  <th>Kurtosis:</th>      <td> 3.015</td> <th>  Cond. No.          </th> <td>    288.</td>\n",
       "</tr>\n",
       "</table><br/><br/>Notes:<br/>[1] Standard Errors assume that the covariance matrix of the errors is correctly specified."
      ],
      "text/plain": [
       "<class 'statsmodels.iolib.summary.Summary'>\n",
       "\"\"\"\n",
       "                            OLS Regression Results                            \n",
       "==============================================================================\n",
       "Dep. Variable:                  Sales   R-squared:                       0.999\n",
       "Model:                            OLS   Adj. R-squared:                  0.999\n",
       "Method:                 Least Squares   F-statistic:                 7.521e+05\n",
       "Date:                Thu, 14 Sep 2023   Prob (F-statistic):               0.00\n",
       "Time:                        14:14:12   Log-Likelihood:                -11366.\n",
       "No. Observations:                4546   AIC:                         2.275e+04\n",
       "Df Residuals:                    4539   BIC:                         2.279e+04\n",
       "Df Model:                           6                                         \n",
       "Covariance Type:            nonrobust                                         \n",
       "=======================================================================================\n",
       "                          coef    std err          t      P>|t|      [0.025      0.975]\n",
       "---------------------------------------------------------------------------------------\n",
       "Intercept              -0.1033      0.130     -0.797      0.426      -0.358       0.151\n",
       "Influencer[T.Mega]      0.0116      0.124      0.094      0.926      -0.232       0.255\n",
       "Influencer[T.Micro]    -0.0569      0.124     -0.458      0.647      -0.300       0.187\n",
       "Influencer[T.Nano]     -0.0739      0.125     -0.593      0.553      -0.318       0.170\n",
       "TV                      3.5626      0.003   1050.472      0.000       3.556       3.569\n",
       "Radio                  -0.0039      0.010     -0.399      0.690      -0.023       0.015\n",
       "Social_Media            0.0045      0.025      0.179      0.858      -0.044       0.053\n",
       "==============================================================================\n",
       "Omnibus:                        0.067   Durbin-Watson:                   1.998\n",
       "Prob(Omnibus):                  0.967   Jarque-Bera (JB):                0.043\n",
       "Skew:                          -0.001   Prob(JB):                        0.979\n",
       "Kurtosis:                       3.015   Cond. No.                         288.\n",
       "==============================================================================\n",
       "\n",
       "Notes:\n",
       "[1] Standard Errors assume that the covariance matrix of the errors is correctly specified.\n",
       "\"\"\""
      ]
     },
     "execution_count": 66,
     "metadata": {},
     "output_type": "execute_result"
    }
   ],
   "source": [
    "lm4.summary()"
   ]
  },
  {
   "cell_type": "code",
   "execution_count": null,
   "id": "7e45c1a9",
   "metadata": {},
   "outputs": [],
   "source": []
  },
  {
   "cell_type": "code",
   "execution_count": null,
   "id": "db25f1e8",
   "metadata": {},
   "outputs": [],
   "source": []
  },
  {
   "cell_type": "markdown",
   "id": "9389fd66",
   "metadata": {},
   "source": [
    "# 문제 02 유형(DataSet_02.csv 이용)"
   ]
  },
  {
   "cell_type": "code",
   "execution_count": null,
   "id": "eb0d7672",
   "metadata": {},
   "outputs": [],
   "source": [
    "# =============================================================================\n",
    "# 구분자 : comma(“,”), 200 Rows, 6 Columns, UTF-8 인코딩\n",
    "\n",
    "# 환자의 상태와 그에 따라 처방된 약에 대한 정보를 분석하고자한다\n",
    "# \n",
    "# 컬 럼 / 정 의  / Type\n",
    "# Age  / 연령 / Integer\n",
    "# Sex / 성별 / String\n",
    "# BP / 혈압 레벨 / String\n",
    "# Cholesterol / 콜레스테롤 레벨 /  String\n",
    "# Na_to_k / 혈액 내 칼륨에 대비한 나트륨 비율 / Double\n",
    "# Drug / Drug Type / String\n",
    "# =============================================================================\n",
    "# ============================================================================="
   ]
  },
  {
   "cell_type": "code",
   "execution_count": 93,
   "id": "867d47e3",
   "metadata": {},
   "outputs": [],
   "source": [
    "data2 = pd.read_csv('ProDS특강/Dataset/Dataset_02.csv')"
   ]
  },
  {
   "cell_type": "code",
   "execution_count": 94,
   "id": "e58416e1",
   "metadata": {},
   "outputs": [
    {
     "name": "stdout",
     "output_type": "stream",
     "text": [
      "<class 'pandas.core.frame.DataFrame'>\n",
      "RangeIndex: 200 entries, 0 to 199\n",
      "Data columns (total 6 columns):\n",
      " #   Column       Non-Null Count  Dtype  \n",
      "---  ------       --------------  -----  \n",
      " 0   Age          200 non-null    int64  \n",
      " 1   Sex          200 non-null    object \n",
      " 2   BP           200 non-null    object \n",
      " 3   Cholesterol  200 non-null    object \n",
      " 4   Na_to_K      200 non-null    float64\n",
      " 5   Drug         200 non-null    object \n",
      "dtypes: float64(1), int64(1), object(4)\n",
      "memory usage: 9.5+ KB\n"
     ]
    }
   ],
   "source": [
    "data2.info()"
   ]
  },
  {
   "cell_type": "code",
   "execution_count": 95,
   "id": "94644e2d",
   "metadata": {},
   "outputs": [
    {
     "data": {
      "text/plain": [
       "Index(['Age', 'Sex', 'BP', 'Cholesterol', 'Na_to_K', 'Drug'], dtype='object')"
      ]
     },
     "execution_count": 95,
     "metadata": {},
     "output_type": "execute_result"
    }
   ],
   "source": [
    "data2.columns"
   ]
  },
  {
   "cell_type": "code",
   "execution_count": 96,
   "id": "30c1c5e0",
   "metadata": {},
   "outputs": [],
   "source": [
    "# =============================================================================\n",
    "# 1.해당 데이터에 대한 EDA를 수행하고, 여성으로 혈압이 High, Cholesterol이 Normal인\n",
    "# 환자의 전체에 대비한 비율이 얼마인지 소수점 네 번째 자리에서 반올림하여 소수점 셋째\n",
    "# 자리까지 기술하시오. (답안 예시) 0.123\n",
    "# ============================================================================="
   ]
  },
  {
   "cell_type": "code",
   "execution_count": 97,
   "id": "a2caee86",
   "metadata": {},
   "outputs": [
    {
     "data": {
      "text/plain": [
       "Sex  BP      Cholesterol\n",
       "F    HIGH    NORMAL         0.105\n",
       "M    HIGH    NORMAL         0.105\n",
       "     LOW     NORMAL         0.095\n",
       "     NORMAL  HIGH           0.095\n",
       "F    NORMAL  HIGH           0.090\n",
       "M    HIGH    HIGH           0.090\n",
       "F    HIGH    HIGH           0.085\n",
       "M    LOW     HIGH           0.085\n",
       "F    LOW     HIGH           0.070\n",
       "             NORMAL         0.070\n",
       "     NORMAL  NORMAL         0.060\n",
       "M    NORMAL  NORMAL         0.050\n",
       "Name: proportion, dtype: float64"
      ]
     },
     "execution_count": 97,
     "metadata": {},
     "output_type": "execute_result"
    }
   ],
   "source": [
    "q2_1 = data2[['Sex', 'BP', 'Cholesterol']].value_counts(normalize=True)\n",
    "q2_1"
   ]
  },
  {
   "cell_type": "code",
   "execution_count": 98,
   "id": "dcb83ce6",
   "metadata": {},
   "outputs": [
    {
     "data": {
      "text/plain": [
       "MultiIndex([('F',   'HIGH', 'NORMAL'),\n",
       "            ('M',   'HIGH', 'NORMAL'),\n",
       "            ('M',    'LOW', 'NORMAL'),\n",
       "            ('M', 'NORMAL',   'HIGH'),\n",
       "            ('F', 'NORMAL',   'HIGH'),\n",
       "            ('M',   'HIGH',   'HIGH'),\n",
       "            ('F',   'HIGH',   'HIGH'),\n",
       "            ('M',    'LOW',   'HIGH'),\n",
       "            ('F',    'LOW',   'HIGH'),\n",
       "            ('F',    'LOW', 'NORMAL'),\n",
       "            ('F', 'NORMAL', 'NORMAL'),\n",
       "            ('M', 'NORMAL', 'NORMAL')],\n",
       "           names=['Sex', 'BP', 'Cholesterol'])"
      ]
     },
     "execution_count": 98,
     "metadata": {},
     "output_type": "execute_result"
    }
   ],
   "source": [
    "q2_1.index"
   ]
  },
  {
   "cell_type": "code",
   "execution_count": 99,
   "id": "9a440a2d",
   "metadata": {},
   "outputs": [
    {
     "data": {
      "text/plain": [
       "0.105"
      ]
     },
     "execution_count": 99,
     "metadata": {},
     "output_type": "execute_result"
    }
   ],
   "source": [
    "q2_1[('F',   'HIGH', 'NORMAL')]"
   ]
  },
  {
   "cell_type": "code",
   "execution_count": 100,
   "id": "0e7a56d7",
   "metadata": {},
   "outputs": [],
   "source": [
    "# =============================================================================\n",
    "# 2. Age, Sex, BP, Cholesterol 및 Na_to_k 값이 Drug 타입에 영향을 미치는지 확인하기\n",
    "# 위하여 아래와 같이 데이터를 변환하고 분석을 수행하시오. \n",
    "# - Age_gr 컬럼을 만들고, Age가 20 미만은 ‘10’, 20부터 30 미만은 ‘20’, 30부터 40 미만은\n",
    "# ‘30’, 40부터 50 미만은 ‘40’, 50부터 60 미만은 ‘50’, 60이상은 ‘60’으로 변환하시오. \n",
    "# - Na_K_gr 컬럼을 만들고 Na_to_k 값이 10이하는 ‘Lv1’, 20이하는 ‘Lv2’, 30이하는 ‘Lv3’, 30 \n",
    "# 초과는 ‘Lv4’로 변환하시오.\n",
    "# - Sex, BP, Cholesterol, Age_gr, Na_K_gr이 Drug 변수와 영향이 있는지 독립성 검정을\n",
    "# 수행하시오.\n",
    "# - 검정 수행 결과, Drug 타입과 연관성이 있는 변수는 몇 개인가? 연관성이 있는 변수\n",
    "# 가운데 가장 큰 p-value를 찾아 소수점 여섯 번째 자리 이하는 버리고 소수점 다섯\n",
    "# 번째 자리까지 기술하시오.\n",
    "# (답안 예시) 3, 1.23456\n",
    "# =============================================================================\n"
   ]
  },
  {
   "cell_type": "code",
   "execution_count": 101,
   "id": "c33dd631",
   "metadata": {},
   "outputs": [],
   "source": [
    "# 카이스퀘어 검정: 두 범주형 변수에 대한 독립성/동질성 검정 수행 가능\n",
    "# 적합성(단일변수), 독립성(두개 변수), 동질성(두개 변수)"
   ]
  },
  {
   "cell_type": "code",
   "execution_count": 133,
   "id": "6f8467ff",
   "metadata": {},
   "outputs": [],
   "source": [
    "# 1. 변수 변환\n",
    "q2_2 = data2.copy()\n",
    "\n",
    "# q2_2['Age_gr']=np.where(q2_2['Age'] < 20, 10, \n",
    "#                        np.where(q2_2['Age'] < 30, 20, \n",
    "#                                np.where(q2_2['Age'] < 40, 30, \n",
    "#                                        np.where(q2_2['Age'] < 50, 60, \n",
    "#                                                np.where(q2_2['Age'] < 60, 50, 60)\n",
    "# np.where(조건, 조건이 True인 값에 넣을 값, 조건이 False인 값에 넣을 값)\n",
    "                                                \n",
    "# 결측값에 주의해야 함\n",
    "# 결측치까지 고려한 코드\n",
    "q2_2['Age_gr']=np.where(q2_2['Age'].isnull(), np.nan, \n",
    "                        np.where(q2_2['Age'] < 20, 10, \n",
    "                           np.where(q2_2['Age'] < 30, 20, \n",
    "                                   np.where(q2_2['Age'] < 40, 30, \n",
    "                                           np.where(q2_2['Age'] < 50, 40, \n",
    "                                                   np.where(q2_2['Age'] < 60, 50, 60))))))"
   ]
  },
  {
   "cell_type": "code",
   "execution_count": 134,
   "id": "1e3a9693",
   "metadata": {},
   "outputs": [],
   "source": [
    "q2_2['Na_K_gr'] = np.where(q2_2['Na_to_K'] <= 10, 'Lv1',\n",
    "                          np.where(q2_2['Na_to_K'] <= 20, 'Lv2',\n",
    "                                  np.where(q2_2['Na_to_K'] <= 30, 'Lv3', 'Lv4')))"
   ]
  },
  {
   "cell_type": "code",
   "execution_count": 135,
   "id": "de1c6acd",
   "metadata": {},
   "outputs": [
    {
     "data": {
      "text/html": [
       "<div>\n",
       "<style scoped>\n",
       "    .dataframe tbody tr th:only-of-type {\n",
       "        vertical-align: middle;\n",
       "    }\n",
       "\n",
       "    .dataframe tbody tr th {\n",
       "        vertical-align: top;\n",
       "    }\n",
       "\n",
       "    .dataframe thead th {\n",
       "        text-align: right;\n",
       "    }\n",
       "</style>\n",
       "<table border=\"1\" class=\"dataframe\">\n",
       "  <thead>\n",
       "    <tr style=\"text-align: right;\">\n",
       "      <th>Drug</th>\n",
       "      <th>DrugY</th>\n",
       "      <th>drugA</th>\n",
       "      <th>drugB</th>\n",
       "      <th>drugC</th>\n",
       "      <th>drugX</th>\n",
       "    </tr>\n",
       "    <tr>\n",
       "      <th>Sex</th>\n",
       "      <th></th>\n",
       "      <th></th>\n",
       "      <th></th>\n",
       "      <th></th>\n",
       "      <th></th>\n",
       "    </tr>\n",
       "  </thead>\n",
       "  <tbody>\n",
       "    <tr>\n",
       "      <th>F</th>\n",
       "      <td>47</td>\n",
       "      <td>9</td>\n",
       "      <td>6</td>\n",
       "      <td>7</td>\n",
       "      <td>27</td>\n",
       "    </tr>\n",
       "    <tr>\n",
       "      <th>M</th>\n",
       "      <td>44</td>\n",
       "      <td>14</td>\n",
       "      <td>10</td>\n",
       "      <td>9</td>\n",
       "      <td>27</td>\n",
       "    </tr>\n",
       "  </tbody>\n",
       "</table>\n",
       "</div>"
      ],
      "text/plain": [
       "Drug  DrugY  drugA  drugB  drugC  drugX\n",
       "Sex                                    \n",
       "F        47      9      6      7     27\n",
       "M        44     14     10      9     27"
      ]
     },
     "execution_count": 135,
     "metadata": {},
     "output_type": "execute_result"
    }
   ],
   "source": [
    "# 2. 카이스퀘어 검정\n",
    "# - 빈도표 작성\n",
    "# - 빈도표를 입력으로 카이스퀘어 검정을 수행\n",
    "\n",
    "# Sex, BP, Cholesterol, Age_gr, Na_K_gr이 Drug 변수와 영향이 있는지 독립성 검정\n",
    "\n",
    "tab = pd.crosstab(index=q2_2['Sex'], columns=q2_2['Drug'])\n",
    "tab"
   ]
  },
  {
   "cell_type": "code",
   "execution_count": 136,
   "id": "373257d7",
   "metadata": {},
   "outputs": [],
   "source": [
    "from scipy.stats import chi2_contingency # 카이스퀘어 검정"
   ]
  },
  {
   "cell_type": "code",
   "execution_count": 137,
   "id": "93dd18c2",
   "metadata": {},
   "outputs": [],
   "source": [
    "? chi2_contingency"
   ]
  },
  {
   "cell_type": "code",
   "execution_count": 138,
   "id": "e8a3ac4e",
   "metadata": {},
   "outputs": [
    {
     "data": {
      "text/plain": [
       "Chi2ContingencyResult(statistic=2.119248418109203, pvalue=0.7138369773987128, dof=4, expected_freq=array([[43.68, 11.04,  7.68,  7.68, 25.92],\n",
       "       [47.32, 11.96,  8.32,  8.32, 28.08]]))"
      ]
     },
     "execution_count": 138,
     "metadata": {},
     "output_type": "execute_result"
    }
   ],
   "source": [
    "chi_out = chi2_contingency(tab)\n",
    "chi_out"
   ]
  },
  {
   "cell_type": "code",
   "execution_count": 139,
   "id": "f592beb4",
   "metadata": {},
   "outputs": [
    {
     "data": {
      "text/plain": [
       "0.7138369773987128"
      ]
     },
     "execution_count": 139,
     "metadata": {},
     "output_type": "execute_result"
    }
   ],
   "source": [
    "# H0: 두 범주형 변수가 독립이다.\n",
    "# H1: 두 범주형 변수가 독립이 아니다. (상관이 있다.)\n",
    "\n",
    "chi_out[1]\n",
    "# 강사님 화면에서 chi_out의 출력은 튜플이었음\n",
    "# 그래서 인덱스를 사용한 것임\n",
    "# 위 출력은 그렇지 않은데 똑같이 적용되네\n",
    "# 버전이 다르다고 함"
   ]
  },
  {
   "cell_type": "code",
   "execution_count": 140,
   "id": "f0afc73c",
   "metadata": {},
   "outputs": [
    {
     "data": {
      "text/plain": [
       "False"
      ]
     },
     "execution_count": 140,
     "metadata": {},
     "output_type": "execute_result"
    }
   ],
   "source": [
    "chi_out[1] < 0.05"
   ]
  },
  {
   "cell_type": "code",
   "execution_count": 141,
   "id": "5d9f8d8f",
   "metadata": {},
   "outputs": [],
   "source": [
    "# 3. 반복적으로 카이스퀘어 검정 수행\n",
    "q2_2_list = ['Sex', 'BP', 'Cholesterol', 'Age_gr', 'Na_K_gr']"
   ]
  },
  {
   "cell_type": "code",
   "execution_count": 142,
   "id": "35f5358f",
   "metadata": {},
   "outputs": [],
   "source": [
    "q2_2_out = []\n",
    "\n",
    "for i in q2_2_list:\n",
    "    tab = pd.crosstab(index=q2_2[i], columns=q2_2['Drug'])\n",
    "    chi_out = chi2_contingency(tab)\n",
    "    q2_2_out.append([i, chi_out[0], chi_out[1]])"
   ]
  },
  {
   "cell_type": "code",
   "execution_count": 143,
   "id": "ea2fdb7e",
   "metadata": {},
   "outputs": [
    {
     "data": {
      "text/html": [
       "<div>\n",
       "<style scoped>\n",
       "    .dataframe tbody tr th:only-of-type {\n",
       "        vertical-align: middle;\n",
       "    }\n",
       "\n",
       "    .dataframe tbody tr th {\n",
       "        vertical-align: top;\n",
       "    }\n",
       "\n",
       "    .dataframe thead th {\n",
       "        text-align: right;\n",
       "    }\n",
       "</style>\n",
       "<table border=\"1\" class=\"dataframe\">\n",
       "  <thead>\n",
       "    <tr style=\"text-align: right;\">\n",
       "      <th></th>\n",
       "      <th>var</th>\n",
       "      <th>chi</th>\n",
       "      <th>pvalue</th>\n",
       "    </tr>\n",
       "  </thead>\n",
       "  <tbody>\n",
       "    <tr>\n",
       "      <th>0</th>\n",
       "      <td>Sex</td>\n",
       "      <td>2.119248</td>\n",
       "      <td>7.138370e-01</td>\n",
       "    </tr>\n",
       "    <tr>\n",
       "      <th>1</th>\n",
       "      <td>BP</td>\n",
       "      <td>143.232872</td>\n",
       "      <td>5.041733e-27</td>\n",
       "    </tr>\n",
       "    <tr>\n",
       "      <th>2</th>\n",
       "      <td>Cholesterol</td>\n",
       "      <td>19.609658</td>\n",
       "      <td>5.962588e-04</td>\n",
       "    </tr>\n",
       "    <tr>\n",
       "      <th>3</th>\n",
       "      <td>Age_gr</td>\n",
       "      <td>46.440652</td>\n",
       "      <td>7.010113e-04</td>\n",
       "    </tr>\n",
       "    <tr>\n",
       "      <th>4</th>\n",
       "      <td>Na_K_gr</td>\n",
       "      <td>93.310063</td>\n",
       "      <td>1.125464e-14</td>\n",
       "    </tr>\n",
       "  </tbody>\n",
       "</table>\n",
       "</div>"
      ],
      "text/plain": [
       "           var         chi        pvalue\n",
       "0          Sex    2.119248  7.138370e-01\n",
       "1           BP  143.232872  5.041733e-27\n",
       "2  Cholesterol   19.609658  5.962588e-04\n",
       "3       Age_gr   46.440652  7.010113e-04\n",
       "4      Na_K_gr   93.310063  1.125464e-14"
      ]
     },
     "execution_count": 143,
     "metadata": {},
     "output_type": "execute_result"
    }
   ],
   "source": [
    "q2_2_out = pd.DataFrame(q2_2_out, columns=['var','chi','pvalue'])\n",
    "q2_2_out"
   ]
  },
  {
   "cell_type": "code",
   "execution_count": 144,
   "id": "4390fba8",
   "metadata": {},
   "outputs": [
    {
     "data": {
      "text/plain": [
       "0.0007"
      ]
     },
     "execution_count": 144,
     "metadata": {},
     "output_type": "execute_result"
    }
   ],
   "source": [
    "q2_2_out2 = q2_2_out[q2_2_out.pvalue < 0.05]\n",
    "np.trunc(q2_2_out2.pvalue.max() * 100000) / 100000"
   ]
  },
  {
   "cell_type": "code",
   "execution_count": null,
   "id": "a9683fcf",
   "metadata": {},
   "outputs": [],
   "source": [
    "# =============================================================================\n",
    "# 3.Sex, BP, Cholesterol 등 세 개의 변수를 다음과 같이 변환하고 의사결정나무를 이용한\n",
    "# 분석을 수행하시오.\n",
    "# - Sex는 M을 0, F를 1로 변환하여 Sex_cd 변수 생성\n",
    "# - BP는 LOW는 0, NORMAL은 1 그리고 HIGH는 2로 변환하여 BP_cd 변수 생성\n",
    "# - Cholesterol은 NORMAL은 0, HIGH는 1로 변환하여 Ch_cd 생성\n",
    "# - Age, Na_to_k, Sex_cd, BP_cd, Ch_cd를 Feature로, Drug을 Label로 하여 의사결정나무를\n",
    "# 수행하고 Root Node의 split feature와 split value를 기술하시오. \n",
    "# 이 때 split value는 소수점 셋째 자리까지 반올림하여 기술하시오. (답안 예시) Age, \n",
    "# 12.345\n",
    "# ============================================================================="
   ]
  },
  {
   "cell_type": "code",
   "execution_count": null,
   "id": "c5fbdbc3",
   "metadata": {},
   "outputs": [],
   "source": [
    "# 훈련 데이터에는 없던 범주가 테스트 데이터에서 나온경우\n",
    "# 훈련 데이터를 수치화 시킬 때 '기타'를 나타내는 수치를 넣어서\n",
    "# 테스트 데이터에서 새로 나온 범주들을 모두 '기타'로 처리한다."
   ]
  },
  {
   "cell_type": "code",
   "execution_count": 114,
   "id": "5aa838b5",
   "metadata": {},
   "outputs": [],
   "source": [
    "# (1) 변수 생성\n",
    "q2_3 = data2.copy()"
   ]
  },
  {
   "cell_type": "code",
   "execution_count": 116,
   "id": "4d9dd117",
   "metadata": {},
   "outputs": [],
   "source": [
    "# - Sex는 M을 0, F를 1로 변환하여 Sex_cd 변수 생성\n",
    "q2_3['Sex_cd']=np.where(q2_3['Sex'] == 'M', 0, 1)\n",
    "\n",
    "# - BP는 LOW는 0, NORMAL은 1 그리고 HIGH는 2로 변환하여 BP_cd 변수 생성\n",
    "q2_3['BP_cd']=np.where(q2_3['BP'] == 'LOW', 0, \n",
    "                      np.where(q2_3['BP'] == 'NORMAL', 1, 2))\n",
    "\n",
    "# - Cholesterol은 NORMAL은 0, HIGH는 1로 변환하여 Ch_cd 생성\n",
    "q2_3['Ch_cd']=np.where(q2_3['Cholesterol'] == 'NORMAL', 0, 1)"
   ]
  },
  {
   "cell_type": "code",
   "execution_count": 126,
   "id": "41a4df2e",
   "metadata": {},
   "outputs": [],
   "source": [
    "# (2) 의사결정나무 분류 수행\n",
    "\n",
    "q2_3_list = ['Age', 'Na_to_K', 'Sex_cd', 'BP_cd', 'Ch_cd']"
   ]
  },
  {
   "cell_type": "code",
   "execution_count": 118,
   "id": "b1d3413a",
   "metadata": {},
   "outputs": [],
   "source": [
    "from sklearn.tree import DecisionTreeClassifier, plot_tree, export_text"
   ]
  },
  {
   "cell_type": "code",
   "execution_count": 127,
   "id": "e5881253",
   "metadata": {},
   "outputs": [],
   "source": [
    "dt = DecisionTreeClassifier().fit(q2_3[q2_3_list], q2_3['Drug'])"
   ]
  },
  {
   "cell_type": "code",
   "execution_count": 120,
   "id": "c48152a5",
   "metadata": {},
   "outputs": [],
   "source": [
    "%matplotlib inline"
   ]
  },
  {
   "cell_type": "code",
   "execution_count": 122,
   "id": "9e1c1d66",
   "metadata": {},
   "outputs": [],
   "source": [
    "import matplotlib.pyplot as plt"
   ]
  },
  {
   "cell_type": "code",
   "execution_count": 132,
   "id": "a173bb12",
   "metadata": {},
   "outputs": [
    {
     "data": {
      "text/plain": [
       "[Text(0.6666666666666666, 0.9, 'Na_to_K <= 14.829\\ngini = 0.694\\nsamples = 200\\nvalue = [91, 23, 16, 16, 54]\\nclass = DrugY'),\n",
       " Text(0.5555555555555556, 0.7, 'BP_cd <= 1.5\\ngini = 0.667\\nsamples = 109\\nvalue = [0, 23, 16, 16, 54]\\nclass = drugX'),\n",
       " Text(0.3333333333333333, 0.5, 'BP_cd <= 0.5\\ngini = 0.353\\nsamples = 70\\nvalue = [0, 0, 0, 16, 54]\\nclass = drugX'),\n",
       " Text(0.2222222222222222, 0.3, 'Ch_cd <= 0.5\\ngini = 0.498\\nsamples = 34\\nvalue = [0, 0, 0, 16, 18]\\nclass = drugX'),\n",
       " Text(0.1111111111111111, 0.1, 'gini = 0.0\\nsamples = 18\\nvalue = [0, 0, 0, 0, 18]\\nclass = drugX'),\n",
       " Text(0.3333333333333333, 0.1, 'gini = 0.0\\nsamples = 16\\nvalue = [0, 0, 0, 16, 0]\\nclass = drugC'),\n",
       " Text(0.4444444444444444, 0.3, 'gini = 0.0\\nsamples = 36\\nvalue = [0, 0, 0, 0, 36]\\nclass = drugX'),\n",
       " Text(0.7777777777777778, 0.5, 'Age <= 50.5\\ngini = 0.484\\nsamples = 39\\nvalue = [0, 23, 16, 0, 0]\\nclass = drugA'),\n",
       " Text(0.6666666666666666, 0.3, 'gini = 0.0\\nsamples = 23\\nvalue = [0, 23, 0, 0, 0]\\nclass = drugA'),\n",
       " Text(0.8888888888888888, 0.3, 'gini = 0.0\\nsamples = 16\\nvalue = [0, 0, 16, 0, 0]\\nclass = drugB'),\n",
       " Text(0.7777777777777778, 0.7, 'gini = 0.0\\nsamples = 91\\nvalue = [91, 0, 0, 0, 0]\\nclass = DrugY')]"
      ]
     },
     "execution_count": 132,
     "metadata": {},
     "output_type": "execute_result"
    },
    {
     "data": {
      "image/png": "[encoded data removed]",
      "text/plain": [
       "<Figure size 1000x800 with 1 Axes>"
      ]
     },
     "metadata": {},
     "output_type": "display_data"
    }
   ],
   "source": [
    "# (3) 룰을 시각화 또는 텍스트로 송출해서 특징을 찾기\n",
    "plt.figure(figsize=(10, 8))\n",
    "plot_tree(dt, feature_names=q2_3_list, class_names=list(dt.classes_), fontsize=5, \n",
    "         rounded=True, filled=True)"
   ]
  },
  {
   "cell_type": "code",
   "execution_count": 148,
   "id": "bd6a23b9",
   "metadata": {},
   "outputs": [
    {
     "name": "stdout",
     "output_type": "stream",
     "text": [
      "|--- Na_to_K <= 14.829\n",
      "|   |--- BP_cd <= 1.500\n",
      "|   |   |--- BP_cd <= 0.500\n",
      "|   |   |   |--- Ch_cd <= 0.500\n",
      "|   |   |   |   |--- class: drugX\n",
      "|   |   |   |--- Ch_cd >  0.500\n",
      "|   |   |   |   |--- class: drugC\n",
      "|   |   |--- BP_cd >  0.500\n",
      "|   |   |   |--- class: drugX\n",
      "|   |--- BP_cd >  1.500\n",
      "|   |   |--- Age <= 50.500\n",
      "|   |   |   |--- class: drugA\n",
      "|   |   |--- Age >  50.500\n",
      "|   |   |   |--- class: drugB\n",
      "|--- Na_to_K >  14.829\n",
      "|   |--- class: DrugY\n",
      "\n"
     ]
    }
   ],
   "source": [
    "print(export_text(dt, feature_names=q2_3_list, decimals=3))\n",
    "\n",
    "# 카이스퀘어 검정에서 성별은 p값이 0.05보다 컸다. \n",
    "# 이는 'Drug'와 성별이 독립인 것을 의미한다.\n",
    "# 결정 트리 결과에서도 확인할 수 있다.\n",
    "# 트리를 나누는 기준에 성별이 포함되지 않았다. (독립이기 때문이다.)"
   ]
  },
  {
   "cell_type": "markdown",
   "id": "d93cba85",
   "metadata": {},
   "source": [
    "# 문제 03 유형(DataSet_03.csv 이용)"
   ]
  },
  {
   "cell_type": "code",
   "execution_count": null,
   "id": "a2c92991",
   "metadata": {},
   "outputs": [],
   "source": [
    "# =============================================================================\n",
    "# 구분자 : comma(“,”), 5,001 Rows, 8 Columns, UTF-8 인코딩\n",
    "# 안경 체인을 운영하고 있는 한 회사에서 고객 사진을 바탕으로 안경의 사이즈를\n",
    "# 맞춤 제작하는 비즈니스를 기획하고 있다. 우선 데이터만으로 고객의 성별을\n",
    "# 파악하는 것이 가능할 지를 연구하고자 한다.\n",
    "#\n",
    "# 컬 럼 / 정 의 / Type\n",
    "# long_hair / 머리카락 길이 (0 – 길지 않은 경우 / 1 – 긴\n",
    "# 경우) / Integer\n",
    "# forehead_width_cm / 이마의 폭 (cm) / Double\n",
    "# forehead_height_cm / 이마의 높이 (cm) / Double\n",
    "# nose_wide / 코의 넓이 (0 – 넓지 않은 경우 / 1 – 넓은 경우) / Integer\n",
    "# nose_long / 코의 길이 (0 – 길지 않은 경우 / 1 – 긴 경우) / Integer\n",
    "# lips_thin / 입술이 얇은지 여부 0 – 얇지 않은 경우 / 1 –\n",
    "# 얇은 경우) / Integer\n",
    "# distance_nose_to_lip_long / 인중의 길이(0 – 인중이 짧은 경우 / 1 – 인중이\n",
    "# 긴 경우) / Integer\n",
    "# gender / 성별 (Female / Male) / String\n",
    "# =============================================================================\n",
    "# ============================================================================="
   ]
  },
  {
   "cell_type": "code",
   "execution_count": 149,
   "id": "d8bb6f95",
   "metadata": {},
   "outputs": [],
   "source": [
    "data3 = pd.read_csv('ProDS특강/Dataset/Dataset_03.csv')"
   ]
  },
  {
   "cell_type": "code",
   "execution_count": 150,
   "id": "0df611c2",
   "metadata": {},
   "outputs": [
    {
     "name": "stdout",
     "output_type": "stream",
     "text": [
      "<class 'pandas.core.frame.DataFrame'>\n",
      "RangeIndex: 5001 entries, 0 to 5000\n",
      "Data columns (total 8 columns):\n",
      " #   Column                     Non-Null Count  Dtype  \n",
      "---  ------                     --------------  -----  \n",
      " 0   long_hair                  5001 non-null   int64  \n",
      " 1   forehead_width_cm          5001 non-null   float64\n",
      " 2   forehead_height_cm         5001 non-null   float64\n",
      " 3   nose_wide                  5001 non-null   int64  \n",
      " 4   nose_long                  5001 non-null   int64  \n",
      " 5   lips_thin                  5001 non-null   int64  \n",
      " 6   distance_nose_to_lip_long  5001 non-null   int64  \n",
      " 7   gender                     5001 non-null   object \n",
      "dtypes: float64(2), int64(5), object(1)\n",
      "memory usage: 312.7+ KB\n"
     ]
    }
   ],
   "source": [
    "data3.info()"
   ]
  },
  {
   "cell_type": "code",
   "execution_count": 151,
   "id": "41b8f242",
   "metadata": {},
   "outputs": [
    {
     "data": {
      "text/plain": [
       "Index(['long_hair', 'forehead_width_cm', 'forehead_height_cm', 'nose_wide',\n",
       "       'nose_long', 'lips_thin', 'distance_nose_to_lip_long', 'gender'],\n",
       "      dtype='object')"
      ]
     },
     "execution_count": 151,
     "metadata": {},
     "output_type": "execute_result"
    }
   ],
   "source": [
    "data3.columns"
   ]
  },
  {
   "cell_type": "code",
   "execution_count": null,
   "id": "ffb27aff",
   "metadata": {},
   "outputs": [],
   "source": [
    "# =============================================================================\n",
    "# 1.이마의 폭(forehead_width_cm)과 높이(forehead_height_cm) 사이의\n",
    "# 비율(forehead_ratio)에 대해서 평균으로부터 3 표준편차 밖의 경우를 이상치로\n",
    "# 정의할 때, 이상치에 해당하는 데이터는 몇 개인가? (답안 예시) 10\n",
    "# =============================================================================\n"
   ]
  },
  {
   "cell_type": "code",
   "execution_count": 152,
   "id": "a82f7299",
   "metadata": {},
   "outputs": [],
   "source": [
    "q3_1 = data3.copy()"
   ]
  },
  {
   "cell_type": "code",
   "execution_count": 153,
   "id": "457e3cf7",
   "metadata": {},
   "outputs": [],
   "source": [
    "q3_1['forehead_ratio'] = q3_1.forehead_width_cm / q3_1.forehead_height_cm"
   ]
  },
  {
   "cell_type": "code",
   "execution_count": 154,
   "id": "0c824c12",
   "metadata": {},
   "outputs": [
    {
     "data": {
      "text/html": [
       "<div>\n",
       "<style scoped>\n",
       "    .dataframe tbody tr th:only-of-type {\n",
       "        vertical-align: middle;\n",
       "    }\n",
       "\n",
       "    .dataframe tbody tr th {\n",
       "        vertical-align: top;\n",
       "    }\n",
       "\n",
       "    .dataframe thead th {\n",
       "        text-align: right;\n",
       "    }\n",
       "</style>\n",
       "<table border=\"1\" class=\"dataframe\">\n",
       "  <thead>\n",
       "    <tr style=\"text-align: right;\">\n",
       "      <th></th>\n",
       "      <th>long_hair</th>\n",
       "      <th>forehead_width_cm</th>\n",
       "      <th>forehead_height_cm</th>\n",
       "      <th>nose_wide</th>\n",
       "      <th>nose_long</th>\n",
       "      <th>lips_thin</th>\n",
       "      <th>distance_nose_to_lip_long</th>\n",
       "      <th>gender</th>\n",
       "      <th>forehead_ratio</th>\n",
       "    </tr>\n",
       "  </thead>\n",
       "  <tbody>\n",
       "    <tr>\n",
       "      <th>0</th>\n",
       "      <td>1</td>\n",
       "      <td>11.8</td>\n",
       "      <td>6.1</td>\n",
       "      <td>1</td>\n",
       "      <td>0</td>\n",
       "      <td>1</td>\n",
       "      <td>1</td>\n",
       "      <td>Male</td>\n",
       "      <td>1.934426</td>\n",
       "    </tr>\n",
       "    <tr>\n",
       "      <th>1</th>\n",
       "      <td>0</td>\n",
       "      <td>14.0</td>\n",
       "      <td>5.4</td>\n",
       "      <td>0</td>\n",
       "      <td>0</td>\n",
       "      <td>1</td>\n",
       "      <td>0</td>\n",
       "      <td>Female</td>\n",
       "      <td>2.592593</td>\n",
       "    </tr>\n",
       "    <tr>\n",
       "      <th>2</th>\n",
       "      <td>0</td>\n",
       "      <td>11.8</td>\n",
       "      <td>6.3</td>\n",
       "      <td>1</td>\n",
       "      <td>1</td>\n",
       "      <td>1</td>\n",
       "      <td>1</td>\n",
       "      <td>Male</td>\n",
       "      <td>1.873016</td>\n",
       "    </tr>\n",
       "    <tr>\n",
       "      <th>3</th>\n",
       "      <td>0</td>\n",
       "      <td>14.4</td>\n",
       "      <td>6.1</td>\n",
       "      <td>0</td>\n",
       "      <td>1</td>\n",
       "      <td>1</td>\n",
       "      <td>1</td>\n",
       "      <td>Male</td>\n",
       "      <td>2.360656</td>\n",
       "    </tr>\n",
       "    <tr>\n",
       "      <th>4</th>\n",
       "      <td>1</td>\n",
       "      <td>13.5</td>\n",
       "      <td>5.9</td>\n",
       "      <td>0</td>\n",
       "      <td>0</td>\n",
       "      <td>0</td>\n",
       "      <td>0</td>\n",
       "      <td>Female</td>\n",
       "      <td>2.288136</td>\n",
       "    </tr>\n",
       "  </tbody>\n",
       "</table>\n",
       "</div>"
      ],
      "text/plain": [
       "   long_hair  forehead_width_cm  forehead_height_cm  nose_wide  nose_long  \\\n",
       "0          1               11.8                 6.1          1          0   \n",
       "1          0               14.0                 5.4          0          0   \n",
       "2          0               11.8                 6.3          1          1   \n",
       "3          0               14.4                 6.1          0          1   \n",
       "4          1               13.5                 5.9          0          0   \n",
       "\n",
       "   lips_thin  distance_nose_to_lip_long  gender  forehead_ratio  \n",
       "0          1                          1    Male        1.934426  \n",
       "1          1                          0  Female        2.592593  \n",
       "2          1                          1    Male        1.873016  \n",
       "3          1                          1    Male        2.360656  \n",
       "4          0                          0  Female        2.288136  "
      ]
     },
     "execution_count": 154,
     "metadata": {},
     "output_type": "execute_result"
    }
   ],
   "source": [
    "q3_1.head()"
   ]
  },
  {
   "cell_type": "code",
   "execution_count": 156,
   "id": "8e6f6ce5",
   "metadata": {},
   "outputs": [],
   "source": [
    "xbar = q3_1['forehead_ratio'].mean()\n",
    "std_ratio = q3_1['forehead_ratio'].std()"
   ]
  },
  {
   "cell_type": "code",
   "execution_count": 158,
   "id": "ac2caaa4",
   "metadata": {},
   "outputs": [],
   "source": [
    "LB = xbar - (3 * std_ratio)\n",
    "UB = xbar + (3 * std_ratio)"
   ]
  },
  {
   "cell_type": "code",
   "execution_count": 160,
   "id": "456679b2",
   "metadata": {},
   "outputs": [
    {
     "data": {
      "text/plain": [
       "3"
      ]
     },
     "execution_count": 160,
     "metadata": {},
     "output_type": "execute_result"
    }
   ],
   "source": [
    "q3_1_outlier = q3_1[(q3_1['forehead_ratio'] < LB) | (q3_1['forehead_ratio'] > UB)]\n",
    "len(q3_1_outlier)"
   ]
  },
  {
   "cell_type": "code",
   "execution_count": 161,
   "id": "cfc96b5f",
   "metadata": {},
   "outputs": [],
   "source": [
    "def outlier_test(x):\n",
    "    Q1 = x.quantile(1/4)\n",
    "    Q3 = x.quantile(3/4)\n",
    "    IQR = Q3 - Q1\n",
    "    \n",
    "    LB = Q1 - (1.5 * IQR)\n",
    "    UB = Q3 + (1.5 * IQR)\n",
    "    \n",
    "    outlier = (x < LB) | (x > UB)\n",
    "    \n",
    "    return outlier"
   ]
  },
  {
   "cell_type": "code",
   "execution_count": 163,
   "id": "e04fc9ee",
   "metadata": {},
   "outputs": [
    {
     "data": {
      "text/plain": [
       "0       False\n",
       "1       False\n",
       "2       False\n",
       "3       False\n",
       "4       False\n",
       "        ...  \n",
       "4996    False\n",
       "4997    False\n",
       "4998    False\n",
       "4999    False\n",
       "5000    False\n",
       "Name: forehead_ratio, Length: 5001, dtype: bool"
      ]
     },
     "execution_count": 163,
     "metadata": {},
     "output_type": "execute_result"
    }
   ],
   "source": [
    "out1 = outlier_test(q3_1['forehead_ratio'])\n",
    "out1"
   ]
  },
  {
   "cell_type": "code",
   "execution_count": 164,
   "id": "302827a6",
   "metadata": {},
   "outputs": [
    {
     "data": {
      "text/html": [
       "<div>\n",
       "<style scoped>\n",
       "    .dataframe tbody tr th:only-of-type {\n",
       "        vertical-align: middle;\n",
       "    }\n",
       "\n",
       "    .dataframe tbody tr th {\n",
       "        vertical-align: top;\n",
       "    }\n",
       "\n",
       "    .dataframe thead th {\n",
       "        text-align: right;\n",
       "    }\n",
       "</style>\n",
       "<table border=\"1\" class=\"dataframe\">\n",
       "  <thead>\n",
       "    <tr style=\"text-align: right;\">\n",
       "      <th></th>\n",
       "      <th>long_hair</th>\n",
       "      <th>forehead_width_cm</th>\n",
       "      <th>forehead_height_cm</th>\n",
       "      <th>nose_wide</th>\n",
       "      <th>nose_long</th>\n",
       "      <th>lips_thin</th>\n",
       "      <th>distance_nose_to_lip_long</th>\n",
       "      <th>gender</th>\n",
       "      <th>forehead_ratio</th>\n",
       "    </tr>\n",
       "  </thead>\n",
       "  <tbody>\n",
       "    <tr>\n",
       "      <th>56</th>\n",
       "      <td>1</td>\n",
       "      <td>15.4</td>\n",
       "      <td>5.1</td>\n",
       "      <td>1</td>\n",
       "      <td>1</td>\n",
       "      <td>1</td>\n",
       "      <td>0</td>\n",
       "      <td>Male</td>\n",
       "      <td>3.019608</td>\n",
       "    </tr>\n",
       "    <tr>\n",
       "      <th>207</th>\n",
       "      <td>1</td>\n",
       "      <td>15.1</td>\n",
       "      <td>5.1</td>\n",
       "      <td>1</td>\n",
       "      <td>1</td>\n",
       "      <td>1</td>\n",
       "      <td>1</td>\n",
       "      <td>Male</td>\n",
       "      <td>2.960784</td>\n",
       "    </tr>\n",
       "    <tr>\n",
       "      <th>244</th>\n",
       "      <td>1</td>\n",
       "      <td>15.4</td>\n",
       "      <td>5.1</td>\n",
       "      <td>1</td>\n",
       "      <td>0</td>\n",
       "      <td>1</td>\n",
       "      <td>1</td>\n",
       "      <td>Male</td>\n",
       "      <td>3.019608</td>\n",
       "    </tr>\n",
       "    <tr>\n",
       "      <th>1110</th>\n",
       "      <td>1</td>\n",
       "      <td>15.4</td>\n",
       "      <td>5.2</td>\n",
       "      <td>1</td>\n",
       "      <td>1</td>\n",
       "      <td>1</td>\n",
       "      <td>0</td>\n",
       "      <td>Male</td>\n",
       "      <td>2.961538</td>\n",
       "    </tr>\n",
       "    <tr>\n",
       "      <th>1156</th>\n",
       "      <td>1</td>\n",
       "      <td>15.4</td>\n",
       "      <td>5.2</td>\n",
       "      <td>1</td>\n",
       "      <td>1</td>\n",
       "      <td>1</td>\n",
       "      <td>1</td>\n",
       "      <td>Male</td>\n",
       "      <td>2.961538</td>\n",
       "    </tr>\n",
       "    <tr>\n",
       "      <th>1255</th>\n",
       "      <td>1</td>\n",
       "      <td>15.2</td>\n",
       "      <td>5.1</td>\n",
       "      <td>0</td>\n",
       "      <td>1</td>\n",
       "      <td>1</td>\n",
       "      <td>1</td>\n",
       "      <td>Male</td>\n",
       "      <td>2.980392</td>\n",
       "    </tr>\n",
       "    <tr>\n",
       "      <th>1408</th>\n",
       "      <td>1</td>\n",
       "      <td>15.2</td>\n",
       "      <td>5.1</td>\n",
       "      <td>1</td>\n",
       "      <td>1</td>\n",
       "      <td>1</td>\n",
       "      <td>1</td>\n",
       "      <td>Male</td>\n",
       "      <td>2.980392</td>\n",
       "    </tr>\n",
       "    <tr>\n",
       "      <th>1562</th>\n",
       "      <td>1</td>\n",
       "      <td>15.4</td>\n",
       "      <td>5.1</td>\n",
       "      <td>1</td>\n",
       "      <td>1</td>\n",
       "      <td>1</td>\n",
       "      <td>1</td>\n",
       "      <td>Male</td>\n",
       "      <td>3.019608</td>\n",
       "    </tr>\n",
       "    <tr>\n",
       "      <th>1640</th>\n",
       "      <td>0</td>\n",
       "      <td>15.5</td>\n",
       "      <td>5.2</td>\n",
       "      <td>0</td>\n",
       "      <td>0</td>\n",
       "      <td>0</td>\n",
       "      <td>1</td>\n",
       "      <td>Male</td>\n",
       "      <td>2.980769</td>\n",
       "    </tr>\n",
       "    <tr>\n",
       "      <th>1641</th>\n",
       "      <td>1</td>\n",
       "      <td>15.5</td>\n",
       "      <td>5.1</td>\n",
       "      <td>1</td>\n",
       "      <td>1</td>\n",
       "      <td>1</td>\n",
       "      <td>1</td>\n",
       "      <td>Male</td>\n",
       "      <td>3.039216</td>\n",
       "    </tr>\n",
       "    <tr>\n",
       "      <th>1713</th>\n",
       "      <td>1</td>\n",
       "      <td>15.2</td>\n",
       "      <td>5.1</td>\n",
       "      <td>1</td>\n",
       "      <td>1</td>\n",
       "      <td>1</td>\n",
       "      <td>1</td>\n",
       "      <td>Male</td>\n",
       "      <td>2.980392</td>\n",
       "    </tr>\n",
       "    <tr>\n",
       "      <th>1817</th>\n",
       "      <td>1</td>\n",
       "      <td>15.5</td>\n",
       "      <td>5.1</td>\n",
       "      <td>1</td>\n",
       "      <td>0</td>\n",
       "      <td>1</td>\n",
       "      <td>1</td>\n",
       "      <td>Male</td>\n",
       "      <td>3.039216</td>\n",
       "    </tr>\n",
       "    <tr>\n",
       "      <th>2205</th>\n",
       "      <td>0</td>\n",
       "      <td>15.2</td>\n",
       "      <td>5.1</td>\n",
       "      <td>1</td>\n",
       "      <td>1</td>\n",
       "      <td>1</td>\n",
       "      <td>1</td>\n",
       "      <td>Male</td>\n",
       "      <td>2.980392</td>\n",
       "    </tr>\n",
       "    <tr>\n",
       "      <th>3094</th>\n",
       "      <td>1</td>\n",
       "      <td>15.4</td>\n",
       "      <td>5.2</td>\n",
       "      <td>1</td>\n",
       "      <td>1</td>\n",
       "      <td>1</td>\n",
       "      <td>1</td>\n",
       "      <td>Male</td>\n",
       "      <td>2.961538</td>\n",
       "    </tr>\n",
       "    <tr>\n",
       "      <th>3213</th>\n",
       "      <td>1</td>\n",
       "      <td>15.5</td>\n",
       "      <td>5.2</td>\n",
       "      <td>0</td>\n",
       "      <td>1</td>\n",
       "      <td>1</td>\n",
       "      <td>1</td>\n",
       "      <td>Male</td>\n",
       "      <td>2.980769</td>\n",
       "    </tr>\n",
       "    <tr>\n",
       "      <th>3414</th>\n",
       "      <td>1</td>\n",
       "      <td>15.1</td>\n",
       "      <td>5.1</td>\n",
       "      <td>0</td>\n",
       "      <td>1</td>\n",
       "      <td>1</td>\n",
       "      <td>0</td>\n",
       "      <td>Male</td>\n",
       "      <td>2.960784</td>\n",
       "    </tr>\n",
       "    <tr>\n",
       "      <th>3939</th>\n",
       "      <td>1</td>\n",
       "      <td>15.3</td>\n",
       "      <td>5.1</td>\n",
       "      <td>1</td>\n",
       "      <td>1</td>\n",
       "      <td>1</td>\n",
       "      <td>1</td>\n",
       "      <td>Male</td>\n",
       "      <td>3.000000</td>\n",
       "    </tr>\n",
       "    <tr>\n",
       "      <th>4115</th>\n",
       "      <td>1</td>\n",
       "      <td>15.2</td>\n",
       "      <td>5.1</td>\n",
       "      <td>1</td>\n",
       "      <td>0</td>\n",
       "      <td>1</td>\n",
       "      <td>1</td>\n",
       "      <td>Male</td>\n",
       "      <td>2.980392</td>\n",
       "    </tr>\n",
       "    <tr>\n",
       "      <th>4309</th>\n",
       "      <td>1</td>\n",
       "      <td>15.4</td>\n",
       "      <td>5.2</td>\n",
       "      <td>1</td>\n",
       "      <td>1</td>\n",
       "      <td>1</td>\n",
       "      <td>1</td>\n",
       "      <td>Male</td>\n",
       "      <td>2.961538</td>\n",
       "    </tr>\n",
       "    <tr>\n",
       "      <th>4382</th>\n",
       "      <td>0</td>\n",
       "      <td>15.3</td>\n",
       "      <td>5.1</td>\n",
       "      <td>1</td>\n",
       "      <td>1</td>\n",
       "      <td>0</td>\n",
       "      <td>1</td>\n",
       "      <td>Male</td>\n",
       "      <td>3.000000</td>\n",
       "    </tr>\n",
       "    <tr>\n",
       "      <th>4514</th>\n",
       "      <td>1</td>\n",
       "      <td>15.5</td>\n",
       "      <td>5.2</td>\n",
       "      <td>1</td>\n",
       "      <td>1</td>\n",
       "      <td>1</td>\n",
       "      <td>1</td>\n",
       "      <td>Male</td>\n",
       "      <td>2.980769</td>\n",
       "    </tr>\n",
       "    <tr>\n",
       "      <th>4526</th>\n",
       "      <td>1</td>\n",
       "      <td>15.4</td>\n",
       "      <td>5.2</td>\n",
       "      <td>1</td>\n",
       "      <td>1</td>\n",
       "      <td>1</td>\n",
       "      <td>1</td>\n",
       "      <td>Male</td>\n",
       "      <td>2.961538</td>\n",
       "    </tr>\n",
       "    <tr>\n",
       "      <th>4827</th>\n",
       "      <td>1</td>\n",
       "      <td>15.2</td>\n",
       "      <td>5.1</td>\n",
       "      <td>0</td>\n",
       "      <td>1</td>\n",
       "      <td>1</td>\n",
       "      <td>1</td>\n",
       "      <td>Male</td>\n",
       "      <td>2.980392</td>\n",
       "    </tr>\n",
       "    <tr>\n",
       "      <th>4948</th>\n",
       "      <td>0</td>\n",
       "      <td>15.5</td>\n",
       "      <td>5.1</td>\n",
       "      <td>1</td>\n",
       "      <td>1</td>\n",
       "      <td>1</td>\n",
       "      <td>1</td>\n",
       "      <td>Male</td>\n",
       "      <td>3.039216</td>\n",
       "    </tr>\n",
       "    <tr>\n",
       "      <th>4979</th>\n",
       "      <td>1</td>\n",
       "      <td>15.4</td>\n",
       "      <td>5.1</td>\n",
       "      <td>0</td>\n",
       "      <td>1</td>\n",
       "      <td>1</td>\n",
       "      <td>1</td>\n",
       "      <td>Male</td>\n",
       "      <td>3.019608</td>\n",
       "    </tr>\n",
       "  </tbody>\n",
       "</table>\n",
       "</div>"
      ],
      "text/plain": [
       "      long_hair  forehead_width_cm  forehead_height_cm  nose_wide  nose_long  \\\n",
       "56            1               15.4                 5.1          1          1   \n",
       "207           1               15.1                 5.1          1          1   \n",
       "244           1               15.4                 5.1          1          0   \n",
       "1110          1               15.4                 5.2          1          1   \n",
       "1156          1               15.4                 5.2          1          1   \n",
       "1255          1               15.2                 5.1          0          1   \n",
       "1408          1               15.2                 5.1          1          1   \n",
       "1562          1               15.4                 5.1          1          1   \n",
       "1640          0               15.5                 5.2          0          0   \n",
       "1641          1               15.5                 5.1          1          1   \n",
       "1713          1               15.2                 5.1          1          1   \n",
       "1817          1               15.5                 5.1          1          0   \n",
       "2205          0               15.2                 5.1          1          1   \n",
       "3094          1               15.4                 5.2          1          1   \n",
       "3213          1               15.5                 5.2          0          1   \n",
       "3414          1               15.1                 5.1          0          1   \n",
       "3939          1               15.3                 5.1          1          1   \n",
       "4115          1               15.2                 5.1          1          0   \n",
       "4309          1               15.4                 5.2          1          1   \n",
       "4382          0               15.3                 5.1          1          1   \n",
       "4514          1               15.5                 5.2          1          1   \n",
       "4526          1               15.4                 5.2          1          1   \n",
       "4827          1               15.2                 5.1          0          1   \n",
       "4948          0               15.5                 5.1          1          1   \n",
       "4979          1               15.4                 5.1          0          1   \n",
       "\n",
       "      lips_thin  distance_nose_to_lip_long gender  forehead_ratio  \n",
       "56            1                          0   Male        3.019608  \n",
       "207           1                          1   Male        2.960784  \n",
       "244           1                          1   Male        3.019608  \n",
       "1110          1                          0   Male        2.961538  \n",
       "1156          1                          1   Male        2.961538  \n",
       "1255          1                          1   Male        2.980392  \n",
       "1408          1                          1   Male        2.980392  \n",
       "1562          1                          1   Male        3.019608  \n",
       "1640          0                          1   Male        2.980769  \n",
       "1641          1                          1   Male        3.039216  \n",
       "1713          1                          1   Male        2.980392  \n",
       "1817          1                          1   Male        3.039216  \n",
       "2205          1                          1   Male        2.980392  \n",
       "3094          1                          1   Male        2.961538  \n",
       "3213          1                          1   Male        2.980769  \n",
       "3414          1                          0   Male        2.960784  \n",
       "3939          1                          1   Male        3.000000  \n",
       "4115          1                          1   Male        2.980392  \n",
       "4309          1                          1   Male        2.961538  \n",
       "4382          0                          1   Male        3.000000  \n",
       "4514          1                          1   Male        2.980769  \n",
       "4526          1                          1   Male        2.961538  \n",
       "4827          1                          1   Male        2.980392  \n",
       "4948          1                          1   Male        3.039216  \n",
       "4979          1                          1   Male        3.019608  "
      ]
     },
     "execution_count": 164,
     "metadata": {},
     "output_type": "execute_result"
    }
   ],
   "source": [
    "q3_1[out1]"
   ]
  },
  {
   "cell_type": "code",
   "execution_count": null,
   "id": "ace694f3",
   "metadata": {},
   "outputs": [],
   "source": [
    "# 그룹간 이질적인 특징을 갖는 데이터의 경우\n",
    "# 데이터 전체를 사용해서 이상값을 찾는 것이 적합하지 않다.\n",
    "# 이런 경우 그룹단위로 이상값을 찾는 것이 적절하다.\n",
    "# 위 데이터의 경우 이상값의 성별은 모두 남성이다.\n",
    "# 그룹간 이질적인 특징을 갖는 경우에 해당한다."
   ]
  },
  {
   "cell_type": "code",
   "execution_count": 174,
   "id": "ddb24b03",
   "metadata": {},
   "outputs": [
    {
     "data": {
      "text/plain": [
       "gender      \n",
       "Female  1       False\n",
       "        4       False\n",
       "        7       False\n",
       "        8       False\n",
       "        9       False\n",
       "                ...  \n",
       "Male    4987    False\n",
       "        4992    False\n",
       "        4994    False\n",
       "        4995    False\n",
       "        5000    False\n",
       "Name: forehead_ratio, Length: 5001, dtype: bool"
      ]
     },
     "execution_count": 174,
     "metadata": {},
     "output_type": "execute_result"
    }
   ],
   "source": [
    "out2 = q3_1.groupby('gender')['forehead_ratio'].apply(outlier_test)\n",
    "out2\n",
    "# q3_1[out2]"
   ]
  },
  {
   "cell_type": "code",
   "execution_count": 166,
   "id": "e07e0371",
   "metadata": {},
   "outputs": [],
   "source": [
    "import seaborn as sns"
   ]
  },
  {
   "cell_type": "code",
   "execution_count": 167,
   "id": "4bc549d8",
   "metadata": {},
   "outputs": [
    {
     "data": {
      "text/plain": [
       "<Axes: xlabel='gender', ylabel='forehead_ratio'>"
      ]
     },
     "execution_count": 167,
     "metadata": {},
     "output_type": "execute_result"
    },
    {
     "data": {
      "image/png": "[encoded data removed]",
      "text/plain": [
       "<Figure size 640x480 with 1 Axes>"
      ]
     },
     "metadata": {},
     "output_type": "display_data"
    }
   ],
   "source": [
    "sns.boxplot(data=q3_1, x='gender', y='forehead_ratio')"
   ]
  },
  {
   "cell_type": "code",
   "execution_count": 168,
   "id": "867516c9",
   "metadata": {},
   "outputs": [
    {
     "data": {
      "text/plain": [
       "<Axes: ylabel='forehead_ratio'>"
      ]
     },
     "execution_count": 168,
     "metadata": {},
     "output_type": "execute_result"
    },
    {
     "data": {
      "image/png": "[encoded data removed]",
      "text/plain": [
       "<Figure size 640x480 with 1 Axes>"
      ]
     },
     "metadata": {},
     "output_type": "display_data"
    }
   ],
   "source": [
    "sns.boxplot(data=q3_1, y='forehead_ratio')"
   ]
  },
  {
   "cell_type": "code",
   "execution_count": 175,
   "id": "91755fb4",
   "metadata": {},
   "outputs": [],
   "source": [
    "from sklearn.neighbors import LocalOutlierFactor\n",
    "# https://scikit-learn.org/stable/modules/outlier_detection.html#local-outlier-factor\n",
    "# 거리를 사용한다. -> 표준화가 되어있어야 한다.\n",
    "\n",
    "from sklearn.datasets import load_iris"
   ]
  },
  {
   "cell_type": "code",
   "execution_count": 176,
   "id": "b924ff19",
   "metadata": {},
   "outputs": [],
   "source": [
    "?load_iris"
   ]
  },
  {
   "cell_type": "code",
   "execution_count": 180,
   "id": "a6474efc",
   "metadata": {},
   "outputs": [],
   "source": [
    "# iris = load_iris(as_frame=True)\n",
    "X, Y = load_iris(return_X_y=True, as_frame=True)"
   ]
  },
  {
   "cell_type": "code",
   "execution_count": 181,
   "id": "680b23b7",
   "metadata": {},
   "outputs": [
    {
     "data": {
      "text/html": [
       "<div>\n",
       "<style scoped>\n",
       "    .dataframe tbody tr th:only-of-type {\n",
       "        vertical-align: middle;\n",
       "    }\n",
       "\n",
       "    .dataframe tbody tr th {\n",
       "        vertical-align: top;\n",
       "    }\n",
       "\n",
       "    .dataframe thead th {\n",
       "        text-align: right;\n",
       "    }\n",
       "</style>\n",
       "<table border=\"1\" class=\"dataframe\">\n",
       "  <thead>\n",
       "    <tr style=\"text-align: right;\">\n",
       "      <th></th>\n",
       "      <th>sepal length (cm)</th>\n",
       "      <th>sepal width (cm)</th>\n",
       "      <th>petal length (cm)</th>\n",
       "      <th>petal width (cm)</th>\n",
       "    </tr>\n",
       "  </thead>\n",
       "  <tbody>\n",
       "    <tr>\n",
       "      <th>0</th>\n",
       "      <td>5.1</td>\n",
       "      <td>3.5</td>\n",
       "      <td>1.4</td>\n",
       "      <td>0.2</td>\n",
       "    </tr>\n",
       "    <tr>\n",
       "      <th>1</th>\n",
       "      <td>4.9</td>\n",
       "      <td>3.0</td>\n",
       "      <td>1.4</td>\n",
       "      <td>0.2</td>\n",
       "    </tr>\n",
       "    <tr>\n",
       "      <th>2</th>\n",
       "      <td>4.7</td>\n",
       "      <td>3.2</td>\n",
       "      <td>1.3</td>\n",
       "      <td>0.2</td>\n",
       "    </tr>\n",
       "    <tr>\n",
       "      <th>3</th>\n",
       "      <td>4.6</td>\n",
       "      <td>3.1</td>\n",
       "      <td>1.5</td>\n",
       "      <td>0.2</td>\n",
       "    </tr>\n",
       "    <tr>\n",
       "      <th>4</th>\n",
       "      <td>5.0</td>\n",
       "      <td>3.6</td>\n",
       "      <td>1.4</td>\n",
       "      <td>0.2</td>\n",
       "    </tr>\n",
       "    <tr>\n",
       "      <th>...</th>\n",
       "      <td>...</td>\n",
       "      <td>...</td>\n",
       "      <td>...</td>\n",
       "      <td>...</td>\n",
       "    </tr>\n",
       "    <tr>\n",
       "      <th>145</th>\n",
       "      <td>6.7</td>\n",
       "      <td>3.0</td>\n",
       "      <td>5.2</td>\n",
       "      <td>2.3</td>\n",
       "    </tr>\n",
       "    <tr>\n",
       "      <th>146</th>\n",
       "      <td>6.3</td>\n",
       "      <td>2.5</td>\n",
       "      <td>5.0</td>\n",
       "      <td>1.9</td>\n",
       "    </tr>\n",
       "    <tr>\n",
       "      <th>147</th>\n",
       "      <td>6.5</td>\n",
       "      <td>3.0</td>\n",
       "      <td>5.2</td>\n",
       "      <td>2.0</td>\n",
       "    </tr>\n",
       "    <tr>\n",
       "      <th>148</th>\n",
       "      <td>6.2</td>\n",
       "      <td>3.4</td>\n",
       "      <td>5.4</td>\n",
       "      <td>2.3</td>\n",
       "    </tr>\n",
       "    <tr>\n",
       "      <th>149</th>\n",
       "      <td>5.9</td>\n",
       "      <td>3.0</td>\n",
       "      <td>5.1</td>\n",
       "      <td>1.8</td>\n",
       "    </tr>\n",
       "  </tbody>\n",
       "</table>\n",
       "<p>150 rows × 4 columns</p>\n",
       "</div>"
      ],
      "text/plain": [
       "     sepal length (cm)  sepal width (cm)  petal length (cm)  petal width (cm)\n",
       "0                  5.1               3.5                1.4               0.2\n",
       "1                  4.9               3.0                1.4               0.2\n",
       "2                  4.7               3.2                1.3               0.2\n",
       "3                  4.6               3.1                1.5               0.2\n",
       "4                  5.0               3.6                1.4               0.2\n",
       "..                 ...               ...                ...               ...\n",
       "145                6.7               3.0                5.2               2.3\n",
       "146                6.3               2.5                5.0               1.9\n",
       "147                6.5               3.0                5.2               2.0\n",
       "148                6.2               3.4                5.4               2.3\n",
       "149                5.9               3.0                5.1               1.8\n",
       "\n",
       "[150 rows x 4 columns]"
      ]
     },
     "execution_count": 181,
     "metadata": {},
     "output_type": "execute_result"
    }
   ],
   "source": [
    "# iris.data\n",
    "X"
   ]
  },
  {
   "cell_type": "code",
   "execution_count": 182,
   "id": "ca6e9419",
   "metadata": {},
   "outputs": [
    {
     "data": {
      "text/plain": [
       "0      0\n",
       "1      0\n",
       "2      0\n",
       "3      0\n",
       "4      0\n",
       "      ..\n",
       "145    2\n",
       "146    2\n",
       "147    2\n",
       "148    2\n",
       "149    2\n",
       "Name: target, Length: 150, dtype: int32"
      ]
     },
     "execution_count": 182,
     "metadata": {},
     "output_type": "execute_result"
    }
   ],
   "source": [
    "# iris.target\n",
    "Y"
   ]
  },
  {
   "cell_type": "code",
   "execution_count": 183,
   "id": "598badbb",
   "metadata": {},
   "outputs": [],
   "source": [
    "# LocalOutlierFactor 기법\n",
    "?LocalOutlierFactor"
   ]
  },
  {
   "cell_type": "code",
   "execution_count": 184,
   "id": "1b54475d",
   "metadata": {},
   "outputs": [],
   "source": [
    "lof = LocalOutlierFactor(novelty=True).fit(X)"
   ]
  },
  {
   "cell_type": "code",
   "execution_count": 185,
   "id": "201f3951",
   "metadata": {},
   "outputs": [
    {
     "data": {
      "text/plain": [
       "-1.5"
      ]
     },
     "execution_count": 185,
     "metadata": {},
     "output_type": "execute_result"
    }
   ],
   "source": [
    "lof.offset_ # = -2"
   ]
  },
  {
   "cell_type": "code",
   "execution_count": 186,
   "id": "a6533342",
   "metadata": {
    "scrolled": false
   },
   "outputs": [
    {
     "data": {
      "text/plain": [
       "array([-0.97441839, -1.01339844, -1.02439063, -1.05593645, -0.95923775,\n",
       "       -1.15241648, -1.02028254, -0.96486836, -1.19431941, -0.96590417,\n",
       "       -1.03930799, -0.96287672, -1.02987361, -1.32568723, -1.48020323,\n",
       "       -1.67187225, -1.15306178, -0.97536351, -1.24180918, -1.00311027,\n",
       "       -1.02534917, -1.0023451 , -1.27368435, -0.99320982, -1.07242318,\n",
       "       -0.98488988, -0.97517153, -0.97921234, -0.97506634, -1.01723168,\n",
       "       -0.99950206, -0.99491375, -1.21162996, -1.36588204, -0.9700006 ,\n",
       "       -0.97752859, -1.07916688, -0.94531486, -1.16500566, -0.97714549,\n",
       "       -0.95284631, -1.77758216, -1.13515903, -1.01241984, -1.13644094,\n",
       "       -1.02786816, -1.00537484, -1.04856947, -1.02026449, -0.96826491,\n",
       "       -1.20282755, -0.99761028, -1.07844066, -1.03364654, -0.9953524 ,\n",
       "       -0.95063526, -0.97716288, -1.43289078, -1.01426701, -1.03276093,\n",
       "       -1.39579148, -0.95668852, -1.07447228, -0.96654775, -1.03021185,\n",
       "       -1.07568011, -0.99430327, -0.99381967, -1.13474606, -1.00090968,\n",
       "       -0.9982163 , -0.98728533, -0.98756259, -0.96888183, -1.00086494,\n",
       "       -1.02705535, -1.0618286 , -1.00010715, -0.96835312, -1.10570227,\n",
       "       -1.05503013, -1.1067469 , -0.99553264, -1.01692288, -1.0542182 ,\n",
       "       -1.0182595 , -1.03278414, -1.08163682, -0.98555625, -0.99935531,\n",
       "       -0.99124757, -0.97370626, -0.99792266, -1.40134164, -0.99484071,\n",
       "       -0.97677637, -0.9812313 , -0.95835335, -1.51186797, -0.98872631,\n",
       "       -1.12552994, -1.0490155 , -1.05969719, -0.98545797, -1.00308223,\n",
       "       -1.39955435, -1.37346792, -1.26699243, -1.0727308 , -1.22058688,\n",
       "       -0.97630571, -0.9764111 , -0.97821619, -1.12232338, -1.13594109,\n",
       "       -0.98625442, -0.97606518, -1.5729902 , -1.624653  , -1.13561058,\n",
       "       -1.0314436 , -1.10024017, -1.49136493, -0.96026961, -1.00372967,\n",
       "       -1.14374096, -0.95077926, -0.97567184, -0.98544355, -1.16737397,\n",
       "       -1.24497178, -1.54728768, -0.9890867 , -0.97493325, -1.12681427,\n",
       "       -1.30387537, -1.02105813, -0.96743736, -0.99413098, -0.98364695,\n",
       "       -1.00543425, -1.02526699, -1.0490155 , -1.03077096, -1.03991469,\n",
       "       -0.97847445, -1.00199241, -0.98064825, -1.02181858, -1.00828457])"
      ]
     },
     "execution_count": 186,
     "metadata": {},
     "output_type": "execute_result"
    }
   ],
   "source": [
    "lof.negative_outlier_factor_"
   ]
  },
  {
   "cell_type": "code",
   "execution_count": 187,
   "id": "74596734",
   "metadata": {},
   "outputs": [
    {
     "data": {
      "text/plain": [
       "array([ 1,  1,  1,  1,  1,  1,  1,  1,  1,  1,  1,  1,  1,  1,  1, -1,  1,\n",
       "        1,  1,  1,  1,  1,  1,  1,  1,  1,  1,  1,  1,  1,  1,  1,  1,  1,\n",
       "        1,  1,  1,  1,  1,  1,  1, -1,  1,  1,  1,  1,  1,  1,  1,  1,  1,\n",
       "        1,  1,  1,  1,  1,  1,  1,  1,  1,  1,  1,  1,  1,  1,  1,  1,  1,\n",
       "        1,  1,  1,  1,  1,  1,  1,  1,  1,  1,  1,  1,  1,  1,  1,  1,  1,\n",
       "        1,  1,  1,  1,  1,  1,  1,  1,  1,  1,  1,  1,  1,  1,  1,  1,  1,\n",
       "        1,  1,  1,  1,  1,  1,  1,  1,  1,  1,  1,  1,  1,  1,  1, -1, -1,\n",
       "        1,  1,  1,  1,  1,  1,  1,  1,  1,  1,  1,  1, -1,  1,  1,  1,  1,\n",
       "        1,  1,  1,  1,  1,  1,  1,  1,  1,  1,  1,  1,  1,  1])"
      ]
     },
     "execution_count": 187,
     "metadata": {},
     "output_type": "execute_result"
    }
   ],
   "source": [
    "lof_outlier = lof.predict(X)\n",
    "lof_outlier # 1: 정상, -1: 이상치"
   ]
  },
  {
   "cell_type": "code",
   "execution_count": 188,
   "id": "6aef0b47",
   "metadata": {},
   "outputs": [],
   "source": [
    "# offset을 바꿔보자\n",
    "lof.offset_ = -2"
   ]
  },
  {
   "cell_type": "code",
   "execution_count": 189,
   "id": "e1435951",
   "metadata": {},
   "outputs": [
    {
     "data": {
      "text/plain": [
       "array([-0.97441839, -1.01339844, -1.02439063, -1.05593645, -0.95923775,\n",
       "       -1.15241648, -1.02028254, -0.96486836, -1.19431941, -0.96590417,\n",
       "       -1.03930799, -0.96287672, -1.02987361, -1.32568723, -1.48020323,\n",
       "       -1.67187225, -1.15306178, -0.97536351, -1.24180918, -1.00311027,\n",
       "       -1.02534917, -1.0023451 , -1.27368435, -0.99320982, -1.07242318,\n",
       "       -0.98488988, -0.97517153, -0.97921234, -0.97506634, -1.01723168,\n",
       "       -0.99950206, -0.99491375, -1.21162996, -1.36588204, -0.9700006 ,\n",
       "       -0.97752859, -1.07916688, -0.94531486, -1.16500566, -0.97714549,\n",
       "       -0.95284631, -1.77758216, -1.13515903, -1.01241984, -1.13644094,\n",
       "       -1.02786816, -1.00537484, -1.04856947, -1.02026449, -0.96826491,\n",
       "       -1.20282755, -0.99761028, -1.07844066, -1.03364654, -0.9953524 ,\n",
       "       -0.95063526, -0.97716288, -1.43289078, -1.01426701, -1.03276093,\n",
       "       -1.39579148, -0.95668852, -1.07447228, -0.96654775, -1.03021185,\n",
       "       -1.07568011, -0.99430327, -0.99381967, -1.13474606, -1.00090968,\n",
       "       -0.9982163 , -0.98728533, -0.98756259, -0.96888183, -1.00086494,\n",
       "       -1.02705535, -1.0618286 , -1.00010715, -0.96835312, -1.10570227,\n",
       "       -1.05503013, -1.1067469 , -0.99553264, -1.01692288, -1.0542182 ,\n",
       "       -1.0182595 , -1.03278414, -1.08163682, -0.98555625, -0.99935531,\n",
       "       -0.99124757, -0.97370626, -0.99792266, -1.40134164, -0.99484071,\n",
       "       -0.97677637, -0.9812313 , -0.95835335, -1.51186797, -0.98872631,\n",
       "       -1.12552994, -1.0490155 , -1.05969719, -0.98545797, -1.00308223,\n",
       "       -1.39955435, -1.37346792, -1.26699243, -1.0727308 , -1.22058688,\n",
       "       -0.97630571, -0.9764111 , -0.97821619, -1.12232338, -1.13594109,\n",
       "       -0.98625442, -0.97606518, -1.5729902 , -1.624653  , -1.13561058,\n",
       "       -1.0314436 , -1.10024017, -1.49136493, -0.96026961, -1.00372967,\n",
       "       -1.14374096, -0.95077926, -0.97567184, -0.98544355, -1.16737397,\n",
       "       -1.24497178, -1.54728768, -0.9890867 , -0.97493325, -1.12681427,\n",
       "       -1.30387537, -1.02105813, -0.96743736, -0.99413098, -0.98364695,\n",
       "       -1.00543425, -1.02526699, -1.0490155 , -1.03077096, -1.03991469,\n",
       "       -0.97847445, -1.00199241, -0.98064825, -1.02181858, -1.00828457])"
      ]
     },
     "execution_count": 189,
     "metadata": {},
     "output_type": "execute_result"
    }
   ],
   "source": [
    "lof.negative_outlier_factor_"
   ]
  },
  {
   "cell_type": "code",
   "execution_count": 190,
   "id": "b13168fe",
   "metadata": {},
   "outputs": [
    {
     "data": {
      "text/plain": [
       "array([1, 1, 1, 1, 1, 1, 1, 1, 1, 1, 1, 1, 1, 1, 1, 1, 1, 1, 1, 1, 1, 1,\n",
       "       1, 1, 1, 1, 1, 1, 1, 1, 1, 1, 1, 1, 1, 1, 1, 1, 1, 1, 1, 1, 1, 1,\n",
       "       1, 1, 1, 1, 1, 1, 1, 1, 1, 1, 1, 1, 1, 1, 1, 1, 1, 1, 1, 1, 1, 1,\n",
       "       1, 1, 1, 1, 1, 1, 1, 1, 1, 1, 1, 1, 1, 1, 1, 1, 1, 1, 1, 1, 1, 1,\n",
       "       1, 1, 1, 1, 1, 1, 1, 1, 1, 1, 1, 1, 1, 1, 1, 1, 1, 1, 1, 1, 1, 1,\n",
       "       1, 1, 1, 1, 1, 1, 1, 1, 1, 1, 1, 1, 1, 1, 1, 1, 1, 1, 1, 1, 1, 1,\n",
       "       1, 1, 1, 1, 1, 1, 1, 1, 1, 1, 1, 1, 1, 1, 1, 1, 1, 1])"
      ]
     },
     "execution_count": 190,
     "metadata": {},
     "output_type": "execute_result"
    }
   ],
   "source": [
    "lof_outlier = lof.predict(X)\n",
    "lof_outlier # 1: 정상, -1: 이상치"
   ]
  },
  {
   "cell_type": "code",
   "execution_count": null,
   "id": "220789f6",
   "metadata": {},
   "outputs": [],
   "source": [
    "# =============================================================================\n",
    "# 2.성별에 따라 forehead_ratio 평균에 차이가 있는지 적절한 통계 검정을 수행하시오.\n",
    "# - 검정은 이분산을 가정하고 수행한다.\n",
    "# - 검정통계량의 추정치는 절대값을 취한 후 소수점 셋째 자리까지 반올림하여\n",
    "# 기술하시오.\n",
    "# - 신뢰수준 99%에서 양측 검정을 수행하고 결과는 귀무가설 기각의 경우 Y로, 그렇지\n",
    "# 않을 경우 N으로 답하시오. (답안 예시) 1.234, Y\n",
    "# ============================================================================="
   ]
  },
  {
   "cell_type": "code",
   "execution_count": null,
   "id": "d928e05d",
   "metadata": {},
   "outputs": [],
   "source": [
    "# 일표본 t 가설 검정\n",
    "# mu == 0, mu >= 0, mu <= 0\n",
    "# mu != 0, mu < 0,  mu > 0\n",
    "\n",
    "# 이표본 t 가설 검정\n",
    "# H0: muA == muB, muA >= muB, muA <= muB, muA - muB == 0\n",
    "# H1: muA != muB, muA < muB, muA > muB,  muA - muB != 0\n",
    "\n",
    "# => 독립: 측정 도구 동일. 그룹내에서는 동일 대상(제품) 반복 측정.\n",
    "#          그룹 간에는 동급 제품들을 대상으로 해야 함\n",
    "# => 대응: "
   ]
  },
  {
   "cell_type": "code",
   "execution_count": null,
   "id": "002173d2",
   "metadata": {},
   "outputs": [],
   "source": []
  },
  {
   "cell_type": "code",
   "execution_count": null,
   "id": "f855f318",
   "metadata": {},
   "outputs": [],
   "source": [
    "# =============================================================================\n",
    "# 3.주어진 데이터를 사용하여 성별을 구분할 수 있는지 로지스틱 회귀분석을 적용하여\n",
    "# 알아 보고자 한다. \n",
    "# - 데이터를 7대 3으로 나누어 각각 Train과 Test set로 사용한다. 이 때 seed는 123으로\n",
    "# 한다.\n",
    "# - 원 데이터에 있는 7개의 변수만 Feature로 사용하고 gender를 label로 사용한다.\n",
    "# (forehead_ratio는 사용하지 않음)\n",
    "# - 로지스틱 회귀분석 예측 함수와 Test dataset를 사용하여 예측을 수행하고 정확도를\n",
    "# 평가한다. 이 때 임계값은 0.5를 사용한다. \n",
    "# - Male의 Precision 값을 소수점 둘째 자리까지 반올림하여 기술하시오. (답안 예시) \n",
    "# 0.12\n",
    "# \n",
    "# \n",
    "# (참고) \n",
    "# from sklearn.linear_model import LogisticRegression\n",
    "# from sklearn.model_selection import train_test_split\n",
    "# from sklearn import metrics\n",
    "# train_test_split 의 random_state = 123\n",
    "# ============================================================================="
   ]
  },
  {
   "cell_type": "code",
   "execution_count": null,
   "id": "81cc313a",
   "metadata": {},
   "outputs": [],
   "source": []
  },
  {
   "cell_type": "code",
   "execution_count": null,
   "id": "c893e036",
   "metadata": {},
   "outputs": [],
   "source": []
  },
  {
   "cell_type": "markdown",
   "id": "88282e11",
   "metadata": {},
   "source": [
    " # 문제 04 유형(DataSet_04.csv 이용)"
   ]
  },
  {
   "cell_type": "code",
   "execution_count": null,
   "id": "88648acc",
   "metadata": {},
   "outputs": [],
   "source": [
    "# =============================================================================\n",
    "#구분자 : comma(“,”), 6,718 Rows, 4 Columns, UTF-8 인코딩\n",
    "\n",
    "# 한국인의 식생활 변화가 건강에 미치는 영향을 분석하기에 앞서 육류\n",
    "# 소비량에 대한 분석을 하려고 한다. 확보한 데이터는 세계 각국의 1인당\n",
    "# 육류 소비량 데이터로 아래와 같은 내용을 담고 있다.\n",
    "\n",
    "# 컬 럼 / 정 의 / Type\n",
    "# LOCATION / 국가명 / String\n",
    "# SUBJECT / 육류 종류 (BEEF / PIG / POULTRY / SHEEP) / String\n",
    "# TIME / 연도 (1990 ~ 2026) / Integer\n",
    "# Value / 1인당 육류 소비량 (KG) / Double\n",
    "# =============================================================================\n",
    "# =============================================================================\n",
    "\n",
    "# (참고)\n",
    "# #1\n",
    "# import pandas as pd\n",
    "# import numpy as np\n",
    "# #2\n",
    "# from scipy.stats import ttest_rel\n",
    "# #3\n",
    "# from sklearn.linear_model import LinearRegression"
   ]
  },
  {
   "cell_type": "code",
   "execution_count": null,
   "id": "1fe5efed",
   "metadata": {},
   "outputs": [],
   "source": [
    "# =============================================================================\n",
    "# 1.한국인의 1인당 육류 소비량이 해가 갈수록 증가하는 것으로 보여 상관분석을 통하여\n",
    "# 확인하려고 한다. \n",
    "# - 데이터 파일로부터 한국 데이터만 추출한다. 한국은 KOR로 표기되어 있다.\n",
    "# - 년도별 육류 소비량 합계를 구하여 TIME과 Value간의 상관분석을 수행하고\n",
    "# 상관계수를 소수점 셋째 자리에서 반올림하여 소수점 둘째 자리까지만 기술하시오. \n",
    "# (답안 예시) 0.55\n",
    "# ============================================================================="
   ]
  },
  {
   "cell_type": "code",
   "execution_count": null,
   "id": "cd2a946e",
   "metadata": {},
   "outputs": [],
   "source": []
  },
  {
   "cell_type": "code",
   "execution_count": null,
   "id": "6aef9a5b",
   "metadata": {},
   "outputs": [],
   "source": []
  },
  {
   "cell_type": "code",
   "execution_count": null,
   "id": "54983fd8",
   "metadata": {},
   "outputs": [],
   "source": [
    "# =============================================================================\n",
    "# 2. 한국 인근 국가 가운데 식생의 유사성이 상대적으로 높은 일본(JPN)과 비교하여, 연도별\n",
    "# 소비량에 평균 차이가 있는지 분석하고자 한다.\n",
    "# - 두 국가의 육류별 소비량을 연도기준으로 비교하는 대응표본 t 검정을 수행하시오.\n",
    "# - 두 국가 간의 연도별 소비량 차이가 없는 것으로 판단할 수 있는 육류 종류를 모두\n",
    "# 적으시오. (알파벳 순서) (답안 예시) BEEF, PIG, POULTRY, SHEEP\n",
    "# ============================================================================="
   ]
  },
  {
   "cell_type": "code",
   "execution_count": null,
   "id": "e0172e04",
   "metadata": {},
   "outputs": [],
   "source": []
  },
  {
   "cell_type": "code",
   "execution_count": null,
   "id": "6a806ba8",
   "metadata": {},
   "outputs": [],
   "source": []
  },
  {
   "cell_type": "code",
   "execution_count": null,
   "id": "c1191fd1",
   "metadata": {},
   "outputs": [],
   "source": [
    "# =============================================================================\n",
    "# 3.(한국만 포함한 데이터에서) Time을 독립변수로, Value를 종속변수로 하여 육류\n",
    "# 종류(SUBJECT) 별로 회귀분석을 수행하였을 때, 가장 높은 결정계수를 가진 모델의\n",
    "# 학습오차 중 MAPE를 반올림하여 소수점 둘째 자리까지 기술하시오. (답안 예시) 21.12\n",
    "# (MAPE : Mean Absolute Percentage Error, 평균 절대 백분율 오차)\n",
    "# (MAPE = Σ ( | y - y ̂ | / y ) * 100/n ))\n",
    "# \n",
    "# ============================================================================="
   ]
  },
  {
   "cell_type": "code",
   "execution_count": null,
   "id": "855a304f",
   "metadata": {},
   "outputs": [],
   "source": [
    "\n",
    "# =============================================================================\n",
    "# # 문제 05 유형(DataSet_05.csv 이용)\n",
    "#\n",
    "\n",
    "# 구분자 : comma(“,”), 8,068 Rows, 12 Columns, UTF-8 인코딩\n",
    "#\n",
    "# A자동차 회사는 신규 진입하는 시장에 기존 모델을 판매하기 위한 마케팅 전략을 \n",
    "# 세우려고 한다. 기존 시장과 고객 특성이 유사하다는 전제 하에 기존 고객을 세분화하여\n",
    "# 각 그룹의 특징을 파악하고, 이를 이용하여 신규 진입 시장의 마케팅 계획을 \n",
    "# 수립하고자 한다. 다음은 기존 시장 고객에 대한 데이터이다.\n",
    "#\n",
    "\n",
    "# 컬 럼 / 정 의 / Type\n",
    "# ID / 고유 식별자 / Double\n",
    "# Age / 나이 / Double\n",
    "# Age_gr / 나이 그룹 (10/20/30/40/50/60/70) / Double\n",
    "# Gender / 성별 (여성 : 0 / 남성 : 1) / Double\n",
    "# Work_Experience / 취업 연수 (0 ~ 14) / Double\n",
    "# Family_Size / 가족 규모 (1 ~ 9) / Double\n",
    "# Ever_Married / 결혼 여부 (Unknown : 0 / No : 1 / Yes : 2) / Double\n",
    "# Graduated / 재학 중인지 여부 / Double\n",
    "# Profession / 직업 (Unknown : 0 / Artist ~ Marketing 등 9개) / Double\n",
    "# Spending_Score / 소비 점수 (Average : 0 / High : 1 / Low : 2) / Double\n",
    "# Var_1 / 내용이 알려지지 않은 고객 분류 코드 (0 ~ 7) / Double\n",
    "# Segmentation / 고객 세분화 결과 (A ~ D) / String\n",
    "# =============================================================================\n",
    "# =============================================================================\n",
    "\n",
    "\n",
    "#(참고)\n",
    "#1\n",
    "# import pandas as pd\n",
    "# #2\n",
    "# from scipy.stats import chi2_contingency\n",
    "# #3\n",
    "# from sklearn.model_selection import train_test_split\n",
    "# from sklearn import metrics\n",
    "# from sklearn.tree import DecisionTreeClassifier\n",
    "# from sklearn.tree import export_graphviz\n",
    "# import pydot\n",
    "\n",
    "\n",
    "#%%\n",
    "\n",
    "# =============================================================================\n",
    "# 1.위의 표에 표시된 데이터 타입에 맞도록 전처리를 수행하였을 때, 데이터 파일 내에\n",
    "# 존재하는 결측값은 모두 몇 개인가? 숫자형 데이터와 문자열 데이터의 결측값을\n",
    "# 모두 더하여 답하시오.\n",
    "# (String 타입 변수의 경우 White Space(Blank)를 결측으로 처리한다) (답안 예시) 123\n",
    "# =============================================================================\n",
    "\n",
    "\n",
    "\n",
    "\n",
    "\n",
    "\n",
    "#%%\n",
    "\n",
    "# =============================================================================\n",
    "# 2.이어지는 분석을 위해 결측값을 모두 삭제한다. 그리고, 성별이 세분화(Segmentation)에\n",
    "# 영향을 미치는지 독립성 검정을 수행한다. 수행 결과, p-value를 반올림하여 소수점\n",
    "# 넷째 자리까지 쓰고, 귀무가설을 기각하면 Y로, 기각할 수 없으면 N으로 기술하시오. \n",
    "# (답안 예시) 0.2345, N\n",
    "# =============================================================================\n",
    "\n",
    "\n",
    "\n",
    "\n",
    "\n",
    "#%%\n",
    "\n",
    "# =============================================================================\n",
    "# 3.Segmentation 값이 A 또는 D인 데이터만 사용하여 의사결정 나무 기법으로 분류\n",
    "# 정확도를\n",
    "# 측정해 본다. \n",
    "# - 결측치가 포함된 행은 제거한 후 진행하시오.\n",
    "# - Train대 Test 7대3으로 데이터를 분리한다. (Seed = 123)\n",
    "# - Train 데이터를 사용하여 의사결정나무 학습을 수행하고, Test 데이터로 평가를\n",
    "# 수행한다.\n",
    "# - 의사결정나무 학습 시, 다음과 같이 설정하시오:\n",
    "# • Feature: Age_gr, Gender, Work_Experience, Family_Size, \n",
    "#             Ever_Married, Graduated, Spending_Score\n",
    "# • Label : Segmentation\n",
    "# • Parameter : Gini / Max Depth = 7 / Seed = 123\n",
    "# 이 때 전체 정확도(Accuracy)를 소수점 셋째 자리 이하는 버리고 소수점 둘째자리까지\n",
    "# 기술하시오.\n",
    "# (답안 예시) 0.12\n",
    "# ============================================================================="
   ]
  }
 ],
 "metadata": {
  "kernelspec": {
   "display_name": "Python 3 (ipykernel)",
   "language": "python",
   "name": "python3"
  },
  "language_info": {
   "codemirror_mode": {
    "name": "ipython",
    "version": 3
   },
   "file_extension": ".py",
   "mimetype": "text/x-python",
   "name": "python",
   "nbconvert_exporter": "python",
   "pygments_lexer": "ipython3",
   "version": "3.11.4"
  }
 },
 "nbformat": 4,
 "nbformat_minor": 5
}
