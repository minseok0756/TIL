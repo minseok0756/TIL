{
 "cells": [
  {
   "cell_type": "markdown",
   "id": "a79a9902-ef11-45b0-a67c-064c3a0ceff1",
   "metadata": {},
   "source": [
    "# 판다스 UDF를 이용한 전세데이터 전처리"
   ]
  },
  {
   "cell_type": "code",
   "execution_count": 1,
   "id": "fdbe1ad5-d672-4823-9813-ba605fd40cc0",
   "metadata": {},
   "outputs": [],
   "source": [
    "from pyspark.sql import SparkSession"
   ]
  },
  {
   "cell_type": "code",
   "execution_count": 2,
   "id": "a2c11509-76eb-4bb2-8b10-ed7c302779c9",
   "metadata": {},
   "outputs": [
    {
     "name": "stderr",
     "output_type": "stream",
     "text": [
      "23/09/09 22:28:13 WARN Utils: Your hostname, minseok-VirtualBox resolves to a loopback address: 127.0.1.1; using 10.0.2.15 instead (on interface enp0s3)\n",
      "23/09/09 22:28:13 WARN Utils: Set SPARK_LOCAL_IP if you need to bind to another address\n",
      "Setting default log level to \"WARN\".\n",
      "To adjust logging level use sc.setLogLevel(newLevel). For SparkR, use setLogLevel(newLevel).\n",
      "23/09/09 22:28:15 WARN NativeCodeLoader: Unable to load native-hadoop library for your platform... using builtin-java classes where applicable\n"
     ]
    }
   ],
   "source": [
    "spark = SparkSession.builder.appName('preprocessing').getOrCreate()"
   ]
  },
  {
   "cell_type": "code",
   "execution_count": 3,
   "id": "0d9b19f9-e2f1-4613-9959-a52bb9a10267",
   "metadata": {},
   "outputs": [
    {
     "name": "stderr",
     "output_type": "stream",
     "text": [
      "                                                                                \r"
     ]
    }
   ],
   "source": [
    "df = spark.read.csv('18_19_20_강남구전세실거래가_구분_u.csv', inferSchema=True, header=True)"
   ]
  },
  {
   "cell_type": "code",
   "execution_count": 4,
   "id": "51ee4d7e-f88c-4c50-a71b-9155bce9ab4b",
   "metadata": {},
   "outputs": [
    {
     "name": "stdout",
     "output_type": "stream",
     "text": [
      "root\n",
      " |-- 시군구: string (nullable = true)\n",
      " |-- 번지: string (nullable = true)\n",
      " |-- 도로조건: string (nullable = true)\n",
      " |-- 계약면적(㎡): double (nullable = true)\n",
      " |-- 전월세구분: string (nullable = true)\n",
      " |-- 계약년월: integer (nullable = true)\n",
      " |-- 계약일: integer (nullable = true)\n",
      " |-- 보증금(만원): string (nullable = true)\n",
      " |-- 월세(만원): string (nullable = true)\n",
      " |-- 건축년도: double (nullable = true)\n",
      " |-- 도로명: string (nullable = true)\n",
      " |-- 계약기간: string (nullable = true)\n",
      " |-- 계약구분: string (nullable = true)\n",
      " |-- 갱신요구권 사용: string (nullable = true)\n",
      " |-- 종전계약 보증금 (만원): string (nullable = true)\n",
      " |-- 종전계약 월세 (만원): string (nullable = true)\n",
      " |-- 구분: string (nullable = true)\n",
      " |-- 본번: double (nullable = true)\n",
      " |-- 부번: double (nullable = true)\n",
      " |-- 단지명: string (nullable = true)\n",
      " |-- 전용면적(㎡): double (nullable = true)\n",
      " |-- 층: double (nullable = true)\n",
      " |-- 건물명: string (nullable = true)\n",
      "\n"
     ]
    }
   ],
   "source": [
    "df.printSchema()"
   ]
  },
  {
   "cell_type": "code",
   "execution_count": 5,
   "id": "11934a64-3c99-4412-856e-026911b9bc97",
   "metadata": {},
   "outputs": [
    {
     "name": "stdout",
     "output_type": "stream",
     "text": [
      "+------------------------+----+--------+------------+----------+--------+------+------------+----------+--------+----------+--------+--------+---------------+----------------------+--------------------+----------+----+----+------+------------+----+------+\n",
      "|                  시군구|번지|도로조건|계약면적(㎡)|전월세구분|계약년월|계약일|보증금(만원)|월세(만원)|건축년도|    도로명|계약기간|계약구분|갱신요구권 사용|종전계약 보증금 (만원)|종전계약 월세 (만원)|      구분|본번|부번|단지명|전용면적(㎡)|  층|건물명|\n",
      "+------------------------+----+--------+------------+----------+--------+------+------------+----------+--------+----------+--------+--------+---------------+----------------------+--------------------+----------+----+----+------+------------+----+------+\n",
      "|서울특별시 강남구 개포동|1***|  8m미만|        10.0|      월세|  201804|    25|         500|        40|  1998.0|개포로20길|       -|       -|              -|                  null|                null|단독다가구|null|null|  null|        null|null|  null|\n",
      "|서울특별시 강남구 개포동|1***|       -|       14.85|      월세|  201804|    12|       2,000|        47|  1989.0|      null|       -|       -|              -|                  null|                null|단독다가구|null|null|  null|        null|null|  null|\n",
      "|서울특별시 강남구 개포동|1***|  8m미만|        16.5|      월세|  201802|    24|         500|        42|  1990.0|개포로15길|       -|       -|              -|                  null|                null|단독다가구|null|null|  null|        null|null|  null|\n",
      "|서울특별시 강남구 개포동|1***| 12m미만|        16.5|      월세|  201807|    30|         600|        55|  1993.0|개포로25길|       -|       -|              -|                  null|                null|단독다가구|null|null|  null|        null|null|  null|\n",
      "|서울특별시 강남구 개포동|1***|       -|        17.0|      월세|  201806|     2|         500|        47|  1991.0|      null|       -|       -|              -|                  null|                null|단독다가구|null|null|  null|        null|null|  null|\n",
      "|서울특별시 강남구 개포동|1***|       -|       18.52|      월세|  201810|    11|       1,500|        30|  1990.0|      null|       -|       -|              -|                  null|                null|단독다가구|null|null|  null|        null|null|  null|\n",
      "|서울특별시 강남구 개포동|1***|  8m미만|        19.8|      월세|  201807|     3|         500|        47|  1998.0|개포로20길|       -|       -|              -|                  null|                null|단독다가구|null|null|  null|        null|null|  null|\n",
      "|서울특별시 강남구 개포동|1***|  8m미만|        19.8|      월세|  201812|     6|         500|        48|  1998.0|개포로20길|       -|       -|              -|                  null|                null|단독다가구|null|null|  null|        null|null|  null|\n",
      "|서울특별시 강남구 개포동|1***|  8m미만|        19.8|      월세|  201807|    19|       5,000|        30|  1996.0|논현로12길|       -|       -|              -|                  null|                null|단독다가구|null|null|  null|        null|null|  null|\n",
      "|서울특별시 강남구 개포동|1***| 12m미만|        19.8|      월세|  201812|    21|       7,000|         6|  1993.0|개포로15길|       -|       -|              -|                  null|                null|단독다가구|null|null|  null|        null|null|  null|\n",
      "+------------------------+----+--------+------------+----------+--------+------+------------+----------+--------+----------+--------+--------+---------------+----------------------+--------------------+----------+----+----+------+------------+----+------+\n",
      "only showing top 10 rows\n",
      "\n"
     ]
    }
   ],
   "source": [
    "df.show(10, True)"
   ]
  },
  {
   "cell_type": "markdown",
   "id": "f92d2baa-3fd7-4307-b60f-e973f3b23057",
   "metadata": {},
   "source": [
    "# 전세 데이터만 골라내기"
   ]
  },
  {
   "cell_type": "code",
   "execution_count": 6,
   "id": "cc48e69c-8bcd-466d-9e47-200be031f809",
   "metadata": {},
   "outputs": [],
   "source": [
    "from pyspark.sql.functions import col"
   ]
  },
  {
   "cell_type": "code",
   "execution_count": 7,
   "id": "43ad0394-eb0c-455d-8169-826f94c1c00b",
   "metadata": {},
   "outputs": [],
   "source": [
    "df_2 = df.where(col('전월세구분') == '전세')"
   ]
  },
  {
   "cell_type": "code",
   "execution_count": 8,
   "id": "ede14b86-f767-43f6-873c-5667ab94a63c",
   "metadata": {},
   "outputs": [
    {
     "name": "stderr",
     "output_type": "stream",
     "text": [
      "[Stage 3:=============================>                             (1 + 1) / 2]\r"
     ]
    },
    {
     "name": "stdout",
     "output_type": "stream",
     "text": [
      "+----------+\n",
      "|전월세구분|\n",
      "+----------+\n",
      "|      전세|\n",
      "+----------+\n",
      "\n"
     ]
    },
    {
     "name": "stderr",
     "output_type": "stream",
     "text": [
      "                                                                                \r"
     ]
    }
   ],
   "source": [
    "# 검증\n",
    "df_2.select('전월세구분').distinct().show()"
   ]
  },
  {
   "cell_type": "markdown",
   "id": "bdb4a910-bd56-492c-8a3d-efe033ccfead",
   "metadata": {},
   "source": [
    "# 도로명 주소 만들기\n",
    "PandasUDF를 사용해본다."
   ]
  },
  {
   "cell_type": "code",
   "execution_count": 9,
   "id": "771f14b0-294b-4fbd-9804-a55846dc9f28",
   "metadata": {},
   "outputs": [],
   "source": [
    "import pandas as pd\n",
    "from pyspark.sql.functions import pandas_udf"
   ]
  },
  {
   "cell_type": "code",
   "execution_count": 10,
   "id": "aa59cc15-05d4-4bfe-be24-bae0a647c112",
   "metadata": {},
   "outputs": [
    {
     "name": "stderr",
     "output_type": "stream",
     "text": [
      "/home/minseok/.local/lib/python3.10/site-packages/pyspark/python/lib/pyspark.zip/pyspark/sql/pandas/serializers.py:229: FutureWarning: is_categorical_dtype is deprecated and will be removed in a future version. Use isinstance(dtype, CategoricalDtype) instead\n"
     ]
    },
    {
     "name": "stdout",
     "output_type": "stream",
     "text": [
      "+----------------------------+\n",
      "|                  도로명주소|\n",
      "+----------------------------+\n",
      "|서울특별시 강남구 개포로22길|\n",
      "| 서울특별시 강남구 논현로4길|\n",
      "| 서울특별시 강남구 논현로8길|\n",
      "| 서울특별시 강남구 논현로6길|\n",
      "| 서울특별시 강남구 논현로8길|\n",
      "| 서울특별시 강남구 논현로6길|\n",
      "| 서울특별시 강남구 논현로6길|\n",
      "| 서울특별시 강남구 논현로6길|\n",
      "| 서울특별시 강남구 논현로2길|\n",
      "|서울특별시 강남구 개포로32길|\n",
      "|서울특별시 강남구 개포로25길|\n",
      "|서울특별시 강남구 개포로25길|\n",
      "| 서울특별시 강남구 논현로8길|\n",
      "| 서울특별시 강남구 논현로6길|\n",
      "|                        null|\n",
      "|서울특별시 강남구 논현로12길|\n",
      "|서울특별시 강남구 논현로18길|\n",
      "|서울특별시 강남구 개포로25길|\n",
      "| 서울특별시 강남구 논현로8길|\n",
      "| 서울특별시 강남구 논현로8길|\n",
      "+----------------------------+\n",
      "only showing top 20 rows\n",
      "\n"
     ]
    },
    {
     "name": "stderr",
     "output_type": "stream",
     "text": [
      "                                                                                \r"
     ]
    }
   ],
   "source": [
    "@pandas_udf('string')\n",
    "def new_address(a:pd.Series, b:pd.Series) -> pd.Series:\n",
    "    return a.str[:10] + b\n",
    "\n",
    "df_2.withColumn('도로명주소', new_address('시군구', '도로명')).select('도로명주소').show()"
   ]
  },
  {
   "cell_type": "code",
   "execution_count": 11,
   "id": "ba594255-a833-4927-b6e9-b83a42ba2bee",
   "metadata": {},
   "outputs": [],
   "source": [
    "df_3 = df_2.withColumn('도로명주소', new_address('시군구', '도로명'))"
   ]
  },
  {
   "cell_type": "markdown",
   "id": "ec4fa129-bcec-475c-b84f-7ec5d33bf00b",
   "metadata": {},
   "source": [
    "null값은 삭제한다"
   ]
  },
  {
   "cell_type": "code",
   "execution_count": 12,
   "id": "8b7d1f6b-f8c4-499e-b642-78fdfea1aa48",
   "metadata": {},
   "outputs": [
    {
     "name": "stderr",
     "output_type": "stream",
     "text": [
      "/home/minseok/.local/lib/python3.10/site-packages/pyspark/python/lib/pyspark.zip/pyspark/sql/pandas/serializers.py:229: FutureWarning: is_categorical_dtype is deprecated and will be removed in a future version. Use isinstance(dtype, CategoricalDtype) instead\n"
     ]
    },
    {
     "name": "stdout",
     "output_type": "stream",
     "text": [
      "+----------------------------+\n",
      "|                  도로명주소|\n",
      "+----------------------------+\n",
      "|서울특별시 강남구 개포로22길|\n",
      "| 서울특별시 강남구 논현로4길|\n",
      "| 서울특별시 강남구 논현로8길|\n",
      "| 서울특별시 강남구 논현로6길|\n",
      "| 서울특별시 강남구 논현로8길|\n",
      "| 서울특별시 강남구 논현로6길|\n",
      "| 서울특별시 강남구 논현로6길|\n",
      "| 서울특별시 강남구 논현로6길|\n",
      "| 서울특별시 강남구 논현로2길|\n",
      "|서울특별시 강남구 개포로32길|\n",
      "|서울특별시 강남구 개포로25길|\n",
      "|서울특별시 강남구 개포로25길|\n",
      "| 서울특별시 강남구 논현로8길|\n",
      "| 서울특별시 강남구 논현로6길|\n",
      "|서울특별시 강남구 논현로12길|\n",
      "|서울특별시 강남구 논현로18길|\n",
      "|서울특별시 강남구 개포로25길|\n",
      "| 서울특별시 강남구 논현로8길|\n",
      "| 서울특별시 강남구 논현로8길|\n",
      "|서울특별시 강남구 개포로25길|\n",
      "+----------------------------+\n",
      "only showing top 20 rows\n",
      "\n"
     ]
    },
    {
     "name": "stderr",
     "output_type": "stream",
     "text": [
      "/home/minseok/.local/lib/python3.10/site-packages/pyspark/python/lib/pyspark.zip/pyspark/sql/pandas/serializers.py:229: FutureWarning: is_categorical_dtype is deprecated and will be removed in a future version. Use isinstance(dtype, CategoricalDtype) instead\n",
      "                                                                                \r"
     ]
    }
   ],
   "source": [
    "df_4 = df_3.na.drop(subset=['도로명주소'])\n",
    "df_4.select('도로명주소').show()"
   ]
  },
  {
   "cell_type": "markdown",
   "id": "898d2a68-0827-46a0-86b8-28eab79d085a",
   "metadata": {},
   "source": [
    "# 행정구역 만들기"
   ]
  },
  {
   "cell_type": "code",
   "execution_count": 13,
   "id": "1830b4c4-c6a1-49d5-bca4-80b418c6e95d",
   "metadata": {},
   "outputs": [
    {
     "name": "stderr",
     "output_type": "stream",
     "text": [
      "/home/minseok/.local/lib/python3.10/site-packages/pyspark/python/lib/pyspark.zip/pyspark/sql/pandas/serializers.py:229: FutureWarning: is_categorical_dtype is deprecated and will be removed in a future version. Use isinstance(dtype, CategoricalDtype) instead\n"
     ]
    },
    {
     "name": "stdout",
     "output_type": "stream",
     "text": [
      "+--------+\n",
      "|행정구역|\n",
      "+--------+\n",
      "|  개포동|\n",
      "|  개포동|\n",
      "|  개포동|\n",
      "|  개포동|\n",
      "|  개포동|\n",
      "|  개포동|\n",
      "|  개포동|\n",
      "|  개포동|\n",
      "|  개포동|\n",
      "|  개포동|\n",
      "|  개포동|\n",
      "|  개포동|\n",
      "|  개포동|\n",
      "|  개포동|\n",
      "|  개포동|\n",
      "|  개포동|\n",
      "|  개포동|\n",
      "|  개포동|\n",
      "|  개포동|\n",
      "|  개포동|\n",
      "+--------+\n",
      "only showing top 20 rows\n",
      "\n"
     ]
    },
    {
     "name": "stderr",
     "output_type": "stream",
     "text": [
      "/home/minseok/.local/lib/python3.10/site-packages/pyspark/python/lib/pyspark.zip/pyspark/sql/pandas/serializers.py:229: FutureWarning: is_categorical_dtype is deprecated and will be removed in a future version. Use isinstance(dtype, CategoricalDtype) instead\n",
      "                                                                                \r"
     ]
    }
   ],
   "source": [
    "@pandas_udf('string')\n",
    "def admin_district(a:pd.Series) -> pd.Series:\n",
    "    return a.str[10:]\n",
    "\n",
    "df_4.withColumn('행정구역', admin_district('시군구')).select('행정구역').show()"
   ]
  },
  {
   "cell_type": "code",
   "execution_count": 14,
   "id": "939d7822-13a1-4db5-8468-d6da4554f9ee",
   "metadata": {},
   "outputs": [],
   "source": [
    "df_5 = df_4.withColumn('행정구역', admin_district('시군구'))"
   ]
  },
  {
   "cell_type": "markdown",
   "id": "4a5c2f8f-663d-4dc2-b84d-78f8d6c4e2ec",
   "metadata": {},
   "source": [
    "# 건물 나이 구하기"
   ]
  },
  {
   "cell_type": "code",
   "execution_count": 15,
   "id": "f262253b-0426-4eee-8d86-9394f5c92862",
   "metadata": {},
   "outputs": [
    {
     "name": "stderr",
     "output_type": "stream",
     "text": [
      "[Stage 9:>                                                          (0 + 1) / 1]\r"
     ]
    },
    {
     "name": "stdout",
     "output_type": "stream",
     "text": [
      "+--------+\n",
      "|건물나이|\n",
      "+--------+\n",
      "|    33.0|\n",
      "|    34.0|\n",
      "|    27.0|\n",
      "|     6.0|\n",
      "|    28.0|\n",
      "|    23.0|\n",
      "|    28.0|\n",
      "|    28.0|\n",
      "|    30.0|\n",
      "|    28.0|\n",
      "|    27.0|\n",
      "|    27.0|\n",
      "|    32.0|\n",
      "|    29.0|\n",
      "|    26.0|\n",
      "|    34.0|\n",
      "|    27.0|\n",
      "|    31.0|\n",
      "|    26.0|\n",
      "|    27.0|\n",
      "+--------+\n",
      "only showing top 20 rows\n",
      "\n"
     ]
    },
    {
     "name": "stderr",
     "output_type": "stream",
     "text": [
      "/home/minseok/.local/lib/python3.10/site-packages/pyspark/python/lib/pyspark.zip/pyspark/sql/pandas/serializers.py:229: FutureWarning: is_categorical_dtype is deprecated and will be removed in a future version. Use isinstance(dtype, CategoricalDtype) instead\n",
      "                                                                                \r"
     ]
    }
   ],
   "source": [
    "df_5.withColumn('건물나이', 2023 - col('건축년도')).select('건물나이').show()"
   ]
  },
  {
   "cell_type": "code",
   "execution_count": 16,
   "id": "e9efe5f5-4c9b-4e57-b965-43be244a4c5f",
   "metadata": {},
   "outputs": [],
   "source": [
    "df_6 = df_5.withColumn('건물나이', 2023 - col('건축년도'))"
   ]
  },
  {
   "cell_type": "markdown",
   "id": "fee89c6e-a42d-4584-a099-d0b7bfce8c70",
   "metadata": {},
   "source": [
    "# 건축년월일 컬럼 만들기"
   ]
  },
  {
   "cell_type": "code",
   "execution_count": 17,
   "id": "43223ac2-92b0-4bf2-8d23-297994197588",
   "metadata": {},
   "outputs": [],
   "source": [
    "from pyspark.sql.functions import to_date, concat"
   ]
  },
  {
   "cell_type": "code",
   "execution_count": 18,
   "id": "bf8850d8-ba37-4cdb-9476-0d5ba85e9652",
   "metadata": {},
   "outputs": [
    {
     "name": "stderr",
     "output_type": "stream",
     "text": [
      "[Stage 10:>                                                         (0 + 1) / 1]\r"
     ]
    },
    {
     "name": "stdout",
     "output_type": "stream",
     "text": [
      "+----------+\n",
      "|건축년월일|\n",
      "+----------+\n",
      "|   2018064|\n",
      "|  20180810|\n",
      "|  20180618|\n",
      "|  20181227|\n",
      "|  20181228|\n",
      "|   2018029|\n",
      "|   2018119|\n",
      "|   2018119|\n",
      "|  20180316|\n",
      "|  20180619|\n",
      "|   2018127|\n",
      "|   2018119|\n",
      "|  20180529|\n",
      "|  20180424|\n",
      "|  20180512|\n",
      "|  20180523|\n",
      "|   2018072|\n",
      "|   2018016|\n",
      "|  20181114|\n",
      "|  20180716|\n",
      "+----------+\n",
      "only showing top 20 rows\n",
      "\n"
     ]
    },
    {
     "name": "stderr",
     "output_type": "stream",
     "text": [
      "/home/minseok/.local/lib/python3.10/site-packages/pyspark/python/lib/pyspark.zip/pyspark/sql/pandas/serializers.py:229: FutureWarning: is_categorical_dtype is deprecated and will be removed in a future version. Use isinstance(dtype, CategoricalDtype) instead\n",
      "                                                                                \r"
     ]
    }
   ],
   "source": [
    "df_6.withColumn('건축년월일', concat(col('계약년월'),col('계약일'))).select('건축년월일').show()"
   ]
  },
  {
   "cell_type": "markdown",
   "id": "bc9b9420-1b1b-4f18-8736-4935961b16da",
   "metadata": {},
   "source": [
    "8자리여야 맞는데 7자리인 레코드가 보인다. 계약일을 확인해본다."
   ]
  },
  {
   "cell_type": "code",
   "execution_count": 19,
   "id": "e380edb5-1802-410c-9987-c041a97b134b",
   "metadata": {},
   "outputs": [
    {
     "name": "stderr",
     "output_type": "stream",
     "text": [
      "[Stage 11:>                                                         (0 + 1) / 1]\r"
     ]
    },
    {
     "name": "stdout",
     "output_type": "stream",
     "text": [
      "+------+\n",
      "|계약일|\n",
      "+------+\n",
      "|     4|\n",
      "|    10|\n",
      "|    18|\n",
      "|    27|\n",
      "|    28|\n",
      "|     9|\n",
      "|     9|\n",
      "|     9|\n",
      "|    16|\n",
      "|    19|\n",
      "|     7|\n",
      "|     9|\n",
      "|    29|\n",
      "|    24|\n",
      "|    12|\n",
      "|    23|\n",
      "|     2|\n",
      "|     6|\n",
      "|    14|\n",
      "|    16|\n",
      "+------+\n",
      "only showing top 20 rows\n",
      "\n"
     ]
    },
    {
     "name": "stderr",
     "output_type": "stream",
     "text": [
      "/home/minseok/.local/lib/python3.10/site-packages/pyspark/python/lib/pyspark.zip/pyspark/sql/pandas/serializers.py:229: FutureWarning: is_categorical_dtype is deprecated and will be removed in a future version. Use isinstance(dtype, CategoricalDtype) instead\n",
      "                                                                                \r"
     ]
    }
   ],
   "source": [
    "df_6.select('계약일').show()\n",
    "\n",
    "# 결과가 왜 이럴까 처음에 데이터를 로드할 때 inferSchema=True 때문일까.."
   ]
  },
  {
   "cell_type": "code",
   "execution_count": 21,
   "id": "b3a7e15e-f3ff-4712-bc79-4553abe9e5b0",
   "metadata": {},
   "outputs": [
    {
     "name": "stdout",
     "output_type": "stream",
     "text": [
      "root\n",
      " |-- 시군구: string (nullable = true)\n",
      " |-- 번지: string (nullable = true)\n",
      " |-- 도로조건: string (nullable = true)\n",
      " |-- 계약면적(㎡): double (nullable = true)\n",
      " |-- 전월세구분: string (nullable = true)\n",
      " |-- 계약년월: integer (nullable = true)\n",
      " |-- 계약일: integer (nullable = true)\n",
      " |-- 보증금(만원): string (nullable = true)\n",
      " |-- 월세(만원): string (nullable = true)\n",
      " |-- 건축년도: double (nullable = true)\n",
      " |-- 도로명: string (nullable = true)\n",
      " |-- 계약기간: string (nullable = true)\n",
      " |-- 계약구분: string (nullable = true)\n",
      " |-- 갱신요구권 사용: string (nullable = true)\n",
      " |-- 종전계약 보증금 (만원): string (nullable = true)\n",
      " |-- 종전계약 월세 (만원): string (nullable = true)\n",
      " |-- 구분: string (nullable = true)\n",
      " |-- 본번: double (nullable = true)\n",
      " |-- 부번: double (nullable = true)\n",
      " |-- 단지명: string (nullable = true)\n",
      " |-- 전용면적(㎡): double (nullable = true)\n",
      " |-- 층: double (nullable = true)\n",
      " |-- 건물명: string (nullable = true)\n",
      " |-- 도로명주소: string (nullable = true)\n",
      " |-- 행정구역: string (nullable = true)\n",
      " |-- 건물나이: double (nullable = true)\n",
      "\n"
     ]
    }
   ],
   "source": [
    "df_6.printSchema()\n",
    "# 다시 보니 계약년월, 계약일 모두 integer구나.."
   ]
  },
  {
   "cell_type": "code",
   "execution_count": 25,
   "id": "c467ffb6-ecb4-4c2a-b0e2-1b24f45d3375",
   "metadata": {},
   "outputs": [
    {
     "name": "stderr",
     "output_type": "stream",
     "text": [
      "[Stage 13:>                                                         (0 + 1) / 1]\r"
     ]
    },
    {
     "name": "stdout",
     "output_type": "stream",
     "text": [
      "+----------+\n",
      "|계약년월일|\n",
      "+----------+\n",
      "|  20180604|\n",
      "|  20180810|\n",
      "|  20180618|\n",
      "|  20181227|\n",
      "|  20181228|\n",
      "|  20180209|\n",
      "|  20181109|\n",
      "|  20181109|\n",
      "|  20180316|\n",
      "|  20180619|\n",
      "|  20181207|\n",
      "|  20181109|\n",
      "|  20180529|\n",
      "|  20180424|\n",
      "|  20180512|\n",
      "|  20180523|\n",
      "|  20180702|\n",
      "|  20180106|\n",
      "|  20181114|\n",
      "|  20180716|\n",
      "+----------+\n",
      "only showing top 20 rows\n",
      "\n"
     ]
    },
    {
     "name": "stderr",
     "output_type": "stream",
     "text": [
      "/home/minseok/.local/lib/python3.10/site-packages/pyspark/python/lib/pyspark.zip/pyspark/sql/pandas/serializers.py:229: FutureWarning: is_categorical_dtype is deprecated and will be removed in a future version. Use isinstance(dtype, CategoricalDtype) instead\n",
      "                                                                                \r"
     ]
    }
   ],
   "source": [
    "df_6.withColumn('계약년월일', col('계약년월')*100 + col('계약일')).select('계약년월일').show()"
   ]
  },
  {
   "cell_type": "code",
   "execution_count": 26,
   "id": "c0dfcecb-e40e-41e9-aa51-81bbb7c16c3c",
   "metadata": {},
   "outputs": [],
   "source": [
    "df_7 = df_6.withColumn('계약년월일', col('계약년월')*100 + col('계약일'))"
   ]
  },
  {
   "cell_type": "code",
   "execution_count": 48,
   "id": "742b7ae1-fd65-4c38-b6e4-d29fbd509b78",
   "metadata": {},
   "outputs": [
    {
     "name": "stderr",
     "output_type": "stream",
     "text": [
      "[Stage 22:>                                                         (0 + 1) / 1]\r"
     ]
    },
    {
     "name": "stdout",
     "output_type": "stream",
     "text": [
      "+----------+\n",
      "|계약년월일|\n",
      "+----------+\n",
      "|2018-06-04|\n",
      "|2018-08-10|\n",
      "|2018-06-18|\n",
      "|2018-12-27|\n",
      "|2018-12-28|\n",
      "|2018-02-09|\n",
      "|2018-11-09|\n",
      "|2018-11-09|\n",
      "|2018-03-16|\n",
      "|2018-06-19|\n",
      "|2018-12-07|\n",
      "|2018-11-09|\n",
      "|2018-05-29|\n",
      "|2018-04-24|\n",
      "|2018-05-12|\n",
      "|2018-05-23|\n",
      "|2018-07-02|\n",
      "|2018-01-06|\n",
      "|2018-11-14|\n",
      "|2018-07-16|\n",
      "+----------+\n",
      "only showing top 20 rows\n",
      "\n"
     ]
    },
    {
     "name": "stderr",
     "output_type": "stream",
     "text": [
      "/home/minseok/.local/lib/python3.10/site-packages/pyspark/python/lib/pyspark.zip/pyspark/sql/pandas/serializers.py:229: FutureWarning: is_categorical_dtype is deprecated and will be removed in a future version. Use isinstance(dtype, CategoricalDtype) instead\n",
      "                                                                                \r"
     ]
    }
   ],
   "source": [
    "df_7.withColumn('계약년월일', to_date(col('계약년월일'), format='yyyyMMdd')).select('계약년월일').show()\n",
    "# integer를 date로 바꾸는것도 가능하구나"
   ]
  },
  {
   "cell_type": "code",
   "execution_count": 49,
   "id": "e5f7feda-0586-4ab9-bf65-885f9ff68970",
   "metadata": {},
   "outputs": [],
   "source": [
    "df_8 = df_7.withColumn('계약년월일', to_date(col('계약년월일'), format='yyyyMMdd'))"
   ]
  },
  {
   "cell_type": "markdown",
   "id": "04d39183-191c-4719-a249-2e2341014241",
   "metadata": {},
   "source": [
    "# 보증금 전처리"
   ]
  },
  {
   "cell_type": "code",
   "execution_count": 55,
   "id": "5e1be9e7-3b72-4562-8326-322c1867ae2a",
   "metadata": {},
   "outputs": [
    {
     "name": "stderr",
     "output_type": "stream",
     "text": [
      "/home/minseok/.local/lib/python3.10/site-packages/pyspark/python/lib/pyspark.zip/pyspark/sql/pandas/serializers.py:229: FutureWarning: is_categorical_dtype is deprecated and will be removed in a future version. Use isinstance(dtype, CategoricalDtype) instead\n"
     ]
    },
    {
     "name": "stdout",
     "output_type": "stream",
     "text": [
      "+------+\n",
      "|보증금|\n",
      "+------+\n",
      "|  6000|\n",
      "|  7000|\n",
      "|  9000|\n",
      "| 12000|\n",
      "|  8000|\n",
      "|  5000|\n",
      "|  4000|\n",
      "|  4000|\n",
      "|  7000|\n",
      "|  4500|\n",
      "| 14000|\n",
      "| 10000|\n",
      "|  7500|\n",
      "|  5800|\n",
      "|  6500|\n",
      "|  2000|\n",
      "|  6500|\n",
      "|  9000|\n",
      "|  8000|\n",
      "| 12000|\n",
      "+------+\n",
      "only showing top 20 rows\n",
      "\n"
     ]
    },
    {
     "name": "stderr",
     "output_type": "stream",
     "text": [
      "/home/minseok/.local/lib/python3.10/site-packages/pyspark/python/lib/pyspark.zip/pyspark/sql/pandas/serializers.py:229: FutureWarning: is_categorical_dtype is deprecated and will be removed in a future version. Use isinstance(dtype, CategoricalDtype) instead\n",
      "                                                                                \r"
     ]
    }
   ],
   "source": [
    "@pandas_udf('long')\n",
    "def price_preprocessing(a:pd.Series) -> pd.Series:\n",
    "    return pd.to_numeric(a.str.replace(',', ''))\n",
    "\n",
    "df_8.withColumn('보증금', price_preprocessing('보증금(만원)')).select('보증금').show()"
   ]
  },
  {
   "cell_type": "code",
   "execution_count": 56,
   "id": "1126ff30-d187-400e-9c73-274cb2c7e5fa",
   "metadata": {},
   "outputs": [],
   "source": [
    "df_9 = df_8.withColumn('보증금', price_preprocessing('보증금(만원)'))"
   ]
  },
  {
   "cell_type": "markdown",
   "id": "4751ad00-ec21-4073-885c-28864a6797bf",
   "metadata": {},
   "source": [
    "# PandasUDF 전처리에 유용하다!"
   ]
  }
 ],
 "metadata": {
  "kernelspec": {
   "display_name": "Python 3 (ipykernel)",
   "language": "python",
   "name": "python3"
  },
  "language_info": {
   "codemirror_mode": {
    "name": "ipython",
    "version": 3
   },
   "file_extension": ".py",
   "mimetype": "text/x-python",
   "name": "python",
   "nbconvert_exporter": "python",
   "pygments_lexer": "ipython3",
   "version": "3.10.12"
  }
 },
 "nbformat": 4,
 "nbformat_minor": 5
}
