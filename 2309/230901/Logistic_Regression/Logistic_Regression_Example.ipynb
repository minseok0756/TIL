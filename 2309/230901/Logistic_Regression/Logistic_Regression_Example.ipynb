{
 "cells": [
  {
   "cell_type": "markdown",
   "metadata": {},
   "source": [
    "# Logistic Regression\n",
    "\n",
    "Let's see an example of how to run a logistic regression with Python and Spark! This is documentation example, we will quickly run through this and then show a more realistic example, afterwards, you will have another consulting project!"
   ]
  },
  {
   "cell_type": "code",
   "execution_count": 1,
   "metadata": {},
   "outputs": [],
   "source": [
    "from pyspark.sql import SparkSession\n",
    "spark = SparkSession.builder.appName('logregdoc').getOrCreate()"
   ]
  },
  {
   "cell_type": "code",
   "execution_count": 2,
   "metadata": {},
   "outputs": [],
   "source": [
    "from pyspark.ml.classification import LogisticRegression"
   ]
  },
  {
   "cell_type": "code",
   "execution_count": 3,
   "metadata": {},
   "outputs": [],
   "source": [
    "# Load training data\n",
    "training = spark.read.format(\"libsvm\").load(\"../sample_libsvm_data.txt\")\n",
    "\n",
    "lr = LogisticRegression()\n",
    "\n",
    "# Fit the model\n",
    "lrModel = lr.fit(training)\n",
    "\n",
    "trainingSummary = lrModel.summary"
   ]
  },
  {
   "cell_type": "code",
   "execution_count": 4,
   "metadata": {},
   "outputs": [
    {
     "name": "stdout",
     "output_type": "stream",
     "text": [
      "root\n",
      " |-- label: double (nullable = true)\n",
      " |-- features: vector (nullable = true)\n",
      " |-- rawPrediction: vector (nullable = true)\n",
      " |-- probability: vector (nullable = true)\n",
      " |-- prediction: double (nullable = false)\n",
      "\n"
     ]
    }
   ],
   "source": [
    "trainingSummary.predictions.printSchema()"
   ]
  },
  {
   "cell_type": "code",
   "execution_count": 5,
   "metadata": {
    "scrolled": true
   },
   "outputs": [
    {
     "name": "stdout",
     "output_type": "stream",
     "text": [
      "+-----+--------------------+--------------------+--------------------+----------+\n",
      "|label|            features|       rawPrediction|         probability|prediction|\n",
      "+-----+--------------------+--------------------+--------------------+----------+\n",
      "|  0.0|(692,[127,128,129...|[20.3777627514872...|[0.99999999858729...|       0.0|\n",
      "|  1.0|(692,[158,159,160...|[-21.114014198868...|[6.76550380000472...|       1.0|\n",
      "|  1.0|(692,[124,125,126...|[-23.743613234676...|[4.87842678716177...|       1.0|\n",
      "|  1.0|(692,[152,153,154...|[-19.192574012720...|[4.62137287298144...|       1.0|\n",
      "|  1.0|(692,[151,152,153...|[-20.125398874699...|[1.81823629113068...|       1.0|\n",
      "|  0.0|(692,[129,130,131...|[20.4890549504196...|[0.99999999873608...|       0.0|\n",
      "|  1.0|(692,[158,159,160...|[-21.082940212814...|[6.97903542823766...|       1.0|\n",
      "|  1.0|(692,[99,100,101,...|[-19.622713503550...|[3.00582577446132...|       1.0|\n",
      "|  0.0|(692,[154,155,156...|[21.1594863606582...|[0.99999999935352...|       0.0|\n",
      "|  0.0|(692,[127,128,129...|[28.1036706837287...|[0.99999999999937...|       0.0|\n",
      "|  1.0|(692,[154,155,156...|[-21.054076780106...|[7.18340962960324...|       1.0|\n",
      "|  0.0|(692,[153,154,155...|[26.9648490510184...|[0.99999999999805...|       0.0|\n",
      "|  0.0|(692,[151,152,153...|[32.7855654161400...|[0.99999999999999...|       0.0|\n",
      "|  1.0|(692,[129,130,131...|[-20.331839179667...|[1.47908944089721...|       1.0|\n",
      "|  0.0|(692,[154,155,156...|[21.7830579106564...|[0.99999999965347...|       0.0|\n",
      "|  1.0|(692,[150,151,152...|[-20.640562103728...|[1.08621994880353...|       1.0|\n",
      "|  0.0|(692,[124,125,126...|[22.6400775503731...|[0.99999999985292...|       0.0|\n",
      "|  0.0|(692,[152,153,154...|[38.0712919910909...|           [1.0,0.0]|       0.0|\n",
      "|  1.0|(692,[97,98,99,12...|[-19.830803265627...|[2.44113371545874...|       1.0|\n",
      "|  1.0|(692,[124,125,126...|[-21.016054806036...|[7.46179590484091...|       1.0|\n",
      "+-----+--------------------+--------------------+--------------------+----------+\n",
      "only showing top 20 rows\n",
      "\n"
     ]
    }
   ],
   "source": [
    "trainingSummary.predictions.show()"
   ]
  },
  {
   "cell_type": "code",
   "execution_count": null,
   "metadata": {},
   "outputs": [],
   "source": []
  },
  {
   "cell_type": "code",
   "execution_count": 6,
   "metadata": {},
   "outputs": [],
   "source": [
    "lr_train, lr_test = training.randomSplit([0.7, 0.3])"
   ]
  },
  {
   "cell_type": "code",
   "execution_count": 7,
   "metadata": {},
   "outputs": [],
   "source": [
    "final_model = LogisticRegression()"
   ]
  },
  {
   "cell_type": "code",
   "execution_count": 8,
   "metadata": {},
   "outputs": [],
   "source": [
    "fit_final = final_model.fit(lr_train)"
   ]
  },
  {
   "cell_type": "code",
   "execution_count": 9,
   "metadata": {},
   "outputs": [],
   "source": [
    "prediction_and_labels = fit_final.evaluate(lr_test)"
   ]
  },
  {
   "cell_type": "code",
   "execution_count": 10,
   "metadata": {
    "scrolled": true
   },
   "outputs": [
    {
     "name": "stdout",
     "output_type": "stream",
     "text": [
      "+-----+--------------------+--------------------+--------------------+----------+\n",
      "|label|            features|       rawPrediction|         probability|prediction|\n",
      "+-----+--------------------+--------------------+--------------------+----------+\n",
      "|  0.0|(692,[95,96,97,12...|[20.6607908838790...|[0.99999999893553...|       0.0|\n",
      "|  0.0|(692,[123,124,125...|[24.7460743054424...|[0.99999999998209...|       0.0|\n",
      "|  0.0|(692,[124,125,126...|[35.6615830424048...|[0.99999999999999...|       0.0|\n",
      "|  0.0|(692,[124,125,126...|[22.6465766512818...|[0.99999999985387...|       0.0|\n",
      "|  0.0|(692,[126,127,128...|[32.1238789138313...|[0.99999999999998...|       0.0|\n",
      "|  0.0|(692,[126,127,128...|[22.4476199054542...|[0.99999999982171...|       0.0|\n",
      "|  0.0|(692,[126,127,128...|[27.3365984991992...|[0.99999999999865...|       0.0|\n",
      "|  0.0|(692,[128,129,130...|[22.2189042535875...|[0.99999999977589...|       0.0|\n",
      "|  0.0|(692,[129,130,131...|[19.0130763236875...|[0.99999999446999...|       0.0|\n",
      "|  0.0|(692,[150,151,152...|[21.7441475890435...|[0.99999999963972...|       0.0|\n",
      "|  0.0|(692,[152,153,154...|[18.8678445475890...|[0.99999999360560...|       0.0|\n",
      "|  0.0|(692,[152,153,154...|[35.1824880084403...|[0.99999999999999...|       0.0|\n",
      "|  0.0|(692,[152,153,154...|[12.6203071114161...|[0.99999669578098...|       0.0|\n",
      "|  0.0|(692,[153,154,155...|[29.2917088610241...|[0.99999999999980...|       0.0|\n",
      "|  1.0|(692,[99,100,101,...|[-5.7835737574407...|[0.00306825363486...|       1.0|\n",
      "|  1.0|(692,[123,124,125...|[-23.261914594557...|[7.89730394386962...|       1.0|\n",
      "|  1.0|(692,[123,124,125...|[-20.335292134499...|[1.47399101924929...|       1.0|\n",
      "|  1.0|(692,[124,125,126...|[-21.265069749703...|[5.81697972620059...|       1.0|\n",
      "|  1.0|(692,[125,126,127...|[-19.325275967488...|[4.04705665644051...|       1.0|\n",
      "|  1.0|(692,[126,127,128...|[-24.973873571865...|[1.42555676694046...|       1.0|\n",
      "+-----+--------------------+--------------------+--------------------+----------+\n",
      "only showing top 20 rows\n",
      "\n"
     ]
    }
   ],
   "source": [
    "prediction_and_labels.predictions.show()"
   ]
  },
  {
   "cell_type": "code",
   "execution_count": 30,
   "metadata": {},
   "outputs": [
    {
     "data": {
      "text/plain": [
       "[Row(rawPrediction=DenseVector([20.6608, -20.6608])),\n",
       " Row(rawPrediction=DenseVector([24.7461, -24.7461])),\n",
       " Row(rawPrediction=DenseVector([35.6616, -35.6616])),\n",
       " Row(rawPrediction=DenseVector([22.6466, -22.6466])),\n",
       " Row(rawPrediction=DenseVector([32.1239, -32.1239]))]"
      ]
     },
     "execution_count": 30,
     "metadata": {},
     "output_type": "execute_result"
    }
   ],
   "source": [
    "prediction_and_labels.predictions.select('rawPrediction').head(5)\n",
    "# 결과를 이해할 수 없다."
   ]
  },
  {
   "cell_type": "code",
   "execution_count": 34,
   "metadata": {
    "scrolled": false
   },
   "outputs": [
    {
     "data": {
      "text/plain": [
       "[Row(probability=DenseVector([1.0, 0.0])),\n",
       " Row(probability=DenseVector([1.0, 0.0])),\n",
       " Row(probability=DenseVector([1.0, 0.0])),\n",
       " Row(probability=DenseVector([1.0, 0.0])),\n",
       " Row(probability=DenseVector([1.0, 0.0])),\n",
       " Row(probability=DenseVector([1.0, 0.0])),\n",
       " Row(probability=DenseVector([1.0, 0.0])),\n",
       " Row(probability=DenseVector([1.0, 0.0])),\n",
       " Row(probability=DenseVector([1.0, 0.0])),\n",
       " Row(probability=DenseVector([1.0, 0.0])),\n",
       " Row(probability=DenseVector([1.0, 0.0])),\n",
       " Row(probability=DenseVector([1.0, 0.0])),\n",
       " Row(probability=DenseVector([1.0, 0.0])),\n",
       " Row(probability=DenseVector([1.0, 0.0])),\n",
       " Row(probability=DenseVector([0.0031, 0.9969])),\n",
       " Row(probability=DenseVector([0.0, 1.0])),\n",
       " Row(probability=DenseVector([0.0, 1.0])),\n",
       " Row(probability=DenseVector([0.0, 1.0])),\n",
       " Row(probability=DenseVector([0.0, 1.0])),\n",
       " Row(probability=DenseVector([0.0, 1.0]))]"
      ]
     },
     "execution_count": 34,
     "metadata": {},
     "output_type": "execute_result"
    }
   ],
   "source": [
    "prediction_and_labels.predictions.select('probability').head(20)\n",
    "# probability 컬럼에서 7.897... 같은 숫자가 보여 확인했더니\n",
    "# 7.897e-16 같은 수인듯(이 cell 결과에서는 0으로 표현됨)"
   ]
  },
  {
   "cell_type": "code",
   "execution_count": null,
   "metadata": {},
   "outputs": [],
   "source": []
  },
  {
   "cell_type": "code",
   "execution_count": 11,
   "metadata": {},
   "outputs": [],
   "source": [
    "# May change soon!\n",
    "# from pyspark.mllib.evaluation import MulticlassMetrics"
   ]
  },
  {
   "cell_type": "code",
   "execution_count": 12,
   "metadata": {},
   "outputs": [],
   "source": [
    "# lrModel.evaluate(training)"
   ]
  },
  {
   "cell_type": "code",
   "execution_count": 13,
   "metadata": {},
   "outputs": [],
   "source": [
    "# Usually would do this on a separate test set!\n",
    "# predictionAndLabels = lrModel.evaluate(training)"
   ]
  },
  {
   "cell_type": "code",
   "execution_count": 14,
   "metadata": {},
   "outputs": [],
   "source": [
    "# predictionAndLabels.predictions.show()"
   ]
  },
  {
   "cell_type": "code",
   "execution_count": 15,
   "metadata": {},
   "outputs": [],
   "source": [
    "# predictionAndLabels = predictionAndLabels.predictions.select('label','prediction')"
   ]
  },
  {
   "cell_type": "code",
   "execution_count": 16,
   "metadata": {},
   "outputs": [],
   "source": [
    "# predictionAndLabels.show()"
   ]
  },
  {
   "cell_type": "markdown",
   "metadata": {},
   "source": [
    "## Evaluators\n",
    "\n",
    "Evaluators will be a very important part of our pipline when working with Machine Learning, let's see some basics for Logistic Regression, useful links:\n",
    "\n",
    "https://spark.apache.org/docs/latest/api/python/reference/api/pyspark.ml.evaluation.BinaryClassificationEvaluator.html#pyspark.ml.evaluation.BinaryClassificationEvaluator\n",
    "\n",
    "https://spark.apache.org/docs/latest/api/python/reference/api/pyspark.ml.evaluation.MulticlassClassificationEvaluator.html#pyspark.ml.evaluation.MulticlassClassificationEvaluator"
   ]
  },
  {
   "cell_type": "code",
   "execution_count": 17,
   "metadata": {},
   "outputs": [],
   "source": [
    "from pyspark.ml.evaluation import (BinaryClassificationEvaluator,\n",
    "                                   MulticlassClassificationEvaluator)\n",
    "\n",
    "# 이유는 모르겠지만 BinaryClassificationEvaluator의 평가지표는 'areaUnderROC|areaUnderPR'\n",
    "# MulticlassClassificationEvaluator의 평가지표는\n",
    "# 'subsetAccuracy|accuracy|hammingLoss|precision|recall|f1Measure|precisionByLabel|\n",
    "# recallByLabel|f1MeasureByLabel|microPrecision|microRecall|microF1Measure'을 사용가능하다."
   ]
  },
  {
   "cell_type": "code",
   "execution_count": 18,
   "metadata": {},
   "outputs": [],
   "source": [
    "# rawPredictionCol에는 예측값을 넣어주고\n",
    "# labelCol에는 라벨값을 넣어준다.\n",
    "evaluator = BinaryClassificationEvaluator(rawPredictionCol='prediction',\n",
    "                                          labelCol='label')"
   ]
  },
  {
   "cell_type": "code",
   "execution_count": 19,
   "metadata": {},
   "outputs": [],
   "source": [
    "auc = evaluator.evaluate(prediction_and_labels.predictions)"
   ]
  },
  {
   "cell_type": "code",
   "execution_count": 20,
   "metadata": {},
   "outputs": [
    {
     "data": {
      "text/plain": [
       "1.0"
      ]
     },
     "execution_count": 20,
     "metadata": {},
     "output_type": "execute_result"
    }
   ],
   "source": [
    "auc\n",
    "# AUC값을 의미한다.(ROC의 아래 면적)"
   ]
  },
  {
   "cell_type": "code",
   "execution_count": 21,
   "metadata": {},
   "outputs": [],
   "source": [
    "# For multiclass\n",
    "evaluator = MulticlassClassificationEvaluator(predictionCol='prediction', \n",
    "                                              labelCol='label',metricName='accuracy')"
   ]
  },
  {
   "cell_type": "code",
   "execution_count": 22,
   "metadata": {},
   "outputs": [],
   "source": [
    "acc = evaluator.evaluate(prediction_and_labels.predictions)"
   ]
  },
  {
   "cell_type": "code",
   "execution_count": 23,
   "metadata": {},
   "outputs": [
    {
     "data": {
      "text/plain": [
       "1.0"
      ]
     },
     "execution_count": 23,
     "metadata": {},
     "output_type": "execute_result"
    }
   ],
   "source": [
    "acc\n",
    "# 정확도를 의미한다."
   ]
  },
  {
   "cell_type": "markdown",
   "metadata": {},
   "source": [
    "Okay let's move on see some more examples!"
   ]
  }
 ],
 "metadata": {
  "anaconda-cloud": {},
  "kernelspec": {
   "display_name": "Python 3 (ipykernel)",
   "language": "python",
   "name": "python3"
  },
  "language_info": {
   "codemirror_mode": {
    "name": "ipython",
    "version": 3
   },
   "file_extension": ".py",
   "mimetype": "text/x-python",
   "name": "python",
   "nbconvert_exporter": "python",
   "pygments_lexer": "ipython3",
   "version": "3.11.4"
  }
 },
 "nbformat": 4,
 "nbformat_minor": 1
}
